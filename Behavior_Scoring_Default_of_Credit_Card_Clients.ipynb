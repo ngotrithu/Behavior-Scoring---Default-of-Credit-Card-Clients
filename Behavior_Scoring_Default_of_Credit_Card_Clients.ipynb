{
  "nbformat": 4,
  "nbformat_minor": 0,
  "metadata": {
    "colab": {
      "name": "Behavior Scoring - Default of Credit Card Clients.ipynb",
      "provenance": [],
      "toc_visible": true,
      "authorship_tag": "ABX9TyNS+8Fy+FAK+aLhqfyPdC9+",
      "include_colab_link": true
    },
    "kernelspec": {
      "name": "python3",
      "display_name": "Python 3"
    },
    "language_info": {
      "name": "python"
    }
  },
  "cells": [
    {
      "cell_type": "markdown",
      "metadata": {
        "id": "view-in-github",
        "colab_type": "text"
      },
      "source": [
        "<a href=\"https://colab.research.google.com/github/ngotrithu/Behavior-Scoring-Default-of-Credit-Card-Clients/blob/main/Behavior_Scoring_Default_of_Credit_Card_Clients.ipynb\" target=\"_parent\"><img src=\"https://colab.research.google.com/assets/colab-badge.svg\" alt=\"Open In Colab\"/></a>"
      ]
    },
    {
      "cell_type": "code",
      "execution_count": null,
      "metadata": {
        "id": "exeDgcn31STg"
      },
      "outputs": [],
      "source": [
        "import pandas as pd\n",
        "import numpy as np\n",
        "import matplotlib.pyplot as plt\n",
        "import seaborn as sns\n",
        "from sklearn import preprocessing \n",
        "from sklearn.preprocessing import LabelEncoder\n",
        "from imblearn.over_sampling import SMOTE\n",
        "%matplotlib inline\n",
        "from sklearn.ensemble import RandomForestClassifier\n",
        "from sklearn.linear_model import LogisticRegression\n",
        "from sklearn import datasets, linear_model, metrics\n",
        "from sklearn.ensemble import VotingClassifier\n",
        "from sklearn.model_selection import RepeatedStratifiedKFold\n",
        "from sklearn.model_selection import cross_val_score\n",
        "from sklearn.metrics import accuracy_score, confusion_matrix, classification_report\n",
        "from sklearn.preprocessing import StandardScaler\n",
        "from sklearn.model_selection import train_test_split\n",
        "import warnings\n",
        "warnings.filterwarnings('ignore')"
      ]
    },
    {
      "cell_type": "markdown",
      "source": [
        "* Mục đích: Dự báo xác suất vỡ nợ của KH hay dự báo liệu KH có mất khả năng thanh toán trong kỳ hạn sắp tới hay không?\n",
        "* Bộ dữ liệu này chứa thông tin về các khoản thanh toán mặc định, các yếu tố nhân khẩu học, dữ liệu tín dụng, lịch sử thanh toán và bảng sao kê hóa đơn của các khách hàng sử dụng thẻ tín dụng ở Đài Loan từ tháng 4 năm 2005 đến tháng 9 năm 2005\n",
        "\n",
        "Có tất cả 25 features:\n",
        "\n",
        "* ID: ID of each client\n",
        "* LIMIT_BAL: Amount of given credit in NT dollars (includes individual and family/supplementary credit\n",
        "* SEX: Giới tính (1=male, 2=female)\n",
        "* EDUCATION: (1=graduate school, 2=university, 3=high school, 4=others, 5=unknown, 6=unknown)\n",
        "* MARRIAGE: Tình trạng hôn nhân (1=married, 2=single, 3=others)\n",
        "* AGE: Tuổi\n",
        "* PAY_0: Tình trạng thanh toán tháng 9, 2005 (-1=thanh toán hợp lệ, 1=thanh toán chậm 1 tháng, 2=thanh toán chậm 2 tháng, ... 8=thanh toán chậm 8 tháng, 9=thanh toán chậm 1 tháng)\n",
        "* PAY_2: Tình trạng thanh toán tháng 8, 2005 (thông tin như trên)\n",
        "* PAY_3: Tình trạng thanh toán tháng 7, 2005 (thông tin như trên)\n",
        "* PAY_4: Tình trạng thanh toán tháng 6 , 2005 (thông tin như trên)\n",
        "* PAY_5: Tình trạng thanh toán tháng 5, 2005 (thông tin như trên)\n",
        "* PAY_6: Tình trạng thanh toán tháng 4, 2005 (thông tin như trên)\n",
        "* BILL_AMT1: Hoá đơn tháng 9, 2005 (NT dollar)\n",
        "* BILL_AMT2: Hoá đơn tháng 8, 2005 (NT dollar)\n",
        "* BILL_AMT3: Hoá đơn sao kê hoá đơn tháng 7, 2005 (NT dollar)\n",
        "* BILL_AMT4: Hoá đơn sao kê hoá đơn tháng 6, 2005 (NT dollar)\n",
        "* BILL_AMT5: Hoá đơn sao kê hoá đơn tháng 5, 2005 (NT dollar)\n",
        "* BILL_AMT6: Hoá đơn sao kê hoá đơn tháng 4, 2005 (NT dollar)\n",
        "* PAY_AMT1: Số tiền thanh toán trước đó vào tháng 9, 2005 (NT dollar)\n",
        "* PAY_AMT2: Số tiền thanh toán trước đó vào tháng 8, 2005 (NT dollar)\n",
        "* PAY_AMT3: Số tiền thanh toán trước đó vào tháng 7, 2005 (NT dollar)\n",
        "* PAY_AMT4: Số tiền thanh toán trước đó vào tháng 6, 2005 (NT dollar)\n",
        "* PAY_AMT5: Số tiền thanh toán trước đó vào tháng 5, 2005 (NT dollar)\n",
        "* PAY_AMT6: Số tiền thanh toán trước đó vào tháng 4, 2005 (NT dollar)\n",
        "* default.payment.next.month: Default payment (1=yes, 0=no) (Biến mục tiêu)"
      ],
      "metadata": {
        "id": "jTsrLpxf2O9X"
      }
    },
    {
      "cell_type": "markdown",
      "source": [
        "##Loading dataset"
      ],
      "metadata": {
        "id": "rPrQkUYY8bQf"
      }
    },
    {
      "cell_type": "code",
      "source": [
        "df=pd.read_csv('https://raw.githubusercontent.com/thomasXwang/UCI-Credit-card-defaults/master/UCI_Credit_Card.csv')\n",
        "df.head()"
      ],
      "metadata": {
        "colab": {
          "base_uri": "https://localhost:8080/",
          "height": 300
        },
        "id": "jTytZdi11oP6",
        "outputId": "12b3532b-ca77-4401-d1c7-939295ac8a4a"
      },
      "execution_count": null,
      "outputs": [
        {
          "output_type": "execute_result",
          "data": {
            "text/plain": [
              "   ID  LIMIT_BAL  SEX  EDUCATION  MARRIAGE  AGE  PAY_0  PAY_2  PAY_3  PAY_4  \\\n",
              "0   1    20000.0    2          2         1   24      2      2     -1     -1   \n",
              "1   2   120000.0    2          2         2   26     -1      2      0      0   \n",
              "2   3    90000.0    2          2         2   34      0      0      0      0   \n",
              "3   4    50000.0    2          2         1   37      0      0      0      0   \n",
              "4   5    50000.0    1          2         1   57     -1      0     -1      0   \n",
              "\n",
              "   ...  BILL_AMT4  BILL_AMT5  BILL_AMT6  PAY_AMT1  PAY_AMT2  PAY_AMT3  \\\n",
              "0  ...        0.0        0.0        0.0       0.0     689.0       0.0   \n",
              "1  ...     3272.0     3455.0     3261.0       0.0    1000.0    1000.0   \n",
              "2  ...    14331.0    14948.0    15549.0    1518.0    1500.0    1000.0   \n",
              "3  ...    28314.0    28959.0    29547.0    2000.0    2019.0    1200.0   \n",
              "4  ...    20940.0    19146.0    19131.0    2000.0   36681.0   10000.0   \n",
              "\n",
              "   PAY_AMT4  PAY_AMT5  PAY_AMT6  default.payment.next.month  \n",
              "0       0.0       0.0       0.0                           1  \n",
              "1    1000.0       0.0    2000.0                           1  \n",
              "2    1000.0    1000.0    5000.0                           0  \n",
              "3    1100.0    1069.0    1000.0                           0  \n",
              "4    9000.0     689.0     679.0                           0  \n",
              "\n",
              "[5 rows x 25 columns]"
            ],
            "text/html": [
              "\n",
              "  <div id=\"df-33db3270-d293-4ec4-8ce4-f56f687c3cb7\">\n",
              "    <div class=\"colab-df-container\">\n",
              "      <div>\n",
              "<style scoped>\n",
              "    .dataframe tbody tr th:only-of-type {\n",
              "        vertical-align: middle;\n",
              "    }\n",
              "\n",
              "    .dataframe tbody tr th {\n",
              "        vertical-align: top;\n",
              "    }\n",
              "\n",
              "    .dataframe thead th {\n",
              "        text-align: right;\n",
              "    }\n",
              "</style>\n",
              "<table border=\"1\" class=\"dataframe\">\n",
              "  <thead>\n",
              "    <tr style=\"text-align: right;\">\n",
              "      <th></th>\n",
              "      <th>ID</th>\n",
              "      <th>LIMIT_BAL</th>\n",
              "      <th>SEX</th>\n",
              "      <th>EDUCATION</th>\n",
              "      <th>MARRIAGE</th>\n",
              "      <th>AGE</th>\n",
              "      <th>PAY_0</th>\n",
              "      <th>PAY_2</th>\n",
              "      <th>PAY_3</th>\n",
              "      <th>PAY_4</th>\n",
              "      <th>...</th>\n",
              "      <th>BILL_AMT4</th>\n",
              "      <th>BILL_AMT5</th>\n",
              "      <th>BILL_AMT6</th>\n",
              "      <th>PAY_AMT1</th>\n",
              "      <th>PAY_AMT2</th>\n",
              "      <th>PAY_AMT3</th>\n",
              "      <th>PAY_AMT4</th>\n",
              "      <th>PAY_AMT5</th>\n",
              "      <th>PAY_AMT6</th>\n",
              "      <th>default.payment.next.month</th>\n",
              "    </tr>\n",
              "  </thead>\n",
              "  <tbody>\n",
              "    <tr>\n",
              "      <th>0</th>\n",
              "      <td>1</td>\n",
              "      <td>20000.0</td>\n",
              "      <td>2</td>\n",
              "      <td>2</td>\n",
              "      <td>1</td>\n",
              "      <td>24</td>\n",
              "      <td>2</td>\n",
              "      <td>2</td>\n",
              "      <td>-1</td>\n",
              "      <td>-1</td>\n",
              "      <td>...</td>\n",
              "      <td>0.0</td>\n",
              "      <td>0.0</td>\n",
              "      <td>0.0</td>\n",
              "      <td>0.0</td>\n",
              "      <td>689.0</td>\n",
              "      <td>0.0</td>\n",
              "      <td>0.0</td>\n",
              "      <td>0.0</td>\n",
              "      <td>0.0</td>\n",
              "      <td>1</td>\n",
              "    </tr>\n",
              "    <tr>\n",
              "      <th>1</th>\n",
              "      <td>2</td>\n",
              "      <td>120000.0</td>\n",
              "      <td>2</td>\n",
              "      <td>2</td>\n",
              "      <td>2</td>\n",
              "      <td>26</td>\n",
              "      <td>-1</td>\n",
              "      <td>2</td>\n",
              "      <td>0</td>\n",
              "      <td>0</td>\n",
              "      <td>...</td>\n",
              "      <td>3272.0</td>\n",
              "      <td>3455.0</td>\n",
              "      <td>3261.0</td>\n",
              "      <td>0.0</td>\n",
              "      <td>1000.0</td>\n",
              "      <td>1000.0</td>\n",
              "      <td>1000.0</td>\n",
              "      <td>0.0</td>\n",
              "      <td>2000.0</td>\n",
              "      <td>1</td>\n",
              "    </tr>\n",
              "    <tr>\n",
              "      <th>2</th>\n",
              "      <td>3</td>\n",
              "      <td>90000.0</td>\n",
              "      <td>2</td>\n",
              "      <td>2</td>\n",
              "      <td>2</td>\n",
              "      <td>34</td>\n",
              "      <td>0</td>\n",
              "      <td>0</td>\n",
              "      <td>0</td>\n",
              "      <td>0</td>\n",
              "      <td>...</td>\n",
              "      <td>14331.0</td>\n",
              "      <td>14948.0</td>\n",
              "      <td>15549.0</td>\n",
              "      <td>1518.0</td>\n",
              "      <td>1500.0</td>\n",
              "      <td>1000.0</td>\n",
              "      <td>1000.0</td>\n",
              "      <td>1000.0</td>\n",
              "      <td>5000.0</td>\n",
              "      <td>0</td>\n",
              "    </tr>\n",
              "    <tr>\n",
              "      <th>3</th>\n",
              "      <td>4</td>\n",
              "      <td>50000.0</td>\n",
              "      <td>2</td>\n",
              "      <td>2</td>\n",
              "      <td>1</td>\n",
              "      <td>37</td>\n",
              "      <td>0</td>\n",
              "      <td>0</td>\n",
              "      <td>0</td>\n",
              "      <td>0</td>\n",
              "      <td>...</td>\n",
              "      <td>28314.0</td>\n",
              "      <td>28959.0</td>\n",
              "      <td>29547.0</td>\n",
              "      <td>2000.0</td>\n",
              "      <td>2019.0</td>\n",
              "      <td>1200.0</td>\n",
              "      <td>1100.0</td>\n",
              "      <td>1069.0</td>\n",
              "      <td>1000.0</td>\n",
              "      <td>0</td>\n",
              "    </tr>\n",
              "    <tr>\n",
              "      <th>4</th>\n",
              "      <td>5</td>\n",
              "      <td>50000.0</td>\n",
              "      <td>1</td>\n",
              "      <td>2</td>\n",
              "      <td>1</td>\n",
              "      <td>57</td>\n",
              "      <td>-1</td>\n",
              "      <td>0</td>\n",
              "      <td>-1</td>\n",
              "      <td>0</td>\n",
              "      <td>...</td>\n",
              "      <td>20940.0</td>\n",
              "      <td>19146.0</td>\n",
              "      <td>19131.0</td>\n",
              "      <td>2000.0</td>\n",
              "      <td>36681.0</td>\n",
              "      <td>10000.0</td>\n",
              "      <td>9000.0</td>\n",
              "      <td>689.0</td>\n",
              "      <td>679.0</td>\n",
              "      <td>0</td>\n",
              "    </tr>\n",
              "  </tbody>\n",
              "</table>\n",
              "<p>5 rows × 25 columns</p>\n",
              "</div>\n",
              "      <button class=\"colab-df-convert\" onclick=\"convertToInteractive('df-33db3270-d293-4ec4-8ce4-f56f687c3cb7')\"\n",
              "              title=\"Convert this dataframe to an interactive table.\"\n",
              "              style=\"display:none;\">\n",
              "        \n",
              "  <svg xmlns=\"http://www.w3.org/2000/svg\" height=\"24px\"viewBox=\"0 0 24 24\"\n",
              "       width=\"24px\">\n",
              "    <path d=\"M0 0h24v24H0V0z\" fill=\"none\"/>\n",
              "    <path d=\"M18.56 5.44l.94 2.06.94-2.06 2.06-.94-2.06-.94-.94-2.06-.94 2.06-2.06.94zm-11 1L8.5 8.5l.94-2.06 2.06-.94-2.06-.94L8.5 2.5l-.94 2.06-2.06.94zm10 10l.94 2.06.94-2.06 2.06-.94-2.06-.94-.94-2.06-.94 2.06-2.06.94z\"/><path d=\"M17.41 7.96l-1.37-1.37c-.4-.4-.92-.59-1.43-.59-.52 0-1.04.2-1.43.59L10.3 9.45l-7.72 7.72c-.78.78-.78 2.05 0 2.83L4 21.41c.39.39.9.59 1.41.59.51 0 1.02-.2 1.41-.59l7.78-7.78 2.81-2.81c.8-.78.8-2.07 0-2.86zM5.41 20L4 18.59l7.72-7.72 1.47 1.35L5.41 20z\"/>\n",
              "  </svg>\n",
              "      </button>\n",
              "      \n",
              "  <style>\n",
              "    .colab-df-container {\n",
              "      display:flex;\n",
              "      flex-wrap:wrap;\n",
              "      gap: 12px;\n",
              "    }\n",
              "\n",
              "    .colab-df-convert {\n",
              "      background-color: #E8F0FE;\n",
              "      border: none;\n",
              "      border-radius: 50%;\n",
              "      cursor: pointer;\n",
              "      display: none;\n",
              "      fill: #1967D2;\n",
              "      height: 32px;\n",
              "      padding: 0 0 0 0;\n",
              "      width: 32px;\n",
              "    }\n",
              "\n",
              "    .colab-df-convert:hover {\n",
              "      background-color: #E2EBFA;\n",
              "      box-shadow: 0px 1px 2px rgba(60, 64, 67, 0.3), 0px 1px 3px 1px rgba(60, 64, 67, 0.15);\n",
              "      fill: #174EA6;\n",
              "    }\n",
              "\n",
              "    [theme=dark] .colab-df-convert {\n",
              "      background-color: #3B4455;\n",
              "      fill: #D2E3FC;\n",
              "    }\n",
              "\n",
              "    [theme=dark] .colab-df-convert:hover {\n",
              "      background-color: #434B5C;\n",
              "      box-shadow: 0px 1px 3px 1px rgba(0, 0, 0, 0.15);\n",
              "      filter: drop-shadow(0px 1px 2px rgba(0, 0, 0, 0.3));\n",
              "      fill: #FFFFFF;\n",
              "    }\n",
              "  </style>\n",
              "\n",
              "      <script>\n",
              "        const buttonEl =\n",
              "          document.querySelector('#df-33db3270-d293-4ec4-8ce4-f56f687c3cb7 button.colab-df-convert');\n",
              "        buttonEl.style.display =\n",
              "          google.colab.kernel.accessAllowed ? 'block' : 'none';\n",
              "\n",
              "        async function convertToInteractive(key) {\n",
              "          const element = document.querySelector('#df-33db3270-d293-4ec4-8ce4-f56f687c3cb7');\n",
              "          const dataTable =\n",
              "            await google.colab.kernel.invokeFunction('convertToInteractive',\n",
              "                                                     [key], {});\n",
              "          if (!dataTable) return;\n",
              "\n",
              "          const docLinkHtml = 'Like what you see? Visit the ' +\n",
              "            '<a target=\"_blank\" href=https://colab.research.google.com/notebooks/data_table.ipynb>data table notebook</a>'\n",
              "            + ' to learn more about interactive tables.';\n",
              "          element.innerHTML = '';\n",
              "          dataTable['output_type'] = 'display_data';\n",
              "          await google.colab.output.renderOutput(dataTable, element);\n",
              "          const docLink = document.createElement('div');\n",
              "          docLink.innerHTML = docLinkHtml;\n",
              "          element.appendChild(docLink);\n",
              "        }\n",
              "      </script>\n",
              "    </div>\n",
              "  </div>\n",
              "  "
            ]
          },
          "metadata": {},
          "execution_count": 11
        }
      ]
    },
    {
      "cell_type": "code",
      "source": [
        "df = df.drop(['ID'], axis=1)\n",
        "df = df.rename(columns={'default.payment.next.month': 'def_pay'})\n",
        "df.head()"
      ],
      "metadata": {
        "colab": {
          "base_uri": "https://localhost:8080/",
          "height": 300
        },
        "id": "U99LX13TDumt",
        "outputId": "2d3354d4-0c9a-43aa-9b27-d035108b2d82"
      },
      "execution_count": null,
      "outputs": [
        {
          "output_type": "execute_result",
          "data": {
            "text/plain": [
              "   LIMIT_BAL  SEX  EDUCATION  MARRIAGE  AGE  PAY_0  PAY_2  PAY_3  PAY_4  \\\n",
              "0    20000.0    2          2         1   24      2      2     -1     -1   \n",
              "1   120000.0    2          2         2   26     -1      2      0      0   \n",
              "2    90000.0    2          2         2   34      0      0      0      0   \n",
              "3    50000.0    2          2         1   37      0      0      0      0   \n",
              "4    50000.0    1          2         1   57     -1      0     -1      0   \n",
              "\n",
              "   PAY_5  ...  BILL_AMT4  BILL_AMT5  BILL_AMT6  PAY_AMT1  PAY_AMT2  PAY_AMT3  \\\n",
              "0     -2  ...        0.0        0.0        0.0       0.0     689.0       0.0   \n",
              "1      0  ...     3272.0     3455.0     3261.0       0.0    1000.0    1000.0   \n",
              "2      0  ...    14331.0    14948.0    15549.0    1518.0    1500.0    1000.0   \n",
              "3      0  ...    28314.0    28959.0    29547.0    2000.0    2019.0    1200.0   \n",
              "4      0  ...    20940.0    19146.0    19131.0    2000.0   36681.0   10000.0   \n",
              "\n",
              "   PAY_AMT4  PAY_AMT5  PAY_AMT6  def_pay  \n",
              "0       0.0       0.0       0.0        1  \n",
              "1    1000.0       0.0    2000.0        1  \n",
              "2    1000.0    1000.0    5000.0        0  \n",
              "3    1100.0    1069.0    1000.0        0  \n",
              "4    9000.0     689.0     679.0        0  \n",
              "\n",
              "[5 rows x 24 columns]"
            ],
            "text/html": [
              "\n",
              "  <div id=\"df-e1d594a6-6e7b-4714-85b0-b5d3a30e996d\">\n",
              "    <div class=\"colab-df-container\">\n",
              "      <div>\n",
              "<style scoped>\n",
              "    .dataframe tbody tr th:only-of-type {\n",
              "        vertical-align: middle;\n",
              "    }\n",
              "\n",
              "    .dataframe tbody tr th {\n",
              "        vertical-align: top;\n",
              "    }\n",
              "\n",
              "    .dataframe thead th {\n",
              "        text-align: right;\n",
              "    }\n",
              "</style>\n",
              "<table border=\"1\" class=\"dataframe\">\n",
              "  <thead>\n",
              "    <tr style=\"text-align: right;\">\n",
              "      <th></th>\n",
              "      <th>LIMIT_BAL</th>\n",
              "      <th>SEX</th>\n",
              "      <th>EDUCATION</th>\n",
              "      <th>MARRIAGE</th>\n",
              "      <th>AGE</th>\n",
              "      <th>PAY_0</th>\n",
              "      <th>PAY_2</th>\n",
              "      <th>PAY_3</th>\n",
              "      <th>PAY_4</th>\n",
              "      <th>PAY_5</th>\n",
              "      <th>...</th>\n",
              "      <th>BILL_AMT4</th>\n",
              "      <th>BILL_AMT5</th>\n",
              "      <th>BILL_AMT6</th>\n",
              "      <th>PAY_AMT1</th>\n",
              "      <th>PAY_AMT2</th>\n",
              "      <th>PAY_AMT3</th>\n",
              "      <th>PAY_AMT4</th>\n",
              "      <th>PAY_AMT5</th>\n",
              "      <th>PAY_AMT6</th>\n",
              "      <th>def_pay</th>\n",
              "    </tr>\n",
              "  </thead>\n",
              "  <tbody>\n",
              "    <tr>\n",
              "      <th>0</th>\n",
              "      <td>20000.0</td>\n",
              "      <td>2</td>\n",
              "      <td>2</td>\n",
              "      <td>1</td>\n",
              "      <td>24</td>\n",
              "      <td>2</td>\n",
              "      <td>2</td>\n",
              "      <td>-1</td>\n",
              "      <td>-1</td>\n",
              "      <td>-2</td>\n",
              "      <td>...</td>\n",
              "      <td>0.0</td>\n",
              "      <td>0.0</td>\n",
              "      <td>0.0</td>\n",
              "      <td>0.0</td>\n",
              "      <td>689.0</td>\n",
              "      <td>0.0</td>\n",
              "      <td>0.0</td>\n",
              "      <td>0.0</td>\n",
              "      <td>0.0</td>\n",
              "      <td>1</td>\n",
              "    </tr>\n",
              "    <tr>\n",
              "      <th>1</th>\n",
              "      <td>120000.0</td>\n",
              "      <td>2</td>\n",
              "      <td>2</td>\n",
              "      <td>2</td>\n",
              "      <td>26</td>\n",
              "      <td>-1</td>\n",
              "      <td>2</td>\n",
              "      <td>0</td>\n",
              "      <td>0</td>\n",
              "      <td>0</td>\n",
              "      <td>...</td>\n",
              "      <td>3272.0</td>\n",
              "      <td>3455.0</td>\n",
              "      <td>3261.0</td>\n",
              "      <td>0.0</td>\n",
              "      <td>1000.0</td>\n",
              "      <td>1000.0</td>\n",
              "      <td>1000.0</td>\n",
              "      <td>0.0</td>\n",
              "      <td>2000.0</td>\n",
              "      <td>1</td>\n",
              "    </tr>\n",
              "    <tr>\n",
              "      <th>2</th>\n",
              "      <td>90000.0</td>\n",
              "      <td>2</td>\n",
              "      <td>2</td>\n",
              "      <td>2</td>\n",
              "      <td>34</td>\n",
              "      <td>0</td>\n",
              "      <td>0</td>\n",
              "      <td>0</td>\n",
              "      <td>0</td>\n",
              "      <td>0</td>\n",
              "      <td>...</td>\n",
              "      <td>14331.0</td>\n",
              "      <td>14948.0</td>\n",
              "      <td>15549.0</td>\n",
              "      <td>1518.0</td>\n",
              "      <td>1500.0</td>\n",
              "      <td>1000.0</td>\n",
              "      <td>1000.0</td>\n",
              "      <td>1000.0</td>\n",
              "      <td>5000.0</td>\n",
              "      <td>0</td>\n",
              "    </tr>\n",
              "    <tr>\n",
              "      <th>3</th>\n",
              "      <td>50000.0</td>\n",
              "      <td>2</td>\n",
              "      <td>2</td>\n",
              "      <td>1</td>\n",
              "      <td>37</td>\n",
              "      <td>0</td>\n",
              "      <td>0</td>\n",
              "      <td>0</td>\n",
              "      <td>0</td>\n",
              "      <td>0</td>\n",
              "      <td>...</td>\n",
              "      <td>28314.0</td>\n",
              "      <td>28959.0</td>\n",
              "      <td>29547.0</td>\n",
              "      <td>2000.0</td>\n",
              "      <td>2019.0</td>\n",
              "      <td>1200.0</td>\n",
              "      <td>1100.0</td>\n",
              "      <td>1069.0</td>\n",
              "      <td>1000.0</td>\n",
              "      <td>0</td>\n",
              "    </tr>\n",
              "    <tr>\n",
              "      <th>4</th>\n",
              "      <td>50000.0</td>\n",
              "      <td>1</td>\n",
              "      <td>2</td>\n",
              "      <td>1</td>\n",
              "      <td>57</td>\n",
              "      <td>-1</td>\n",
              "      <td>0</td>\n",
              "      <td>-1</td>\n",
              "      <td>0</td>\n",
              "      <td>0</td>\n",
              "      <td>...</td>\n",
              "      <td>20940.0</td>\n",
              "      <td>19146.0</td>\n",
              "      <td>19131.0</td>\n",
              "      <td>2000.0</td>\n",
              "      <td>36681.0</td>\n",
              "      <td>10000.0</td>\n",
              "      <td>9000.0</td>\n",
              "      <td>689.0</td>\n",
              "      <td>679.0</td>\n",
              "      <td>0</td>\n",
              "    </tr>\n",
              "  </tbody>\n",
              "</table>\n",
              "<p>5 rows × 24 columns</p>\n",
              "</div>\n",
              "      <button class=\"colab-df-convert\" onclick=\"convertToInteractive('df-e1d594a6-6e7b-4714-85b0-b5d3a30e996d')\"\n",
              "              title=\"Convert this dataframe to an interactive table.\"\n",
              "              style=\"display:none;\">\n",
              "        \n",
              "  <svg xmlns=\"http://www.w3.org/2000/svg\" height=\"24px\"viewBox=\"0 0 24 24\"\n",
              "       width=\"24px\">\n",
              "    <path d=\"M0 0h24v24H0V0z\" fill=\"none\"/>\n",
              "    <path d=\"M18.56 5.44l.94 2.06.94-2.06 2.06-.94-2.06-.94-.94-2.06-.94 2.06-2.06.94zm-11 1L8.5 8.5l.94-2.06 2.06-.94-2.06-.94L8.5 2.5l-.94 2.06-2.06.94zm10 10l.94 2.06.94-2.06 2.06-.94-2.06-.94-.94-2.06-.94 2.06-2.06.94z\"/><path d=\"M17.41 7.96l-1.37-1.37c-.4-.4-.92-.59-1.43-.59-.52 0-1.04.2-1.43.59L10.3 9.45l-7.72 7.72c-.78.78-.78 2.05 0 2.83L4 21.41c.39.39.9.59 1.41.59.51 0 1.02-.2 1.41-.59l7.78-7.78 2.81-2.81c.8-.78.8-2.07 0-2.86zM5.41 20L4 18.59l7.72-7.72 1.47 1.35L5.41 20z\"/>\n",
              "  </svg>\n",
              "      </button>\n",
              "      \n",
              "  <style>\n",
              "    .colab-df-container {\n",
              "      display:flex;\n",
              "      flex-wrap:wrap;\n",
              "      gap: 12px;\n",
              "    }\n",
              "\n",
              "    .colab-df-convert {\n",
              "      background-color: #E8F0FE;\n",
              "      border: none;\n",
              "      border-radius: 50%;\n",
              "      cursor: pointer;\n",
              "      display: none;\n",
              "      fill: #1967D2;\n",
              "      height: 32px;\n",
              "      padding: 0 0 0 0;\n",
              "      width: 32px;\n",
              "    }\n",
              "\n",
              "    .colab-df-convert:hover {\n",
              "      background-color: #E2EBFA;\n",
              "      box-shadow: 0px 1px 2px rgba(60, 64, 67, 0.3), 0px 1px 3px 1px rgba(60, 64, 67, 0.15);\n",
              "      fill: #174EA6;\n",
              "    }\n",
              "\n",
              "    [theme=dark] .colab-df-convert {\n",
              "      background-color: #3B4455;\n",
              "      fill: #D2E3FC;\n",
              "    }\n",
              "\n",
              "    [theme=dark] .colab-df-convert:hover {\n",
              "      background-color: #434B5C;\n",
              "      box-shadow: 0px 1px 3px 1px rgba(0, 0, 0, 0.15);\n",
              "      filter: drop-shadow(0px 1px 2px rgba(0, 0, 0, 0.3));\n",
              "      fill: #FFFFFF;\n",
              "    }\n",
              "  </style>\n",
              "\n",
              "      <script>\n",
              "        const buttonEl =\n",
              "          document.querySelector('#df-e1d594a6-6e7b-4714-85b0-b5d3a30e996d button.colab-df-convert');\n",
              "        buttonEl.style.display =\n",
              "          google.colab.kernel.accessAllowed ? 'block' : 'none';\n",
              "\n",
              "        async function convertToInteractive(key) {\n",
              "          const element = document.querySelector('#df-e1d594a6-6e7b-4714-85b0-b5d3a30e996d');\n",
              "          const dataTable =\n",
              "            await google.colab.kernel.invokeFunction('convertToInteractive',\n",
              "                                                     [key], {});\n",
              "          if (!dataTable) return;\n",
              "\n",
              "          const docLinkHtml = 'Like what you see? Visit the ' +\n",
              "            '<a target=\"_blank\" href=https://colab.research.google.com/notebooks/data_table.ipynb>data table notebook</a>'\n",
              "            + ' to learn more about interactive tables.';\n",
              "          element.innerHTML = '';\n",
              "          dataTable['output_type'] = 'display_data';\n",
              "          await google.colab.output.renderOutput(dataTable, element);\n",
              "          const docLink = document.createElement('div');\n",
              "          docLink.innerHTML = docLinkHtml;\n",
              "          element.appendChild(docLink);\n",
              "        }\n",
              "      </script>\n",
              "    </div>\n",
              "  </div>\n",
              "  "
            ]
          },
          "metadata": {},
          "execution_count": 12
        }
      ]
    },
    {
      "cell_type": "markdown",
      "source": [
        "##EDA"
      ],
      "metadata": {
        "id": "aOU1Iv-7hEmM"
      }
    },
    {
      "cell_type": "code",
      "source": [
        "df.shape"
      ],
      "metadata": {
        "colab": {
          "base_uri": "https://localhost:8080/"
        },
        "id": "qgdz9AzH5OHk",
        "outputId": "2d62336a-2d40-4016-ec32-774245970fcd"
      },
      "execution_count": null,
      "outputs": [
        {
          "output_type": "execute_result",
          "data": {
            "text/plain": [
              "(30000, 24)"
            ]
          },
          "metadata": {},
          "execution_count": 13
        }
      ]
    },
    {
      "cell_type": "code",
      "source": [
        "df.info()"
      ],
      "metadata": {
        "colab": {
          "base_uri": "https://localhost:8080/"
        },
        "id": "Y-sTlNCQ5K_v",
        "outputId": "dc41bb5d-d77e-49e4-cb79-f211f7a37da1"
      },
      "execution_count": null,
      "outputs": [
        {
          "output_type": "stream",
          "name": "stdout",
          "text": [
            "<class 'pandas.core.frame.DataFrame'>\n",
            "RangeIndex: 30000 entries, 0 to 29999\n",
            "Data columns (total 24 columns):\n",
            " #   Column     Non-Null Count  Dtype  \n",
            "---  ------     --------------  -----  \n",
            " 0   LIMIT_BAL  30000 non-null  float64\n",
            " 1   SEX        30000 non-null  int64  \n",
            " 2   EDUCATION  30000 non-null  int64  \n",
            " 3   MARRIAGE   30000 non-null  int64  \n",
            " 4   AGE        30000 non-null  int64  \n",
            " 5   PAY_0      30000 non-null  int64  \n",
            " 6   PAY_2      30000 non-null  int64  \n",
            " 7   PAY_3      30000 non-null  int64  \n",
            " 8   PAY_4      30000 non-null  int64  \n",
            " 9   PAY_5      30000 non-null  int64  \n",
            " 10  PAY_6      30000 non-null  int64  \n",
            " 11  BILL_AMT1  30000 non-null  float64\n",
            " 12  BILL_AMT2  30000 non-null  float64\n",
            " 13  BILL_AMT3  30000 non-null  float64\n",
            " 14  BILL_AMT4  30000 non-null  float64\n",
            " 15  BILL_AMT5  30000 non-null  float64\n",
            " 16  BILL_AMT6  30000 non-null  float64\n",
            " 17  PAY_AMT1   30000 non-null  float64\n",
            " 18  PAY_AMT2   30000 non-null  float64\n",
            " 19  PAY_AMT3   30000 non-null  float64\n",
            " 20  PAY_AMT4   30000 non-null  float64\n",
            " 21  PAY_AMT5   30000 non-null  float64\n",
            " 22  PAY_AMT6   30000 non-null  float64\n",
            " 23  def_pay    30000 non-null  int64  \n",
            "dtypes: float64(13), int64(11)\n",
            "memory usage: 5.5 MB\n"
          ]
        }
      ]
    },
    {
      "cell_type": "markdown",
      "source": [
        "Bộ dữ liệu này không có missing values và không có biến categorical nhưng thực tế có ba biến categorical đã được biến đổi `SEX`, `EDUCATION`, `MARRIAGE`\n",
        "* SEX: Giới tính (1=male, 2=female)\n",
        "* EDUCATION: (1=graduate school, 2=university, 3=high school, 4=others, 5=unknown, 6=unknown)\n",
        "* MARRIAGE: Tình trạng hôn nhân (1=married, 2=single, 3=others)"
      ],
      "metadata": {
        "id": "pQnydUvj5ZW9"
      }
    },
    {
      "cell_type": "code",
      "source": [
        "df['def_pay'].value_counts()/len(df)"
      ],
      "metadata": {
        "colab": {
          "base_uri": "https://localhost:8080/"
        },
        "id": "UjcbpeVDJiLX",
        "outputId": "34d26432-22a3-4d9d-d199-6a2945d3d4a1"
      },
      "execution_count": null,
      "outputs": [
        {
          "output_type": "execute_result",
          "data": {
            "text/plain": [
              "0    0.7788\n",
              "1    0.2212\n",
              "Name: def_pay, dtype: float64"
            ]
          },
          "metadata": {},
          "execution_count": 15
        }
      ]
    },
    {
      "cell_type": "code",
      "source": [
        "f,ax = plt.subplots(figsize=(6,8))\n",
        "ax = sns.countplot(x='def_pay', data=df, palette='Set1')\n",
        "plt.show()"
      ],
      "metadata": {
        "outputId": "8f4678d9-7a5f-440d-a480-9f37148c22a9",
        "colab": {
          "base_uri": "https://localhost:8080/",
          "height": 498
        },
        "id": "mq7nOUbYJtpb"
      },
      "execution_count": null,
      "outputs": [
        {
          "output_type": "display_data",
          "data": {
            "text/plain": [
              "<Figure size 432x576 with 1 Axes>"
            ],
            "image/png": "[encoded data removed]"
          },
          "metadata": {
            "needs_background": "light"
          }
        }
      ]
    },
    {
      "cell_type": "markdown",
      "source": [
        "##Data Cleaning"
      ],
      "metadata": {
        "id": "HOpI_7aSEYIc"
      }
    },
    {
      "cell_type": "code",
      "source": [
        "df['SEX'].value_counts()"
      ],
      "metadata": {
        "colab": {
          "base_uri": "https://localhost:8080/"
        },
        "id": "NmEqqcSu5MJ2",
        "outputId": "8a73d9ff-87cf-4f47-84d1-7ad600d5a191"
      },
      "execution_count": null,
      "outputs": [
        {
          "output_type": "execute_result",
          "data": {
            "text/plain": [
              "2    18112\n",
              "1    11888\n",
              "Name: SEX, dtype: int64"
            ]
          },
          "metadata": {},
          "execution_count": 17
        }
      ]
    },
    {
      "cell_type": "code",
      "source": [
        "df['EDUCATION'].value_counts()"
      ],
      "metadata": {
        "colab": {
          "base_uri": "https://localhost:8080/"
        },
        "id": "xrEOp6zRC9CD",
        "outputId": "ca91bb7c-3bb8-4480-e4c1-c255b27fbc08"
      },
      "execution_count": null,
      "outputs": [
        {
          "output_type": "execute_result",
          "data": {
            "text/plain": [
              "2    14030\n",
              "1    10585\n",
              "3     4917\n",
              "5      280\n",
              "4      123\n",
              "6       51\n",
              "0       14\n",
              "Name: EDUCATION, dtype: int64"
            ]
          },
          "metadata": {},
          "execution_count": 18
        }
      ]
    },
    {
      "cell_type": "markdown",
      "source": [
        "Theo như mô tả của dữ liệu biến `EDUCATION` chỉ có các giá trị từ 1,2,3,4,5,6 nhưng đây xuất hiện cả 0 nữa => Chúng ta sẽ gộp chung những giá trị 0,5,6 thành 4 (others)"
      ],
      "metadata": {
        "id": "Nzx3XnWmDN3x"
      }
    },
    {
      "cell_type": "code",
      "source": [
        "fil = (df.EDUCATION == 5) | (df.EDUCATION == 6) | (df.EDUCATION == 0)\n",
        "df.loc[fil, 'EDUCATION'] = 4\n",
        "df.EDUCATION.value_counts()"
      ],
      "metadata": {
        "colab": {
          "base_uri": "https://localhost:8080/"
        },
        "id": "rgGUfT98DKtV",
        "outputId": "df5bf670-bdae-46fe-90c6-23433e4bf6a2"
      },
      "execution_count": null,
      "outputs": [
        {
          "output_type": "execute_result",
          "data": {
            "text/plain": [
              "2    14030\n",
              "1    10585\n",
              "3     4917\n",
              "4      468\n",
              "Name: EDUCATION, dtype: int64"
            ]
          },
          "metadata": {},
          "execution_count": 19
        }
      ]
    },
    {
      "cell_type": "code",
      "source": [
        "df['MARRIAGE'].value_counts()"
      ],
      "metadata": {
        "colab": {
          "base_uri": "https://localhost:8080/"
        },
        "id": "tAjYER1UDy-M",
        "outputId": "295a5987-45f1-4a60-94f6-6e0c4b625c82"
      },
      "execution_count": null,
      "outputs": [
        {
          "output_type": "execute_result",
          "data": {
            "text/plain": [
              "2    15964\n",
              "1    13659\n",
              "3      323\n",
              "0       54\n",
              "Name: MARRIAGE, dtype: int64"
            ]
          },
          "metadata": {},
          "execution_count": 20
        }
      ]
    },
    {
      "cell_type": "markdown",
      "source": [
        "* MARRIAGE: Tình trạng hôn nhân (1=married, 2=single, 3=others) => Gộp những giá trị bằng 0 thành 3"
      ],
      "metadata": {
        "id": "TeTrPoRjD407"
      }
    },
    {
      "cell_type": "code",
      "source": [
        "df.loc[df.MARRIAGE == 0, 'MARRIAGE'] = 3\n",
        "df.MARRIAGE.value_counts()"
      ],
      "metadata": {
        "colab": {
          "base_uri": "https://localhost:8080/"
        },
        "id": "rct9jYgNEBt8",
        "outputId": "c591fbea-7206-4af8-a569-0f211943266f"
      },
      "execution_count": null,
      "outputs": [
        {
          "output_type": "execute_result",
          "data": {
            "text/plain": [
              "2    15964\n",
              "1    13659\n",
              "3      377\n",
              "Name: MARRIAGE, dtype: int64"
            ]
          },
          "metadata": {},
          "execution_count": 21
        }
      ]
    },
    {
      "cell_type": "code",
      "source": [
        "df['PAY_0'].value_counts()"
      ],
      "metadata": {
        "colab": {
          "base_uri": "https://localhost:8080/"
        },
        "id": "Lv6BoGTrg62c",
        "outputId": "43d4e3d3-23ba-4718-f37a-b33c65a2b9d0"
      },
      "execution_count": null,
      "outputs": [
        {
          "output_type": "execute_result",
          "data": {
            "text/plain": [
              " 0    14737\n",
              "-1     5686\n",
              " 1     3688\n",
              "-2     2759\n",
              " 2     2667\n",
              " 3      322\n",
              " 4       76\n",
              " 5       26\n",
              " 8       19\n",
              " 6       11\n",
              " 7        9\n",
              "Name: PAY_0, dtype: int64"
            ]
          },
          "metadata": {},
          "execution_count": 22
        }
      ]
    },
    {
      "cell_type": "markdown",
      "source": [
        "Theo mô tả của bộ dữ liệu giá trị của `PAY_n` nếu có giá trị -1 = thanh toán hợp lệ, 1 = thanh toán chậm 1 tháng, 2 = thanh toán chậm 2 tháng, ... 8 = thanh toán chậm 8 tháng, 9 = thanh toán chậm 1 tháng. Vậy những giá trị 0, -2 khả năng cao cũng là những thanh toán hợp lệ nên chúng ta sẽ gom lại thành 0 để thể hiện những thanh toán hợp lệ của KH"
      ],
      "metadata": {
        "id": "24Oh3Co6hUde"
      }
    },
    {
      "cell_type": "code",
      "source": [
        "fil = (df.PAY_0 == -2) | (df.PAY_0 == -1) | (df.PAY_0 == 0)\n",
        "df.loc[fil, 'PAY_0'] = 0\n",
        "fil = (df.PAY_2 == -2) | (df.PAY_2 == -1) | (df.PAY_2 == 0)\n",
        "df.loc[fil, 'PAY_2'] = 0\n",
        "fil = (df.PAY_3 == -2) | (df.PAY_3 == -1) | (df.PAY_3 == 0)\n",
        "df.loc[fil, 'PAY_3'] = 0\n",
        "fil = (df.PAY_4 == -2) | (df.PAY_4 == -1) | (df.PAY_4 == 0)\n",
        "df.loc[fil, 'PAY_4'] = 0\n",
        "fil = (df.PAY_5 == -2) | (df.PAY_5 == -1) | (df.PAY_5 == 0)\n",
        "df.loc[fil, 'PAY_5'] = 0\n",
        "fil = (df.PAY_6 == -2) | (df.PAY_6 == -1) | (df.PAY_6 == 0)\n",
        "df.loc[fil, 'PAY_6'] = 0\n",
        "late = df[['PAY_0','PAY_2', 'PAY_3', 'PAY_4', 'PAY_5', 'PAY_6']]"
      ],
      "metadata": {
        "id": "mEUn13ltg-Ty"
      },
      "execution_count": null,
      "outputs": []
    },
    {
      "cell_type": "code",
      "source": [
        "df['PAY_0'].value_counts()"
      ],
      "metadata": {
        "colab": {
          "base_uri": "https://localhost:8080/"
        },
        "id": "unCnkOqaib-d",
        "outputId": "1292857a-8b26-4fb4-baf6-e0f7f64f1970"
      },
      "execution_count": null,
      "outputs": [
        {
          "output_type": "execute_result",
          "data": {
            "text/plain": [
              "0    23182\n",
              "1     3688\n",
              "2     2667\n",
              "3      322\n",
              "4       76\n",
              "5       26\n",
              "8       19\n",
              "6       11\n",
              "7        9\n",
              "Name: PAY_0, dtype: int64"
            ]
          },
          "metadata": {},
          "execution_count": 24
        }
      ]
    },
    {
      "cell_type": "code",
      "source": [
        "df.describe()"
      ],
      "metadata": {
        "colab": {
          "base_uri": "https://localhost:8080/"
        },
        "id": "_2xVP2wyrUwu",
        "outputId": "c17ff045-a40d-4ba0-9ed1-e5db67ee3e44"
      },
      "execution_count": null,
      "outputs": [
        {
          "output_type": "execute_result",
          "data": {
            "text/plain": [
              "            LIMIT_BAL           SEX     EDUCATION      MARRIAGE           AGE  \\\n",
              "count    30000.000000  30000.000000  30000.000000  30000.000000  30000.000000   \n",
              "mean    167484.322667      1.603733      1.842267      1.557267     35.485500   \n",
              "std     129747.661567      0.489129      0.744494      0.521405      9.217904   \n",
              "min      10000.000000      1.000000      1.000000      1.000000     21.000000   \n",
              "25%      50000.000000      1.000000      1.000000      1.000000     28.000000   \n",
              "50%     140000.000000      2.000000      2.000000      2.000000     34.000000   \n",
              "75%     240000.000000      2.000000      2.000000      2.000000     41.000000   \n",
              "max    1000000.000000      2.000000      4.000000      3.000000     79.000000   \n",
              "\n",
              "              PAY_0         PAY_2         PAY_3         PAY_4        PAY_5  \\\n",
              "count  30000.000000  30000.000000  30000.000000  30000.000000  30000.00000   \n",
              "mean       0.356767      0.320033      0.304067      0.258767      0.22150   \n",
              "std        0.760594      0.801727      0.790589      0.761113      0.71772   \n",
              "min        0.000000      0.000000      0.000000      0.000000      0.00000   \n",
              "25%        0.000000      0.000000      0.000000      0.000000      0.00000   \n",
              "50%        0.000000      0.000000      0.000000      0.000000      0.00000   \n",
              "75%        0.000000      0.000000      0.000000      0.000000      0.00000   \n",
              "max        8.000000      8.000000      8.000000      8.000000      8.00000   \n",
              "\n",
              "       ...      BILL_AMT4      BILL_AMT5      BILL_AMT6       PAY_AMT1  \\\n",
              "count  ...   30000.000000   30000.000000   30000.000000   30000.000000   \n",
              "mean   ...   43262.948967   40311.400967   38871.760400    5663.580500   \n",
              "std    ...   64332.856134   60797.155770   59554.107537   16563.280354   \n",
              "min    ... -170000.000000  -81334.000000 -339603.000000       0.000000   \n",
              "25%    ...    2326.750000    1763.000000    1256.000000    1000.000000   \n",
              "50%    ...   19052.000000   18104.500000   17071.000000    2100.000000   \n",
              "75%    ...   54506.000000   50190.500000   49198.250000    5006.000000   \n",
              "max    ...  891586.000000  927171.000000  961664.000000  873552.000000   \n",
              "\n",
              "           PAY_AMT2      PAY_AMT3       PAY_AMT4       PAY_AMT5  \\\n",
              "count  3.000000e+04   30000.00000   30000.000000   30000.000000   \n",
              "mean   5.921163e+03    5225.68150    4826.076867    4799.387633   \n",
              "std    2.304087e+04   17606.96147   15666.159744   15278.305679   \n",
              "min    0.000000e+00       0.00000       0.000000       0.000000   \n",
              "25%    8.330000e+02     390.00000     296.000000     252.500000   \n",
              "50%    2.009000e+03    1800.00000    1500.000000    1500.000000   \n",
              "75%    5.000000e+03    4505.00000    4013.250000    4031.500000   \n",
              "max    1.684259e+06  896040.00000  621000.000000  426529.000000   \n",
              "\n",
              "            PAY_AMT6       def_pay  \n",
              "count   30000.000000  30000.000000  \n",
              "mean     5215.502567      0.221200  \n",
              "std     17777.465775      0.415062  \n",
              "min         0.000000      0.000000  \n",
              "25%       117.750000      0.000000  \n",
              "50%      1500.000000      0.000000  \n",
              "75%      4000.000000      0.000000  \n",
              "max    528666.000000      1.000000  \n",
              "\n",
              "[8 rows x 24 columns]"
            ],
            "text/html": [
              "\n",
              "  <div id=\"df-294190d1-26ff-4e74-91e9-e67f92c5b195\">\n",
              "    <div class=\"colab-df-container\">\n",
              "      <div>\n",
              "<style scoped>\n",
              "    .dataframe tbody tr th:only-of-type {\n",
              "        vertical-align: middle;\n",
              "    }\n",
              "\n",
              "    .dataframe tbody tr th {\n",
              "        vertical-align: top;\n",
              "    }\n",
              "\n",
              "    .dataframe thead th {\n",
              "        text-align: right;\n",
              "    }\n",
              "</style>\n",
              "<table border=\"1\" class=\"dataframe\">\n",
              "  <thead>\n",
              "    <tr style=\"text-align: right;\">\n",
              "      <th></th>\n",
              "      <th>LIMIT_BAL</th>\n",
              "      <th>SEX</th>\n",
              "      <th>EDUCATION</th>\n",
              "      <th>MARRIAGE</th>\n",
              "      <th>AGE</th>\n",
              "      <th>PAY_0</th>\n",
              "      <th>PAY_2</th>\n",
              "      <th>PAY_3</th>\n",
              "      <th>PAY_4</th>\n",
              "      <th>PAY_5</th>\n",
              "      <th>...</th>\n",
              "      <th>BILL_AMT4</th>\n",
              "      <th>BILL_AMT5</th>\n",
              "      <th>BILL_AMT6</th>\n",
              "      <th>PAY_AMT1</th>\n",
              "      <th>PAY_AMT2</th>\n",
              "      <th>PAY_AMT3</th>\n",
              "      <th>PAY_AMT4</th>\n",
              "      <th>PAY_AMT5</th>\n",
              "      <th>PAY_AMT6</th>\n",
              "      <th>def_pay</th>\n",
              "    </tr>\n",
              "  </thead>\n",
              "  <tbody>\n",
              "    <tr>\n",
              "      <th>count</th>\n",
              "      <td>30000.000000</td>\n",
              "      <td>30000.000000</td>\n",
              "      <td>30000.000000</td>\n",
              "      <td>30000.000000</td>\n",
              "      <td>30000.000000</td>\n",
              "      <td>30000.000000</td>\n",
              "      <td>30000.000000</td>\n",
              "      <td>30000.000000</td>\n",
              "      <td>30000.000000</td>\n",
              "      <td>30000.00000</td>\n",
              "      <td>...</td>\n",
              "      <td>30000.000000</td>\n",
              "      <td>30000.000000</td>\n",
              "      <td>30000.000000</td>\n",
              "      <td>30000.000000</td>\n",
              "      <td>3.000000e+04</td>\n",
              "      <td>30000.00000</td>\n",
              "      <td>30000.000000</td>\n",
              "      <td>30000.000000</td>\n",
              "      <td>30000.000000</td>\n",
              "      <td>30000.000000</td>\n",
              "    </tr>\n",
              "    <tr>\n",
              "      <th>mean</th>\n",
              "      <td>167484.322667</td>\n",
              "      <td>1.603733</td>\n",
              "      <td>1.842267</td>\n",
              "      <td>1.557267</td>\n",
              "      <td>35.485500</td>\n",
              "      <td>0.356767</td>\n",
              "      <td>0.320033</td>\n",
              "      <td>0.304067</td>\n",
              "      <td>0.258767</td>\n",
              "      <td>0.22150</td>\n",
              "      <td>...</td>\n",
              "      <td>43262.948967</td>\n",
              "      <td>40311.400967</td>\n",
              "      <td>38871.760400</td>\n",
              "      <td>5663.580500</td>\n",
              "      <td>5.921163e+03</td>\n",
              "      <td>5225.68150</td>\n",
              "      <td>4826.076867</td>\n",
              "      <td>4799.387633</td>\n",
              "      <td>5215.502567</td>\n",
              "      <td>0.221200</td>\n",
              "    </tr>\n",
              "    <tr>\n",
              "      <th>std</th>\n",
              "      <td>129747.661567</td>\n",
              "      <td>0.489129</td>\n",
              "      <td>0.744494</td>\n",
              "      <td>0.521405</td>\n",
              "      <td>9.217904</td>\n",
              "      <td>0.760594</td>\n",
              "      <td>0.801727</td>\n",
              "      <td>0.790589</td>\n",
              "      <td>0.761113</td>\n",
              "      <td>0.71772</td>\n",
              "      <td>...</td>\n",
              "      <td>64332.856134</td>\n",
              "      <td>60797.155770</td>\n",
              "      <td>59554.107537</td>\n",
              "      <td>16563.280354</td>\n",
              "      <td>2.304087e+04</td>\n",
              "      <td>17606.96147</td>\n",
              "      <td>15666.159744</td>\n",
              "      <td>15278.305679</td>\n",
              "      <td>17777.465775</td>\n",
              "      <td>0.415062</td>\n",
              "    </tr>\n",
              "    <tr>\n",
              "      <th>min</th>\n",
              "      <td>10000.000000</td>\n",
              "      <td>1.000000</td>\n",
              "      <td>1.000000</td>\n",
              "      <td>1.000000</td>\n",
              "      <td>21.000000</td>\n",
              "      <td>0.000000</td>\n",
              "      <td>0.000000</td>\n",
              "      <td>0.000000</td>\n",
              "      <td>0.000000</td>\n",
              "      <td>0.00000</td>\n",
              "      <td>...</td>\n",
              "      <td>-170000.000000</td>\n",
              "      <td>-81334.000000</td>\n",
              "      <td>-339603.000000</td>\n",
              "      <td>0.000000</td>\n",
              "      <td>0.000000e+00</td>\n",
              "      <td>0.00000</td>\n",
              "      <td>0.000000</td>\n",
              "      <td>0.000000</td>\n",
              "      <td>0.000000</td>\n",
              "      <td>0.000000</td>\n",
              "    </tr>\n",
              "    <tr>\n",
              "      <th>25%</th>\n",
              "      <td>50000.000000</td>\n",
              "      <td>1.000000</td>\n",
              "      <td>1.000000</td>\n",
              "      <td>1.000000</td>\n",
              "      <td>28.000000</td>\n",
              "      <td>0.000000</td>\n",
              "      <td>0.000000</td>\n",
              "      <td>0.000000</td>\n",
              "      <td>0.000000</td>\n",
              "      <td>0.00000</td>\n",
              "      <td>...</td>\n",
              "      <td>2326.750000</td>\n",
              "      <td>1763.000000</td>\n",
              "      <td>1256.000000</td>\n",
              "      <td>1000.000000</td>\n",
              "      <td>8.330000e+02</td>\n",
              "      <td>390.00000</td>\n",
              "      <td>296.000000</td>\n",
              "      <td>252.500000</td>\n",
              "      <td>117.750000</td>\n",
              "      <td>0.000000</td>\n",
              "    </tr>\n",
              "    <tr>\n",
              "      <th>50%</th>\n",
              "      <td>140000.000000</td>\n",
              "      <td>2.000000</td>\n",
              "      <td>2.000000</td>\n",
              "      <td>2.000000</td>\n",
              "      <td>34.000000</td>\n",
              "      <td>0.000000</td>\n",
              "      <td>0.000000</td>\n",
              "      <td>0.000000</td>\n",
              "      <td>0.000000</td>\n",
              "      <td>0.00000</td>\n",
              "      <td>...</td>\n",
              "      <td>19052.000000</td>\n",
              "      <td>18104.500000</td>\n",
              "      <td>17071.000000</td>\n",
              "      <td>2100.000000</td>\n",
              "      <td>2.009000e+03</td>\n",
              "      <td>1800.00000</td>\n",
              "      <td>1500.000000</td>\n",
              "      <td>1500.000000</td>\n",
              "      <td>1500.000000</td>\n",
              "      <td>0.000000</td>\n",
              "    </tr>\n",
              "    <tr>\n",
              "      <th>75%</th>\n",
              "      <td>240000.000000</td>\n",
              "      <td>2.000000</td>\n",
              "      <td>2.000000</td>\n",
              "      <td>2.000000</td>\n",
              "      <td>41.000000</td>\n",
              "      <td>0.000000</td>\n",
              "      <td>0.000000</td>\n",
              "      <td>0.000000</td>\n",
              "      <td>0.000000</td>\n",
              "      <td>0.00000</td>\n",
              "      <td>...</td>\n",
              "      <td>54506.000000</td>\n",
              "      <td>50190.500000</td>\n",
              "      <td>49198.250000</td>\n",
              "      <td>5006.000000</td>\n",
              "      <td>5.000000e+03</td>\n",
              "      <td>4505.00000</td>\n",
              "      <td>4013.250000</td>\n",
              "      <td>4031.500000</td>\n",
              "      <td>4000.000000</td>\n",
              "      <td>0.000000</td>\n",
              "    </tr>\n",
              "    <tr>\n",
              "      <th>max</th>\n",
              "      <td>1000000.000000</td>\n",
              "      <td>2.000000</td>\n",
              "      <td>4.000000</td>\n",
              "      <td>3.000000</td>\n",
              "      <td>79.000000</td>\n",
              "      <td>8.000000</td>\n",
              "      <td>8.000000</td>\n",
              "      <td>8.000000</td>\n",
              "      <td>8.000000</td>\n",
              "      <td>8.00000</td>\n",
              "      <td>...</td>\n",
              "      <td>891586.000000</td>\n",
              "      <td>927171.000000</td>\n",
              "      <td>961664.000000</td>\n",
              "      <td>873552.000000</td>\n",
              "      <td>1.684259e+06</td>\n",
              "      <td>896040.00000</td>\n",
              "      <td>621000.000000</td>\n",
              "      <td>426529.000000</td>\n",
              "      <td>528666.000000</td>\n",
              "      <td>1.000000</td>\n",
              "    </tr>\n",
              "  </tbody>\n",
              "</table>\n",
              "<p>8 rows × 24 columns</p>\n",
              "</div>\n",
              "      <button class=\"colab-df-convert\" onclick=\"convertToInteractive('df-294190d1-26ff-4e74-91e9-e67f92c5b195')\"\n",
              "              title=\"Convert this dataframe to an interactive table.\"\n",
              "              style=\"display:none;\">\n",
              "        \n",
              "  <svg xmlns=\"http://www.w3.org/2000/svg\" height=\"24px\"viewBox=\"0 0 24 24\"\n",
              "       width=\"24px\">\n",
              "    <path d=\"M0 0h24v24H0V0z\" fill=\"none\"/>\n",
              "    <path d=\"M18.56 5.44l.94 2.06.94-2.06 2.06-.94-2.06-.94-.94-2.06-.94 2.06-2.06.94zm-11 1L8.5 8.5l.94-2.06 2.06-.94-2.06-.94L8.5 2.5l-.94 2.06-2.06.94zm10 10l.94 2.06.94-2.06 2.06-.94-2.06-.94-.94-2.06-.94 2.06-2.06.94z\"/><path d=\"M17.41 7.96l-1.37-1.37c-.4-.4-.92-.59-1.43-.59-.52 0-1.04.2-1.43.59L10.3 9.45l-7.72 7.72c-.78.78-.78 2.05 0 2.83L4 21.41c.39.39.9.59 1.41.59.51 0 1.02-.2 1.41-.59l7.78-7.78 2.81-2.81c.8-.78.8-2.07 0-2.86zM5.41 20L4 18.59l7.72-7.72 1.47 1.35L5.41 20z\"/>\n",
              "  </svg>\n",
              "      </button>\n",
              "      \n",
              "  <style>\n",
              "    .colab-df-container {\n",
              "      display:flex;\n",
              "      flex-wrap:wrap;\n",
              "      gap: 12px;\n",
              "    }\n",
              "\n",
              "    .colab-df-convert {\n",
              "      background-color: #E8F0FE;\n",
              "      border: none;\n",
              "      border-radius: 50%;\n",
              "      cursor: pointer;\n",
              "      display: none;\n",
              "      fill: #1967D2;\n",
              "      height: 32px;\n",
              "      padding: 0 0 0 0;\n",
              "      width: 32px;\n",
              "    }\n",
              "\n",
              "    .colab-df-convert:hover {\n",
              "      background-color: #E2EBFA;\n",
              "      box-shadow: 0px 1px 2px rgba(60, 64, 67, 0.3), 0px 1px 3px 1px rgba(60, 64, 67, 0.15);\n",
              "      fill: #174EA6;\n",
              "    }\n",
              "\n",
              "    [theme=dark] .colab-df-convert {\n",
              "      background-color: #3B4455;\n",
              "      fill: #D2E3FC;\n",
              "    }\n",
              "\n",
              "    [theme=dark] .colab-df-convert:hover {\n",
              "      background-color: #434B5C;\n",
              "      box-shadow: 0px 1px 3px 1px rgba(0, 0, 0, 0.15);\n",
              "      filter: drop-shadow(0px 1px 2px rgba(0, 0, 0, 0.3));\n",
              "      fill: #FFFFFF;\n",
              "    }\n",
              "  </style>\n",
              "\n",
              "      <script>\n",
              "        const buttonEl =\n",
              "          document.querySelector('#df-294190d1-26ff-4e74-91e9-e67f92c5b195 button.colab-df-convert');\n",
              "        buttonEl.style.display =\n",
              "          google.colab.kernel.accessAllowed ? 'block' : 'none';\n",
              "\n",
              "        async function convertToInteractive(key) {\n",
              "          const element = document.querySelector('#df-294190d1-26ff-4e74-91e9-e67f92c5b195');\n",
              "          const dataTable =\n",
              "            await google.colab.kernel.invokeFunction('convertToInteractive',\n",
              "                                                     [key], {});\n",
              "          if (!dataTable) return;\n",
              "\n",
              "          const docLinkHtml = 'Like what you see? Visit the ' +\n",
              "            '<a target=\"_blank\" href=https://colab.research.google.com/notebooks/data_table.ipynb>data table notebook</a>'\n",
              "            + ' to learn more about interactive tables.';\n",
              "          element.innerHTML = '';\n",
              "          dataTable['output_type'] = 'display_data';\n",
              "          await google.colab.output.renderOutput(dataTable, element);\n",
              "          const docLink = document.createElement('div');\n",
              "          docLink.innerHTML = docLinkHtml;\n",
              "          element.appendChild(docLink);\n",
              "        }\n",
              "      </script>\n",
              "    </div>\n",
              "  </div>\n",
              "  "
            ]
          },
          "metadata": {},
          "execution_count": 25
        }
      ]
    },
    {
      "cell_type": "code",
      "source": [
        "df['AgeBin'] = pd.cut(df['AGE'], 6, labels = [1,2,3,4,5,6])\n",
        "df.AgeBin.hist()"
      ],
      "metadata": {
        "colab": {
          "base_uri": "https://localhost:8080/"
        },
        "id": "qZ3BpMxWFSap",
        "outputId": "f63075c2-89d5-478f-833e-b0cb481dc21d"
      },
      "execution_count": null,
      "outputs": [
        {
          "output_type": "execute_result",
          "data": {
            "text/plain": [
              "<matplotlib.axes._subplots.AxesSubplot at 0x7f99638f02d0>"
            ]
          },
          "metadata": {},
          "execution_count": 26
        },
        {
          "output_type": "display_data",
          "data": {
            "text/plain": [
              "<Figure size 432x288 with 1 Axes>"
            ],
            "image/png": "[encoded data removed]"
          },
          "metadata": {
            "needs_background": "light"
          }
        }
      ]
    },
    {
      "cell_type": "code",
      "source": [
        "df['LIMIT_BAL_mean'] = df['LIMIT_BAL'] - df['LIMIT_BAL'].mean()\n",
        "df['LIMIT_BAL_std'] = df['LIMIT_BAL_mean'] / df['LIMIT_BAL'].std()"
      ],
      "metadata": {
        "id": "I0lhjSnHHVXj"
      },
      "execution_count": null,
      "outputs": []
    },
    {
      "cell_type": "code",
      "source": [
        "df['LIMIT_BAL'] = np.log(df['LIMIT_BAL'])"
      ],
      "metadata": {
        "id": "xFOsZ-xgIFFA"
      },
      "execution_count": null,
      "outputs": []
    },
    {
      "cell_type": "code",
      "source": [
        "df.head()"
      ],
      "metadata": {
        "colab": {
          "base_uri": "https://localhost:8080/"
        },
        "id": "TtAcWKLkIrRo",
        "outputId": "06d5d386-66d2-4bd6-84ae-b9c583569213"
      },
      "execution_count": null,
      "outputs": [
        {
          "output_type": "execute_result",
          "data": {
            "text/plain": [
              "   LIMIT_BAL  SEX  EDUCATION  MARRIAGE  AGE  PAY_0  PAY_2  PAY_3  PAY_4  \\\n",
              "0   9.903488    2          2         1   24      2      2      0      0   \n",
              "1  11.695247    2          2         2   26      0      2      0      0   \n",
              "2  11.407565    2          2         2   34      0      0      0      0   \n",
              "3  10.819778    2          2         1   37      0      0      0      0   \n",
              "4  10.819778    1          2         1   57      0      0      0      0   \n",
              "\n",
              "   PAY_5  ...  PAY_AMT1  PAY_AMT2  PAY_AMT3  PAY_AMT4  PAY_AMT5  PAY_AMT6  \\\n",
              "0      0  ...       0.0     689.0       0.0       0.0       0.0       0.0   \n",
              "1      0  ...       0.0    1000.0    1000.0    1000.0       0.0    2000.0   \n",
              "2      0  ...    1518.0    1500.0    1000.0    1000.0    1000.0    5000.0   \n",
              "3      0  ...    2000.0    2019.0    1200.0    1100.0    1069.0    1000.0   \n",
              "4      0  ...    2000.0   36681.0   10000.0    9000.0     689.0     679.0   \n",
              "\n",
              "   def_pay  AgeBin  LIMIT_BAL_mean  LIMIT_BAL_std  \n",
              "0        1       1  -147484.322667      -1.136701  \n",
              "1        1       1   -47484.322667      -0.365974  \n",
              "2        0       2   -77484.322667      -0.597192  \n",
              "3        0       2  -117484.322667      -0.905483  \n",
              "4        0       4  -117484.322667      -0.905483  \n",
              "\n",
              "[5 rows x 27 columns]"
            ],
            "text/html": [
              "\n",
              "  <div id=\"df-b7efeac4-e3da-4102-8e9d-672c922df81b\">\n",
              "    <div class=\"colab-df-container\">\n",
              "      <div>\n",
              "<style scoped>\n",
              "    .dataframe tbody tr th:only-of-type {\n",
              "        vertical-align: middle;\n",
              "    }\n",
              "\n",
              "    .dataframe tbody tr th {\n",
              "        vertical-align: top;\n",
              "    }\n",
              "\n",
              "    .dataframe thead th {\n",
              "        text-align: right;\n",
              "    }\n",
              "</style>\n",
              "<table border=\"1\" class=\"dataframe\">\n",
              "  <thead>\n",
              "    <tr style=\"text-align: right;\">\n",
              "      <th></th>\n",
              "      <th>LIMIT_BAL</th>\n",
              "      <th>SEX</th>\n",
              "      <th>EDUCATION</th>\n",
              "      <th>MARRIAGE</th>\n",
              "      <th>AGE</th>\n",
              "      <th>PAY_0</th>\n",
              "      <th>PAY_2</th>\n",
              "      <th>PAY_3</th>\n",
              "      <th>PAY_4</th>\n",
              "      <th>PAY_5</th>\n",
              "      <th>...</th>\n",
              "      <th>PAY_AMT1</th>\n",
              "      <th>PAY_AMT2</th>\n",
              "      <th>PAY_AMT3</th>\n",
              "      <th>PAY_AMT4</th>\n",
              "      <th>PAY_AMT5</th>\n",
              "      <th>PAY_AMT6</th>\n",
              "      <th>def_pay</th>\n",
              "      <th>AgeBin</th>\n",
              "      <th>LIMIT_BAL_mean</th>\n",
              "      <th>LIMIT_BAL_std</th>\n",
              "    </tr>\n",
              "  </thead>\n",
              "  <tbody>\n",
              "    <tr>\n",
              "      <th>0</th>\n",
              "      <td>9.903488</td>\n",
              "      <td>2</td>\n",
              "      <td>2</td>\n",
              "      <td>1</td>\n",
              "      <td>24</td>\n",
              "      <td>2</td>\n",
              "      <td>2</td>\n",
              "      <td>0</td>\n",
              "      <td>0</td>\n",
              "      <td>0</td>\n",
              "      <td>...</td>\n",
              "      <td>0.0</td>\n",
              "      <td>689.0</td>\n",
              "      <td>0.0</td>\n",
              "      <td>0.0</td>\n",
              "      <td>0.0</td>\n",
              "      <td>0.0</td>\n",
              "      <td>1</td>\n",
              "      <td>1</td>\n",
              "      <td>-147484.322667</td>\n",
              "      <td>-1.136701</td>\n",
              "    </tr>\n",
              "    <tr>\n",
              "      <th>1</th>\n",
              "      <td>11.695247</td>\n",
              "      <td>2</td>\n",
              "      <td>2</td>\n",
              "      <td>2</td>\n",
              "      <td>26</td>\n",
              "      <td>0</td>\n",
              "      <td>2</td>\n",
              "      <td>0</td>\n",
              "      <td>0</td>\n",
              "      <td>0</td>\n",
              "      <td>...</td>\n",
              "      <td>0.0</td>\n",
              "      <td>1000.0</td>\n",
              "      <td>1000.0</td>\n",
              "      <td>1000.0</td>\n",
              "      <td>0.0</td>\n",
              "      <td>2000.0</td>\n",
              "      <td>1</td>\n",
              "      <td>1</td>\n",
              "      <td>-47484.322667</td>\n",
              "      <td>-0.365974</td>\n",
              "    </tr>\n",
              "    <tr>\n",
              "      <th>2</th>\n",
              "      <td>11.407565</td>\n",
              "      <td>2</td>\n",
              "      <td>2</td>\n",
              "      <td>2</td>\n",
              "      <td>34</td>\n",
              "      <td>0</td>\n",
              "      <td>0</td>\n",
              "      <td>0</td>\n",
              "      <td>0</td>\n",
              "      <td>0</td>\n",
              "      <td>...</td>\n",
              "      <td>1518.0</td>\n",
              "      <td>1500.0</td>\n",
              "      <td>1000.0</td>\n",
              "      <td>1000.0</td>\n",
              "      <td>1000.0</td>\n",
              "      <td>5000.0</td>\n",
              "      <td>0</td>\n",
              "      <td>2</td>\n",
              "      <td>-77484.322667</td>\n",
              "      <td>-0.597192</td>\n",
              "    </tr>\n",
              "    <tr>\n",
              "      <th>3</th>\n",
              "      <td>10.819778</td>\n",
              "      <td>2</td>\n",
              "      <td>2</td>\n",
              "      <td>1</td>\n",
              "      <td>37</td>\n",
              "      <td>0</td>\n",
              "      <td>0</td>\n",
              "      <td>0</td>\n",
              "      <td>0</td>\n",
              "      <td>0</td>\n",
              "      <td>...</td>\n",
              "      <td>2000.0</td>\n",
              "      <td>2019.0</td>\n",
              "      <td>1200.0</td>\n",
              "      <td>1100.0</td>\n",
              "      <td>1069.0</td>\n",
              "      <td>1000.0</td>\n",
              "      <td>0</td>\n",
              "      <td>2</td>\n",
              "      <td>-117484.322667</td>\n",
              "      <td>-0.905483</td>\n",
              "    </tr>\n",
              "    <tr>\n",
              "      <th>4</th>\n",
              "      <td>10.819778</td>\n",
              "      <td>1</td>\n",
              "      <td>2</td>\n",
              "      <td>1</td>\n",
              "      <td>57</td>\n",
              "      <td>0</td>\n",
              "      <td>0</td>\n",
              "      <td>0</td>\n",
              "      <td>0</td>\n",
              "      <td>0</td>\n",
              "      <td>...</td>\n",
              "      <td>2000.0</td>\n",
              "      <td>36681.0</td>\n",
              "      <td>10000.0</td>\n",
              "      <td>9000.0</td>\n",
              "      <td>689.0</td>\n",
              "      <td>679.0</td>\n",
              "      <td>0</td>\n",
              "      <td>4</td>\n",
              "      <td>-117484.322667</td>\n",
              "      <td>-0.905483</td>\n",
              "    </tr>\n",
              "  </tbody>\n",
              "</table>\n",
              "<p>5 rows × 27 columns</p>\n",
              "</div>\n",
              "      <button class=\"colab-df-convert\" onclick=\"convertToInteractive('df-b7efeac4-e3da-4102-8e9d-672c922df81b')\"\n",
              "              title=\"Convert this dataframe to an interactive table.\"\n",
              "              style=\"display:none;\">\n",
              "        \n",
              "  <svg xmlns=\"http://www.w3.org/2000/svg\" height=\"24px\"viewBox=\"0 0 24 24\"\n",
              "       width=\"24px\">\n",
              "    <path d=\"M0 0h24v24H0V0z\" fill=\"none\"/>\n",
              "    <path d=\"M18.56 5.44l.94 2.06.94-2.06 2.06-.94-2.06-.94-.94-2.06-.94 2.06-2.06.94zm-11 1L8.5 8.5l.94-2.06 2.06-.94-2.06-.94L8.5 2.5l-.94 2.06-2.06.94zm10 10l.94 2.06.94-2.06 2.06-.94-2.06-.94-.94-2.06-.94 2.06-2.06.94z\"/><path d=\"M17.41 7.96l-1.37-1.37c-.4-.4-.92-.59-1.43-.59-.52 0-1.04.2-1.43.59L10.3 9.45l-7.72 7.72c-.78.78-.78 2.05 0 2.83L4 21.41c.39.39.9.59 1.41.59.51 0 1.02-.2 1.41-.59l7.78-7.78 2.81-2.81c.8-.78.8-2.07 0-2.86zM5.41 20L4 18.59l7.72-7.72 1.47 1.35L5.41 20z\"/>\n",
              "  </svg>\n",
              "      </button>\n",
              "      \n",
              "  <style>\n",
              "    .colab-df-container {\n",
              "      display:flex;\n",
              "      flex-wrap:wrap;\n",
              "      gap: 12px;\n",
              "    }\n",
              "\n",
              "    .colab-df-convert {\n",
              "      background-color: #E8F0FE;\n",
              "      border: none;\n",
              "      border-radius: 50%;\n",
              "      cursor: pointer;\n",
              "      display: none;\n",
              "      fill: #1967D2;\n",
              "      height: 32px;\n",
              "      padding: 0 0 0 0;\n",
              "      width: 32px;\n",
              "    }\n",
              "\n",
              "    .colab-df-convert:hover {\n",
              "      background-color: #E2EBFA;\n",
              "      box-shadow: 0px 1px 2px rgba(60, 64, 67, 0.3), 0px 1px 3px 1px rgba(60, 64, 67, 0.15);\n",
              "      fill: #174EA6;\n",
              "    }\n",
              "\n",
              "    [theme=dark] .colab-df-convert {\n",
              "      background-color: #3B4455;\n",
              "      fill: #D2E3FC;\n",
              "    }\n",
              "\n",
              "    [theme=dark] .colab-df-convert:hover {\n",
              "      background-color: #434B5C;\n",
              "      box-shadow: 0px 1px 3px 1px rgba(0, 0, 0, 0.15);\n",
              "      filter: drop-shadow(0px 1px 2px rgba(0, 0, 0, 0.3));\n",
              "      fill: #FFFFFF;\n",
              "    }\n",
              "  </style>\n",
              "\n",
              "      <script>\n",
              "        const buttonEl =\n",
              "          document.querySelector('#df-b7efeac4-e3da-4102-8e9d-672c922df81b button.colab-df-convert');\n",
              "        buttonEl.style.display =\n",
              "          google.colab.kernel.accessAllowed ? 'block' : 'none';\n",
              "\n",
              "        async function convertToInteractive(key) {\n",
              "          const element = document.querySelector('#df-b7efeac4-e3da-4102-8e9d-672c922df81b');\n",
              "          const dataTable =\n",
              "            await google.colab.kernel.invokeFunction('convertToInteractive',\n",
              "                                                     [key], {});\n",
              "          if (!dataTable) return;\n",
              "\n",
              "          const docLinkHtml = 'Like what you see? Visit the ' +\n",
              "            '<a target=\"_blank\" href=https://colab.research.google.com/notebooks/data_table.ipynb>data table notebook</a>'\n",
              "            + ' to learn more about interactive tables.';\n",
              "          element.innerHTML = '';\n",
              "          dataTable['output_type'] = 'display_data';\n",
              "          await google.colab.output.renderOutput(dataTable, element);\n",
              "          const docLink = document.createElement('div');\n",
              "          docLink.innerHTML = docLinkHtml;\n",
              "          element.appendChild(docLink);\n",
              "        }\n",
              "      </script>\n",
              "    </div>\n",
              "  </div>\n",
              "  "
            ]
          },
          "metadata": {},
          "execution_count": 29
        }
      ]
    },
    {
      "cell_type": "markdown",
      "source": [
        "##Spliting the Data"
      ],
      "metadata": {
        "id": "MWaInsyK-lOe"
      }
    },
    {
      "cell_type": "code",
      "source": [
        "X = df.drop(['def_pay'], axis=1)\n",
        "y = df['def_pay']"
      ],
      "metadata": {
        "id": "vX11PIqLJ6GY"
      },
      "execution_count": null,
      "outputs": []
    },
    {
      "cell_type": "code",
      "source": [
        "# split X and y into training and testing sets\n",
        "from sklearn.preprocessing import RobustScaler\n",
        "from sklearn.model_selection import train_test_split\n",
        "\n",
        "X_train, X_test, y_train, y_test = train_test_split(X, y, test_size = 0.2, random_state = 0)\n",
        "#normalize\n",
        "rs = RobustScaler()\n",
        "X_train = rs.fit_transform(X_train)\n",
        "X_test = rs.transform(X_test)"
      ],
      "metadata": {
        "id": "M-DdVHtRJ-vC"
      },
      "execution_count": null,
      "outputs": []
    },
    {
      "cell_type": "markdown",
      "source": [
        "##Baseline"
      ],
      "metadata": {
        "id": "5azBo5eG5l0N"
      }
    },
    {
      "cell_type": "code",
      "source": [
        "def plot_roc_cur(fper, tper):  \n",
        "    plt.plot(fper, tper, color='orange', label='ROC')\n",
        "    plt.plot([0, 1], [0, 1], color='darkblue', linestyle='--')\n",
        "    plt.xlabel('False Positive Rate')\n",
        "    plt.ylabel('True Positive Rate')\n",
        "    plt.title('Receiver Operating Characteristic (ROC) Curve')\n",
        "    plt.legend()\n",
        "    plt.show()"
      ],
      "metadata": {
        "id": "LK1Rf57tN98h"
      },
      "execution_count": null,
      "outputs": []
    },
    {
      "cell_type": "code",
      "source": [
        "import time\n",
        "from sklearn.metrics import accuracy_score, roc_auc_score, precision_score, recall_score, f1_score, cohen_kappa_score, plot_confusion_matrix, roc_curve, classification_report\n",
        "def run_model(model, X_train, y_train, X_test, y_test, verbose=True):\n",
        "    t0=time.time()\n",
        "    if verbose == False:\n",
        "        model.fit(X_train,y_train, verbose=0)\n",
        "    else:\n",
        "        model.fit(X_train,y_train)\n",
        "    y_pred = model.predict(X_test)\n",
        "    accuracy = accuracy_score(y_test, y_pred)\n",
        "    roc_auc = roc_auc_score(y_test, y_pred)\n",
        "    precision = precision_score(y_test, y_pred)\n",
        "    recall = recall_score(y_test, y_pred)\n",
        "    f1 = f1_score(y_test, y_pred)\n",
        "    coh_kap = cohen_kappa_score(y_test, y_pred)\n",
        "    time_taken = time.time()-t0\n",
        "    print(\"Accuracy = {}\".format(accuracy))\n",
        "    print(\"ROC Area under Curve = {}\".format(roc_auc))\n",
        "    #print(\"Precision  = {}\".format(precision))\n",
        "    #print(\"Recall  = {}\".format(recall))\n",
        "    print(\"F1 Score  = {}\".format(f1))\n",
        "    print(\"Cohen's Kappa = {}\".format(coh_kap))\n",
        "    print(\"Time taken = {}\".format(time_taken))\n",
        "    print(classification_report(y_test,y_pred,digits=5))\n",
        "    \n",
        "    probs = model.predict_proba(X_test)  \n",
        "    probs = probs[:, 1]  \n",
        "    fper, tper, thresholds = roc_curve(y_test, probs) \n",
        "    plot_roc_cur(fper, tper)\n",
        "    \n",
        "    plot_confusion_matrix(model, X_test, y_test,cmap=plt.cm.Blues)\n",
        "    \n",
        "    return model, accuracy, roc_auc, f1, coh_kap, time_taken"
      ],
      "metadata": {
        "id": "t-DTQ4wu5out"
      },
      "execution_count": null,
      "outputs": []
    },
    {
      "cell_type": "code",
      "source": [
        "# Random Forest\n",
        "from sklearn.ensemble import RandomForestClassifier\n",
        "\n",
        "rf_baseline = RandomForestClassifier()\n",
        "rf_baseline, accuracy_rf, roc_auc_rf, f1_score_rf,coh_kap_rf, tt_rf = run_model(rf_baseline, X_train, y_train, X_test, y_test)"
      ],
      "metadata": {
        "colab": {
          "base_uri": "https://localhost:8080/"
        },
        "id": "NrwqJn_n5zTP",
        "outputId": "ff0b6183-cdcd-49b6-863c-6a0439ddeeec"
      },
      "execution_count": null,
      "outputs": [
        {
          "output_type": "stream",
          "name": "stdout",
          "text": [
            "Accuracy = 0.8191666666666667\n",
            "ROC Area under Curve = 0.6554331943504295\n",
            "F1 Score  = 0.4673539518900344\n",
            "Cohen's Kappa = 0.3681108552925326\n",
            "Time taken = 8.621309280395508\n",
            "              precision    recall  f1-score   support\n",
            "\n",
            "           0    0.84392   0.94387   0.89110      4703\n",
            "           1    0.64324   0.36700   0.46735      1297\n",
            "\n",
            "    accuracy                        0.81917      6000\n",
            "   macro avg    0.74358   0.65543   0.67923      6000\n",
            "weighted avg    0.80054   0.81917   0.79950      6000\n",
            "\n"
          ]
        },
        {
          "output_type": "display_data",
          "data": {
            "text/plain": [
              "<Figure size 432x288 with 1 Axes>"
            ],
            "image/png": "[encoded data removed]"
          },
          "metadata": {
            "needs_background": "light"
          }
        },
        {
          "output_type": "display_data",
          "data": {
            "text/plain": [
              "<Figure size 432x288 with 2 Axes>"
            ],
            "image/png": "[encoded data removed]"
          },
          "metadata": {
            "needs_background": "light"
          }
        }
      ]
    },
    {
      "cell_type": "markdown",
      "source": [
        "##Feature Selection"
      ],
      "metadata": {
        "id": "7YfaH1_z8s-R"
      }
    },
    {
      "cell_type": "markdown",
      "source": [
        "###RFE"
      ],
      "metadata": {
        "id": "kMyC8YAOI49Q"
      }
    },
    {
      "cell_type": "markdown",
      "source": [
        "Vì bộ dữ liệu này có giá trị âm nên không áp dụng được SelectKbest. Nên chúng ta sẽ áp dụng những kỹ thuật FS khác"
      ],
      "metadata": {
        "id": "Ls1K14SJOWOD"
      }
    },
    {
      "cell_type": "code",
      "source": [
        "X_train = pd.DataFrame(X_train, columns = X.columns)\n",
        "X_test = pd.DataFrame(X_test, columns=X.columns)"
      ],
      "metadata": {
        "id": "6Eh0ZTdTNfGA"
      },
      "execution_count": null,
      "outputs": []
    },
    {
      "cell_type": "code",
      "source": [
        "from sklearn.feature_selection import RFE\n",
        "clf_rf_3 = RandomForestClassifier()      \n",
        "rfe = RFE(estimator=clf_rf_3, n_features_to_select=10, step=1)\n",
        "rfe = rfe.fit(X_train, y_train)"
      ],
      "metadata": {
        "id": "8FITMe8FAG6B"
      },
      "execution_count": null,
      "outputs": []
    },
    {
      "cell_type": "code",
      "source": [
        "#selected_feat= X_train.columns[rfe.support_]\n",
        "#print(selected_feat)\n",
        "\n",
        "print('Chosen best 10 feature by rfe:', X_train.columns[rfe.support_])"
      ],
      "metadata": {
        "colab": {
          "base_uri": "https://localhost:8080/"
        },
        "id": "OvM3HOLZCDzz",
        "outputId": "15ca40b0-214c-4d8a-9bf1-830373405d03"
      },
      "execution_count": null,
      "outputs": [
        {
          "output_type": "stream",
          "name": "stdout",
          "text": [
            "Chosen best 10 feature by rfe: Index(['AGE', 'PAY_0', 'BILL_AMT1', 'BILL_AMT2', 'BILL_AMT3', 'BILL_AMT4',\n",
            "       'BILL_AMT5', 'BILL_AMT6', 'PAY_AMT1', 'LIMIT_BAL_mean'],\n",
            "      dtype='object')\n"
          ]
        }
      ]
    },
    {
      "cell_type": "markdown",
      "source": [
        "Ở trên, chúng ta vừa sử dụng kỹ thuật RFE để chọn ra 10 features tốt nhất. Nhưng kỹ thuật này không giúp cho chúng ta biết được chính xác nên giữ lại bao nhiêu feature là tối ưu cho mô hình nên chúng ta sẽ sử dụng RFECV (RFE Cross Validation)"
      ],
      "metadata": {
        "id": "3H_2CciVPMcb"
      }
    },
    {
      "cell_type": "markdown",
      "source": [
        "###RFECV"
      ],
      "metadata": {
        "id": "mGeUH9qhJEPL"
      }
    },
    {
      "cell_type": "code",
      "source": [
        "from sklearn.feature_selection import RFECV\n",
        "\n",
        "clf_rf_4 = RandomForestClassifier() \n",
        "rfecv = RFECV(estimator=clf_rf_4, step=1, cv=5,scoring='accuracy')   #5-fold cross-validation\n",
        "rfecv = rfecv.fit(X_train, y_train)\n",
        "\n",
        "print('Optimal number of features :', rfecv.n_features_)\n",
        "print('Best features :', X_train.columns[rfecv.support_])"
      ],
      "metadata": {
        "colab": {
          "base_uri": "https://localhost:8080/"
        },
        "id": "N2b2rCYZE6yL",
        "outputId": "9a6187f8-7cb4-4962-907c-176fff4f8e1d"
      },
      "execution_count": null,
      "outputs": [
        {
          "output_type": "stream",
          "name": "stdout",
          "text": [
            "Optimal number of features : 16\n",
            "Best features : Index(['AGE', 'PAY_0', 'PAY_2', 'BILL_AMT1', 'BILL_AMT2', 'BILL_AMT3',\n",
            "       'BILL_AMT4', 'BILL_AMT5', 'BILL_AMT6', 'PAY_AMT1', 'PAY_AMT2',\n",
            "       'PAY_AMT3', 'PAY_AMT4', 'PAY_AMT5', 'PAY_AMT6', 'LIMIT_BAL_mean'],\n",
            "      dtype='object')\n"
          ]
        }
      ]
    },
    {
      "cell_type": "code",
      "source": [
        "select_ft = X_train.columns[rfecv.support_]"
      ],
      "metadata": {
        "id": "BuqP6BIgMoQI"
      },
      "execution_count": null,
      "outputs": []
    },
    {
      "cell_type": "markdown",
      "source": [
        "Như vậy chúng ta đã tìm ra được 16 features tốt nhất cho bài toán phân loại này"
      ],
      "metadata": {
        "id": "fxzgvRnQVlQi"
      }
    },
    {
      "cell_type": "code",
      "source": [
        "# Plot number of features vs cross-validation scores\n",
        "import matplotlib.pyplot as plt\n",
        "plt.figure()\n",
        "plt.xlabel(\"Number of features selected\")\n",
        "plt.ylabel(\"Cross validation score of number of selected features\")\n",
        "plt.plot(range(1, len(rfecv.grid_scores_) + 1), rfecv.grid_scores_)\n",
        "plt.show()"
      ],
      "metadata": {
        "colab": {
          "base_uri": "https://localhost:8080/"
        },
        "id": "RZcC_9HATHyE",
        "outputId": "17b50688-fd2c-42c0-c945-26213e027252"
      },
      "execution_count": null,
      "outputs": [
        {
          "output_type": "display_data",
          "data": {
            "text/plain": [
              "<Figure size 432x288 with 1 Axes>"
            ],
            "image/png": "[encoded data removed]"
          },
          "metadata": {
            "needs_background": "light"
          }
        }
      ]
    },
    {
      "cell_type": "markdown",
      "source": [
        "###RF Importance"
      ],
      "metadata": {
        "id": "5h7QynHuT1KW"
      }
    },
    {
      "cell_type": "code",
      "source": [
        "clf_rf_5 = RandomForestClassifier()      \n",
        "clr_rf_5 = clf_rf_5.fit(X_train,y_train)\n",
        "importances = clr_rf_5.feature_importances_\n",
        "std = np.std([tree.feature_importances_ for tree in clf_rf_5.estimators_],\n",
        "             axis=0)\n",
        "indices = np.argsort(importances)[::-1]\n",
        "\n",
        "# Print the feature ranking\n",
        "print(\"Feature ranking:\")\n",
        "\n",
        "for f in range(X_train.shape[1]):\n",
        "    print(\"%d. feature %d (%f)\" % (f + 1, indices[f], importances[indices[f]]))\n",
        "\n",
        "# Plot the feature importances of the forest\n",
        "\n",
        "plt.figure(1, figsize=(14, 13))\n",
        "plt.title(\"Feature importances\")\n",
        "plt.bar(range(X_train.shape[1]), importances[indices],\n",
        "       color=\"g\", yerr=std[indices], align=\"center\")\n",
        "plt.xticks(range(X_train.shape[1]), X_train.columns[indices],rotation=90)\n",
        "plt.xlim([-1, X_train.shape[1]])\n",
        "plt.show()"
      ],
      "metadata": {
        "colab": {
          "base_uri": "https://localhost:8080/"
        },
        "id": "dEVgEAklUPBk",
        "outputId": "c89b06e8-c0c6-4753-80a0-4691270e3e89"
      },
      "execution_count": null,
      "outputs": [
        {
          "output_type": "stream",
          "name": "stdout",
          "text": [
            "Feature ranking:\n",
            "1. feature 5 (0.099815)\n",
            "2. feature 11 (0.059240)\n",
            "3. feature 4 (0.058840)\n",
            "4. feature 12 (0.052514)\n",
            "5. feature 13 (0.050607)\n",
            "6. feature 17 (0.048714)\n",
            "7. feature 15 (0.048685)\n",
            "8. feature 14 (0.048568)\n",
            "9. feature 16 (0.047981)\n",
            "10. feature 18 (0.045814)\n",
            "11. feature 22 (0.045348)\n",
            "12. feature 19 (0.045238)\n",
            "13. feature 21 (0.042630)\n",
            "14. feature 20 (0.041973)\n",
            "15. feature 6 (0.037222)\n",
            "16. feature 24 (0.033097)\n",
            "17. feature 0 (0.032733)\n",
            "18. feature 25 (0.032572)\n",
            "19. feature 7 (0.020189)\n",
            "20. feature 2 (0.019187)\n",
            "21. feature 8 (0.018856)\n",
            "22. feature 23 (0.017726)\n",
            "23. feature 9 (0.016297)\n",
            "24. feature 3 (0.012944)\n",
            "25. feature 1 (0.011688)\n",
            "26. feature 10 (0.011524)\n"
          ]
        },
        {
          "output_type": "display_data",
          "data": {
            "text/plain": [
              "<Figure size 1008x936 with 1 Axes>"
            ],
            "image/png": "[encoded data removed]"
          },
          "metadata": {
            "needs_background": "light"
          }
        }
      ]
    },
    {
      "cell_type": "markdown",
      "source": [
        "Có thể nhận thấy phương pháp RF Feature Importance này cũng cho thấy 17 feature là những feature tốt nhất cho mô hình"
      ],
      "metadata": {
        "id": "_85Da3JIZpAA"
      }
    },
    {
      "cell_type": "markdown",
      "source": [
        "###Feature Extraction with PCA\n",
        "\n",
        "Chúng ta sẽ sử dụng principle component analysis (PCA) để FS. Trước khi PCA, chúng ta cần chuẩn hóa dữ liệu để PCA có hiệu suất tốt hơn."
      ],
      "metadata": {
        "id": "L06PLOfmUtuZ"
      }
    },
    {
      "cell_type": "code",
      "source": [
        "#normalization\n",
        "X_train_N = (X_train-X_train.mean())/(X_train.max()-X_train.min())\n",
        "X_test_N = (X_test-X_test.mean())/(X_test.max()-X_test.min())\n",
        "\n",
        "from sklearn.decomposition import PCA\n",
        "pca = PCA()\n",
        "pca.fit(X_train_N)\n",
        "\n",
        "plt.figure(1, figsize=(10, 13))\n",
        "plt.clf()\n",
        "plt.axes([.2, .2, .7, .7])\n",
        "plt.plot(pca.explained_variance_ratio_, linewidth=2)\n",
        "plt.axis('tight')\n",
        "plt.xlabel('n_components')\n",
        "plt.ylabel('explained_variance_ratio_')"
      ],
      "metadata": {
        "colab": {
          "base_uri": "https://localhost:8080/",
          "height": 735
        },
        "id": "uE4tuYkuWr4M",
        "outputId": "ba8c0595-0202-4a6c-c643-218219f81cef"
      },
      "execution_count": null,
      "outputs": [
        {
          "output_type": "execute_result",
          "data": {
            "text/plain": [
              "Text(0, 0.5, 'explained_variance_ratio_')"
            ]
          },
          "metadata": {},
          "execution_count": 42
        },
        {
          "output_type": "display_data",
          "data": {
            "text/plain": [
              "<Figure size 1008x936 with 1 Axes>"
            ],
            "image/png": "[encoded data removed]"
          },
          "metadata": {
            "needs_background": "light"
          }
        }
      ]
    },
    {
      "cell_type": "markdown",
      "source": [
        "Dựa vào biểu đồ trên chúng ta sẽ chọn số n_components = 4"
      ],
      "metadata": {
        "id": "V_avzhaJXJcc"
      }
    },
    {
      "cell_type": "markdown",
      "source": [
        "#Spliting the Data after FS"
      ],
      "metadata": {
        "id": "s7sesUUwO-mp"
      }
    },
    {
      "cell_type": "code",
      "source": [
        "X=X[select_ft]\n",
        "X.head()"
      ],
      "metadata": {
        "colab": {
          "base_uri": "https://localhost:8080/",
          "height": 270
        },
        "id": "dWqKGCt6NeLG",
        "outputId": "3221016a-5d79-4c0f-95ca-b8fa1e29ee2e"
      },
      "execution_count": null,
      "outputs": [
        {
          "output_type": "execute_result",
          "data": {
            "text/plain": [
              "   AGE  PAY_0  PAY_2  BILL_AMT1  BILL_AMT2  BILL_AMT3  BILL_AMT4  BILL_AMT5  \\\n",
              "0   24      2      2     3913.0     3102.0      689.0        0.0        0.0   \n",
              "1   26      0      2     2682.0     1725.0     2682.0     3272.0     3455.0   \n",
              "2   34      0      0    29239.0    14027.0    13559.0    14331.0    14948.0   \n",
              "3   37      0      0    46990.0    48233.0    49291.0    28314.0    28959.0   \n",
              "4   57      0      0     8617.0     5670.0    35835.0    20940.0    19146.0   \n",
              "\n",
              "   BILL_AMT6  PAY_AMT1  PAY_AMT2  PAY_AMT3  PAY_AMT4  PAY_AMT5  PAY_AMT6  \\\n",
              "0        0.0       0.0     689.0       0.0       0.0       0.0       0.0   \n",
              "1     3261.0       0.0    1000.0    1000.0    1000.0       0.0    2000.0   \n",
              "2    15549.0    1518.0    1500.0    1000.0    1000.0    1000.0    5000.0   \n",
              "3    29547.0    2000.0    2019.0    1200.0    1100.0    1069.0    1000.0   \n",
              "4    19131.0    2000.0   36681.0   10000.0    9000.0     689.0     679.0   \n",
              "\n",
              "   LIMIT_BAL_mean  \n",
              "0  -147484.322667  \n",
              "1   -47484.322667  \n",
              "2   -77484.322667  \n",
              "3  -117484.322667  \n",
              "4  -117484.322667  "
            ],
            "text/html": [
              "\n",
              "  <div id=\"df-673be625-cc74-4b46-908b-7c3afaad2402\">\n",
              "    <div class=\"colab-df-container\">\n",
              "      <div>\n",
              "<style scoped>\n",
              "    .dataframe tbody tr th:only-of-type {\n",
              "        vertical-align: middle;\n",
              "    }\n",
              "\n",
              "    .dataframe tbody tr th {\n",
              "        vertical-align: top;\n",
              "    }\n",
              "\n",
              "    .dataframe thead th {\n",
              "        text-align: right;\n",
              "    }\n",
              "</style>\n",
              "<table border=\"1\" class=\"dataframe\">\n",
              "  <thead>\n",
              "    <tr style=\"text-align: right;\">\n",
              "      <th></th>\n",
              "      <th>AGE</th>\n",
              "      <th>PAY_0</th>\n",
              "      <th>PAY_2</th>\n",
              "      <th>BILL_AMT1</th>\n",
              "      <th>BILL_AMT2</th>\n",
              "      <th>BILL_AMT3</th>\n",
              "      <th>BILL_AMT4</th>\n",
              "      <th>BILL_AMT5</th>\n",
              "      <th>BILL_AMT6</th>\n",
              "      <th>PAY_AMT1</th>\n",
              "      <th>PAY_AMT2</th>\n",
              "      <th>PAY_AMT3</th>\n",
              "      <th>PAY_AMT4</th>\n",
              "      <th>PAY_AMT5</th>\n",
              "      <th>PAY_AMT6</th>\n",
              "      <th>LIMIT_BAL_mean</th>\n",
              "    </tr>\n",
              "  </thead>\n",
              "  <tbody>\n",
              "    <tr>\n",
              "      <th>0</th>\n",
              "      <td>24</td>\n",
              "      <td>2</td>\n",
              "      <td>2</td>\n",
              "      <td>3913.0</td>\n",
              "      <td>3102.0</td>\n",
              "      <td>689.0</td>\n",
              "      <td>0.0</td>\n",
              "      <td>0.0</td>\n",
              "      <td>0.0</td>\n",
              "      <td>0.0</td>\n",
              "      <td>689.0</td>\n",
              "      <td>0.0</td>\n",
              "      <td>0.0</td>\n",
              "      <td>0.0</td>\n",
              "      <td>0.0</td>\n",
              "      <td>-147484.322667</td>\n",
              "    </tr>\n",
              "    <tr>\n",
              "      <th>1</th>\n",
              "      <td>26</td>\n",
              "      <td>0</td>\n",
              "      <td>2</td>\n",
              "      <td>2682.0</td>\n",
              "      <td>1725.0</td>\n",
              "      <td>2682.0</td>\n",
              "      <td>3272.0</td>\n",
              "      <td>3455.0</td>\n",
              "      <td>3261.0</td>\n",
              "      <td>0.0</td>\n",
              "      <td>1000.0</td>\n",
              "      <td>1000.0</td>\n",
              "      <td>1000.0</td>\n",
              "      <td>0.0</td>\n",
              "      <td>2000.0</td>\n",
              "      <td>-47484.322667</td>\n",
              "    </tr>\n",
              "    <tr>\n",
              "      <th>2</th>\n",
              "      <td>34</td>\n",
              "      <td>0</td>\n",
              "      <td>0</td>\n",
              "      <td>29239.0</td>\n",
              "      <td>14027.0</td>\n",
              "      <td>13559.0</td>\n",
              "      <td>14331.0</td>\n",
              "      <td>14948.0</td>\n",
              "      <td>15549.0</td>\n",
              "      <td>1518.0</td>\n",
              "      <td>1500.0</td>\n",
              "      <td>1000.0</td>\n",
              "      <td>1000.0</td>\n",
              "      <td>1000.0</td>\n",
              "      <td>5000.0</td>\n",
              "      <td>-77484.322667</td>\n",
              "    </tr>\n",
              "    <tr>\n",
              "      <th>3</th>\n",
              "      <td>37</td>\n",
              "      <td>0</td>\n",
              "      <td>0</td>\n",
              "      <td>46990.0</td>\n",
              "      <td>48233.0</td>\n",
              "      <td>49291.0</td>\n",
              "      <td>28314.0</td>\n",
              "      <td>28959.0</td>\n",
              "      <td>29547.0</td>\n",
              "      <td>2000.0</td>\n",
              "      <td>2019.0</td>\n",
              "      <td>1200.0</td>\n",
              "      <td>1100.0</td>\n",
              "      <td>1069.0</td>\n",
              "      <td>1000.0</td>\n",
              "      <td>-117484.322667</td>\n",
              "    </tr>\n",
              "    <tr>\n",
              "      <th>4</th>\n",
              "      <td>57</td>\n",
              "      <td>0</td>\n",
              "      <td>0</td>\n",
              "      <td>8617.0</td>\n",
              "      <td>5670.0</td>\n",
              "      <td>35835.0</td>\n",
              "      <td>20940.0</td>\n",
              "      <td>19146.0</td>\n",
              "      <td>19131.0</td>\n",
              "      <td>2000.0</td>\n",
              "      <td>36681.0</td>\n",
              "      <td>10000.0</td>\n",
              "      <td>9000.0</td>\n",
              "      <td>689.0</td>\n",
              "      <td>679.0</td>\n",
              "      <td>-117484.322667</td>\n",
              "    </tr>\n",
              "  </tbody>\n",
              "</table>\n",
              "</div>\n",
              "      <button class=\"colab-df-convert\" onclick=\"convertToInteractive('df-673be625-cc74-4b46-908b-7c3afaad2402')\"\n",
              "              title=\"Convert this dataframe to an interactive table.\"\n",
              "              style=\"display:none;\">\n",
              "        \n",
              "  <svg xmlns=\"http://www.w3.org/2000/svg\" height=\"24px\"viewBox=\"0 0 24 24\"\n",
              "       width=\"24px\">\n",
              "    <path d=\"M0 0h24v24H0V0z\" fill=\"none\"/>\n",
              "    <path d=\"M18.56 5.44l.94 2.06.94-2.06 2.06-.94-2.06-.94-.94-2.06-.94 2.06-2.06.94zm-11 1L8.5 8.5l.94-2.06 2.06-.94-2.06-.94L8.5 2.5l-.94 2.06-2.06.94zm10 10l.94 2.06.94-2.06 2.06-.94-2.06-.94-.94-2.06-.94 2.06-2.06.94z\"/><path d=\"M17.41 7.96l-1.37-1.37c-.4-.4-.92-.59-1.43-.59-.52 0-1.04.2-1.43.59L10.3 9.45l-7.72 7.72c-.78.78-.78 2.05 0 2.83L4 21.41c.39.39.9.59 1.41.59.51 0 1.02-.2 1.41-.59l7.78-7.78 2.81-2.81c.8-.78.8-2.07 0-2.86zM5.41 20L4 18.59l7.72-7.72 1.47 1.35L5.41 20z\"/>\n",
              "  </svg>\n",
              "      </button>\n",
              "      \n",
              "  <style>\n",
              "    .colab-df-container {\n",
              "      display:flex;\n",
              "      flex-wrap:wrap;\n",
              "      gap: 12px;\n",
              "    }\n",
              "\n",
              "    .colab-df-convert {\n",
              "      background-color: #E8F0FE;\n",
              "      border: none;\n",
              "      border-radius: 50%;\n",
              "      cursor: pointer;\n",
              "      display: none;\n",
              "      fill: #1967D2;\n",
              "      height: 32px;\n",
              "      padding: 0 0 0 0;\n",
              "      width: 32px;\n",
              "    }\n",
              "\n",
              "    .colab-df-convert:hover {\n",
              "      background-color: #E2EBFA;\n",
              "      box-shadow: 0px 1px 2px rgba(60, 64, 67, 0.3), 0px 1px 3px 1px rgba(60, 64, 67, 0.15);\n",
              "      fill: #174EA6;\n",
              "    }\n",
              "\n",
              "    [theme=dark] .colab-df-convert {\n",
              "      background-color: #3B4455;\n",
              "      fill: #D2E3FC;\n",
              "    }\n",
              "\n",
              "    [theme=dark] .colab-df-convert:hover {\n",
              "      background-color: #434B5C;\n",
              "      box-shadow: 0px 1px 3px 1px rgba(0, 0, 0, 0.15);\n",
              "      filter: drop-shadow(0px 1px 2px rgba(0, 0, 0, 0.3));\n",
              "      fill: #FFFFFF;\n",
              "    }\n",
              "  </style>\n",
              "\n",
              "      <script>\n",
              "        const buttonEl =\n",
              "          document.querySelector('#df-673be625-cc74-4b46-908b-7c3afaad2402 button.colab-df-convert');\n",
              "        buttonEl.style.display =\n",
              "          google.colab.kernel.accessAllowed ? 'block' : 'none';\n",
              "\n",
              "        async function convertToInteractive(key) {\n",
              "          const element = document.querySelector('#df-673be625-cc74-4b46-908b-7c3afaad2402');\n",
              "          const dataTable =\n",
              "            await google.colab.kernel.invokeFunction('convertToInteractive',\n",
              "                                                     [key], {});\n",
              "          if (!dataTable) return;\n",
              "\n",
              "          const docLinkHtml = 'Like what you see? Visit the ' +\n",
              "            '<a target=\"_blank\" href=https://colab.research.google.com/notebooks/data_table.ipynb>data table notebook</a>'\n",
              "            + ' to learn more about interactive tables.';\n",
              "          element.innerHTML = '';\n",
              "          dataTable['output_type'] = 'display_data';\n",
              "          await google.colab.output.renderOutput(dataTable, element);\n",
              "          const docLink = document.createElement('div');\n",
              "          docLink.innerHTML = docLinkHtml;\n",
              "          element.appendChild(docLink);\n",
              "        }\n",
              "      </script>\n",
              "    </div>\n",
              "  </div>\n",
              "  "
            ]
          },
          "metadata": {},
          "execution_count": 43
        }
      ]
    },
    {
      "cell_type": "code",
      "source": [
        "# split X and y into training and testing sets\n",
        "from sklearn.preprocessing import RobustScaler\n",
        "from sklearn.model_selection import train_test_split\n",
        "\n",
        "X_train, X_test, y_train, y_test = train_test_split(X, y, test_size = 0.2, random_state = 0)\n",
        "#normalize\n",
        "rs = RobustScaler()\n",
        "X_train = rs.fit_transform(X_train)\n",
        "X_test = rs.transform(X_test)"
      ],
      "metadata": {
        "id": "9il5q-ZcNvnh"
      },
      "execution_count": null,
      "outputs": []
    },
    {
      "cell_type": "code",
      "source": [
        "from collections import Counter\n",
        "from imblearn.over_sampling import SMOTE\n",
        "print('Original dataset shape %s' % Counter(y_train))\n",
        "\n",
        "smote = SMOTE(random_state=42)\n",
        "X_train_smote, y_train_smote = smote.fit_resample(X_train, y_train)\n",
        "\n",
        "print('Resampled dataset shape %s' % Counter(y_train_smote))"
      ],
      "metadata": {
        "colab": {
          "base_uri": "https://localhost:8080/"
        },
        "id": "lI_cmQPGO6-n",
        "outputId": "f4461045-5bcb-474c-cc8a-205c56bedfdc"
      },
      "execution_count": null,
      "outputs": [
        {
          "output_type": "stream",
          "name": "stdout",
          "text": [
            "Original dataset shape Counter({0: 18661, 1: 5339})\n",
            "Resampled dataset shape Counter({0: 18661, 1: 18661})\n"
          ]
        }
      ]
    },
    {
      "cell_type": "markdown",
      "source": [
        "#Modeling"
      ],
      "metadata": {
        "id": "jS3Gbb6OPcRD"
      }
    },
    {
      "cell_type": "markdown",
      "source": [
        "##Logistic Regression"
      ],
      "metadata": {
        "id": "a5lug5ocPfRu"
      }
    },
    {
      "cell_type": "code",
      "source": [
        "# Logistic Regression with SMOTE\n",
        "from sklearn.linear_model import LogisticRegression\n",
        "\n",
        "params_lr = {'penalty': 'l1', 'solver':'liblinear'}\n",
        "\n",
        "model_lrsmt = LogisticRegression(**params_lr)\n",
        "model_lrsmt, accuracy_lrsmt, roc_auc_lrsmt,f1_score_lrsmt,coh_kap_lrsmt, tt_lrsmt = run_model(model_lrsmt, X_train_smote, y_train_smote, X_test, y_test)"
      ],
      "metadata": {
        "colab": {
          "base_uri": "https://localhost:8080/",
          "height": 802
        },
        "id": "R-yQhBobPja_",
        "outputId": "f7efbc35-6243-43b9-fc43-a5405e147a53"
      },
      "execution_count": null,
      "outputs": [
        {
          "output_type": "stream",
          "name": "stdout",
          "text": [
            "Accuracy = 0.7875\n",
            "ROC Area under Curve = 0.6938631995751986\n",
            "F1 Score  = 0.5183226293917642\n",
            "Cohen's Kappa = 0.38207284270724784\n",
            "Time taken = 0.46817564964294434\n",
            "              precision    recall  f1-score   support\n",
            "\n",
            "           0    0.86860   0.85881   0.86368      4703\n",
            "           1    0.50815   0.52891   0.51832      1297\n",
            "\n",
            "    accuracy                        0.78750      6000\n",
            "   macro avg    0.68838   0.69386   0.69100      6000\n",
            "weighted avg    0.79068   0.78750   0.78903      6000\n",
            "\n"
          ]
        },
        {
          "output_type": "display_data",
          "data": {
            "text/plain": [
              "<Figure size 432x288 with 1 Axes>"
            ],
            "image/png": "[encoded data removed]"
          },
          "metadata": {
            "needs_background": "light"
          }
        },
        {
          "output_type": "display_data",
          "data": {
            "text/plain": [
              "<Figure size 432x288 with 2 Axes>"
            ],
            "image/png": "[encoded data removed]"
          },
          "metadata": {
            "needs_background": "light"
          }
        }
      ]
    },
    {
      "cell_type": "markdown",
      "source": [
        "##Decision Tree"
      ],
      "metadata": {
        "id": "KPqr62zSKHkC"
      }
    },
    {
      "cell_type": "code",
      "source": [
        "# Decision Tree\n",
        "from sklearn.tree import DecisionTreeClassifier\n",
        "\n",
        "params_dt = {'max_depth': 16,\n",
        "             'max_features': \"sqrt\"}\n",
        "\n",
        "model_dtsmt = DecisionTreeClassifier(**params_dt)\n",
        "model_dtsmt, accuracy_dtsmt, roc_auc_dtsmt, f1_score_dtsmt,coh_kap_dtsmt, tt_dtsmt = run_model(model_dtsmt, X_train_smote, y_train_smote, X_test, y_test)"
      ],
      "metadata": {
        "colab": {
          "base_uri": "https://localhost:8080/",
          "height": 800
        },
        "id": "oVcG-fpaKJi7",
        "outputId": "e1c62e73-823f-4aa1-8a39-1c82f3163514"
      },
      "execution_count": null,
      "outputs": [
        {
          "output_type": "stream",
          "name": "stdout",
          "text": [
            "Accuracy = 0.7023333333333334\n",
            "ROC Area under Curve = 0.6322772370397608\n",
            "F1 Score  = 0.4249839021249195\n",
            "Cohen's Kappa = 0.23146732509749735\n",
            "Time taken = 0.22556138038635254\n",
            "              precision    recall  f1-score   support\n",
            "\n",
            "           0    0.84801   0.75569   0.79919      4703\n",
            "           1    0.36484   0.50887   0.42498      1297\n",
            "\n",
            "    accuracy                        0.70233      6000\n",
            "   macro avg    0.60643   0.63228   0.61209      6000\n",
            "weighted avg    0.74356   0.70233   0.71830      6000\n",
            "\n"
          ]
        },
        {
          "output_type": "display_data",
          "data": {
            "text/plain": [
              "<Figure size 432x288 with 1 Axes>"
            ],
            "image/png": "[encoded data removed]"
          },
          "metadata": {
            "needs_background": "light"
          }
        },
        {
          "output_type": "display_data",
          "data": {
            "text/plain": [
              "<Figure size 432x288 with 2 Axes>"
            ],
            "image/png": "[encoded data removed]"
          },
          "metadata": {
            "needs_background": "light"
          }
        }
      ]
    },
    {
      "cell_type": "markdown",
      "source": [
        "##Random Forest"
      ],
      "metadata": {
        "id": "1MFv6FLeP6s9"
      }
    },
    {
      "cell_type": "code",
      "source": [
        "# Random Forest with SMOTE\n",
        "from sklearn.ensemble import RandomForestClassifier\n",
        "\n",
        "params_rf = {'max_depth': 16,\n",
        "             'min_samples_leaf': 1,\n",
        "             'min_samples_split': 2,\n",
        "             'n_estimators': 100,\n",
        "             'random_state': 12345}\n",
        "\n",
        "model_rfsmt = RandomForestClassifier(**params_rf)\n",
        "model_rfsmt, accuracy_rfsmt, roc_auc_rfsmt, f1_score_rfsmt,coh_kap_rfsmt, tt_rfsmt = run_model(model_rfsmt, X_train_smote, y_train_smote, X_test, y_test)"
      ],
      "metadata": {
        "colab": {
          "base_uri": "https://localhost:8080/",
          "height": 800
        },
        "id": "JLLDwcQoP3ro",
        "outputId": "abb7518d-5c74-4ad8-fc09-172038435484"
      },
      "execution_count": null,
      "outputs": [
        {
          "output_type": "stream",
          "name": "stdout",
          "text": [
            "Accuracy = 0.7943333333333333\n",
            "ROC Area under Curve = 0.6951510305844905\n",
            "F1 Score  = 0.5224458204334366\n",
            "Cohen's Kappa = 0.391394795882988\n",
            "Time taken = 13.171151399612427\n",
            "              precision    recall  f1-score   support\n",
            "\n",
            "           0    0.86802   0.86987   0.86895      4703\n",
            "           1    0.52448   0.52043   0.52245      1297\n",
            "\n",
            "    accuracy                        0.79433      6000\n",
            "   macro avg    0.69625   0.69515   0.69570      6000\n",
            "weighted avg    0.79376   0.79433   0.79404      6000\n",
            "\n"
          ]
        },
        {
          "output_type": "display_data",
          "data": {
            "text/plain": [
              "<Figure size 432x288 with 1 Axes>"
            ],
            "image/png": "[encoded data removed]"
          },
          "metadata": {
            "needs_background": "light"
          }
        },
        {
          "output_type": "display_data",
          "data": {
            "text/plain": [
              "<Figure size 432x288 with 2 Axes>"
            ],
            "image/png": "[encoded data removed]"
          },
          "metadata": {
            "needs_background": "light"
          }
        }
      ]
    },
    {
      "cell_type": "markdown",
      "source": [
        "##AdaBoost"
      ],
      "metadata": {
        "id": "U8LTmdq_Qttw"
      }
    },
    {
      "cell_type": "code",
      "source": [
        "from sklearn.tree import DecisionTreeClassifier\n",
        "from sklearn.ensemble import AdaBoostClassifier\n",
        "model_adasmote = AdaBoostClassifier(DecisionTreeClassifier(max_depth=2),\n",
        "                                  n_estimators=50,\n",
        "                                  algorithm=\"SAMME.R\",\n",
        "                                  learning_rate=0.5)\n",
        "model_adasmt, accuracy_adasmt, roc_auc_adasmt, f1_score_adasmt,coh_kap_adasmt, tt_adasmt = run_model(model_adasmote, X_train_smote, y_train_smote, X_test, y_test)"
      ],
      "metadata": {
        "colab": {
          "base_uri": "https://localhost:8080/",
          "height": 800
        },
        "id": "WLyYoN5BQwUV",
        "outputId": "7f1913f9-32be-4359-dbd3-5319f5d49d81"
      },
      "execution_count": null,
      "outputs": [
        {
          "output_type": "stream",
          "name": "stdout",
          "text": [
            "Accuracy = 0.8073333333333333\n",
            "ROC Area under Curve = 0.6671489236270555\n",
            "F1 Score  = 0.48530721282279604\n",
            "Cohen's Kappa = 0.3702728472655623\n",
            "Time taken = 7.410293817520142\n",
            "              precision    recall  f1-score   support\n",
            "\n",
            "           0    0.85112   0.91410   0.88148      4703\n",
            "           1    0.57429   0.42020   0.48531      1297\n",
            "\n",
            "    accuracy                        0.80733      6000\n",
            "   macro avg    0.71270   0.66715   0.68340      6000\n",
            "weighted avg    0.79128   0.80733   0.79584      6000\n",
            "\n"
          ]
        },
        {
          "output_type": "display_data",
          "data": {
            "text/plain": [
              "<Figure size 432x288 with 1 Axes>"
            ],
            "image/png": "[encoded data removed]"
          },
          "metadata": {
            "needs_background": "light"
          }
        },
        {
          "output_type": "display_data",
          "data": {
            "text/plain": [
              "<Figure size 432x288 with 2 Axes>"
            ],
            "image/png": "[encoded data removed]"
          },
          "metadata": {
            "needs_background": "light"
          }
        }
      ]
    },
    {
      "cell_type": "markdown",
      "source": [
        "##CatBoost"
      ],
      "metadata": {
        "id": "iYjTPE9FIohm"
      }
    },
    {
      "cell_type": "code",
      "source": [
        "#!pip install catboost\n",
        "# Catboost\n",
        "import catboost as cb\n",
        "params_cb ={'iterations': 20,\n",
        "            'max_depth': 8}\n",
        "\n",
        "model_cbsmt = cb.CatBoostClassifier(**params_cb)\n",
        "model_cbsmt, accuracy_cbsmt, roc_auc_cbsmt, f1_score_cbsmt,coh_kap_cbsmt, tt_cbsmt = run_model(model_cbsmt, X_train_smote, y_train_smote, X_test, y_test)"
      ],
      "metadata": {
        "colab": {
          "base_uri": "https://localhost:8080/",
          "height": 1000
        },
        "id": "dmRgBXHeIvvW",
        "outputId": "62cc1e88-13ab-47fd-9edc-ed884883988c"
      },
      "execution_count": null,
      "outputs": [
        {
          "output_type": "stream",
          "name": "stdout",
          "text": [
            "Learning rate set to 0.5\n",
            "0:\tlearn: 0.6085700\ttotal: 72.6ms\tremaining: 1.38s\n",
            "1:\tlearn: 0.5777818\ttotal: 92.4ms\tremaining: 831ms\n",
            "2:\tlearn: 0.5600275\ttotal: 113ms\tremaining: 639ms\n",
            "3:\tlearn: 0.5499149\ttotal: 132ms\tremaining: 530ms\n",
            "4:\tlearn: 0.5413993\ttotal: 155ms\tremaining: 464ms\n",
            "5:\tlearn: 0.5334537\ttotal: 185ms\tremaining: 431ms\n",
            "6:\tlearn: 0.5264505\ttotal: 208ms\tremaining: 387ms\n",
            "7:\tlearn: 0.5157957\ttotal: 229ms\tremaining: 344ms\n",
            "8:\tlearn: 0.5068982\ttotal: 249ms\tremaining: 305ms\n",
            "9:\tlearn: 0.4998234\ttotal: 269ms\tremaining: 269ms\n",
            "10:\tlearn: 0.4967984\ttotal: 288ms\tremaining: 236ms\n",
            "11:\tlearn: 0.4909472\ttotal: 318ms\tremaining: 212ms\n",
            "12:\tlearn: 0.4867876\ttotal: 339ms\tremaining: 183ms\n",
            "13:\tlearn: 0.4769624\ttotal: 359ms\tremaining: 154ms\n",
            "14:\tlearn: 0.4680997\ttotal: 380ms\tremaining: 127ms\n",
            "15:\tlearn: 0.4622421\ttotal: 400ms\tremaining: 100ms\n",
            "16:\tlearn: 0.4575881\ttotal: 426ms\tremaining: 75.1ms\n",
            "17:\tlearn: 0.4537710\ttotal: 447ms\tremaining: 49.6ms\n",
            "18:\tlearn: 0.4514263\ttotal: 466ms\tremaining: 24.5ms\n",
            "19:\tlearn: 0.4481093\ttotal: 485ms\tremaining: 0us\n",
            "Accuracy = 0.7845\n",
            "ROC Area under Curve = 0.6922287173445779\n",
            "F1 Score  = 0.5151856017997751\n",
            "Cohen's Kappa = 0.376778366706244\n",
            "Time taken = 0.8026010990142822\n",
            "              precision    recall  f1-score   support\n",
            "\n",
            "           0    0.86825   0.85477   0.86146      4703\n",
            "           1    0.50146   0.52968   0.51519      1297\n",
            "\n",
            "    accuracy                        0.78450      6000\n",
            "   macro avg    0.68486   0.69223   0.68832      6000\n",
            "weighted avg    0.78896   0.78450   0.78661      6000\n",
            "\n"
          ]
        },
        {
          "output_type": "display_data",
          "data": {
            "text/plain": [
              "<Figure size 432x288 with 1 Axes>"
            ],
            "image/png": "[encoded data removed]"
          },
          "metadata": {
            "needs_background": "light"
          }
        },
        {
          "output_type": "display_data",
          "data": {
            "text/plain": [
              "<Figure size 432x288 with 2 Axes>"
            ],
            "image/png": "[encoded data removed]"
          },
          "metadata": {
            "needs_background": "light"
          }
        }
      ]
    },
    {
      "cell_type": "markdown",
      "source": [
        "##LightGBM"
      ],
      "metadata": {
        "id": "7Zf21Q8dJND4"
      }
    },
    {
      "cell_type": "code",
      "source": [
        "# Light GBM with SMOTE\n",
        "import lightgbm as lgb\n",
        "params = {\n",
        "          'boosting_type': 'gbdt',\n",
        "          'objective': 'binary',\n",
        "          'metric':'auc',\n",
        "          'learning_rate': 0.05,\n",
        "          'num_leaves': 7,  # Nên đặt nhỏ hơn 2^(max_depth)\n",
        "          'max_depth': 4,  # -1 là không giới hạn\n",
        "          'min_child_samples': 100,  # Số lượng mẫu tối thiểu trong một lá\n",
        "          'max_bin': 100,  # Khoảng phân chia\n",
        "          'subsample': 0.9,  # Lấy 90% quan sát trong tập train.\n",
        "          'subsample_freq': 1,  # frequence of subsample, <=0 means no enable\n",
        "          'colsample_bytree': 0.7,  # Subsample ratio of columns when constructing each tree.\n",
        "         }\n",
        "model_lgbsmt = lgb.LGBMClassifier(**params)\n",
        "model_lgbsmt, accuracy_lgbsmt, roc_auc_lgbsmt, f1_score_lgbsmt,coh_kap_lgbsmt, tt_lgbsmt = run_model(model_lgbsmt, X_train_smote, y_train_smote, X_test, y_test)"
      ],
      "metadata": {
        "colab": {
          "base_uri": "https://localhost:8080/",
          "height": 800
        },
        "id": "bSlG0HsWKyBP",
        "outputId": "1d77ad7b-249f-45c6-9410-7bf93a626903"
      },
      "execution_count": null,
      "outputs": [
        {
          "output_type": "stream",
          "name": "stdout",
          "text": [
            "Accuracy = 0.7768333333333334\n",
            "ROC Area under Curve = 0.6887341713839048\n",
            "F1 Score  = 0.5082629452809402\n",
            "Cohen's Kappa = 0.364346232394511\n",
            "Time taken = 4.674314737319946\n",
            "              precision    recall  f1-score   support\n",
            "\n",
            "           0    0.86773   0.84393   0.85566      4703\n",
            "           1    0.48527   0.53354   0.50826      1297\n",
            "\n",
            "    accuracy                        0.77683      6000\n",
            "   macro avg    0.67650   0.68873   0.68196      6000\n",
            "weighted avg    0.78506   0.77683   0.78057      6000\n",
            "\n"
          ]
        },
        {
          "output_type": "display_data",
          "data": {
            "text/plain": [
              "<Figure size 432x288 with 1 Axes>"
            ],
            "image/png": "[encoded data removed]"
          },
          "metadata": {
            "needs_background": "light"
          }
        },
        {
          "output_type": "display_data",
          "data": {
            "text/plain": [
              "<Figure size 432x288 with 2 Axes>"
            ],
            "image/png": "[encoded data removed]"
          },
          "metadata": {
            "needs_background": "light"
          }
        }
      ]
    },
    {
      "cell_type": "markdown",
      "source": [
        "##XGB"
      ],
      "metadata": {
        "id": "fn7skax3L6Sx"
      }
    },
    {
      "cell_type": "code",
      "source": [
        "# XGBoost with Booster Dart\n",
        "import xgboost as xgb\n",
        "params_xgb ={\n",
        "    'booster': 'dart',\n",
        "    'objective':'binary:logistic',\n",
        "    'eta':0.1,\n",
        "    'silent':True,\n",
        "    'max_depth':8,\n",
        "    'subsample': 0.8,\n",
        "    'colsample_bytree': 0.9,\n",
        "    'eval_metric':'auc',\n",
        "    'random_state': 42,\n",
        "    'n_estimators': 200\n",
        "    }\n",
        "\n",
        "model_xgbdart = xgb.XGBClassifier(**params_xgb)\n",
        "model_xgbdart, accuracy_xgbdart, roc_auc_xgbdart, f1_score_xgbdart,coh_kap_xgbdart, tt_xgbdart = run_model(model_xgbdart, X_train_smote, y_train_smote, X_test, y_test)"
      ],
      "metadata": {
        "colab": {
          "base_uri": "https://localhost:8080/",
          "height": 800
        },
        "id": "KLiHweigL50E",
        "outputId": "e2d5a84e-6953-4d36-f995-d6bfd7774310"
      },
      "execution_count": null,
      "outputs": [
        {
          "output_type": "stream",
          "name": "stdout",
          "text": [
            "Accuracy = 0.815\n",
            "ROC Area under Curve = 0.6734353685232822\n",
            "F1 Score  = 0.49773755656108604\n",
            "Cohen's Kappa = 0.38852397215562195\n",
            "Time taken = 116.11386156082153\n",
            "              precision    recall  f1-score   support\n",
            "\n",
            "           0    0.85316   0.92282   0.88662      4703\n",
            "           1    0.60241   0.42406   0.49774      1297\n",
            "\n",
            "    accuracy                        0.81500      6000\n",
            "   macro avg    0.72778   0.67344   0.69218      6000\n",
            "weighted avg    0.79895   0.81500   0.80256      6000\n",
            "\n"
          ]
        },
        {
          "output_type": "display_data",
          "data": {
            "text/plain": [
              "<Figure size 432x288 with 1 Axes>"
            ],
            "image/png": "[encoded data removed]"
          },
          "metadata": {
            "needs_background": "light"
          }
        },
        {
          "output_type": "display_data",
          "data": {
            "text/plain": [
              "<Figure size 432x288 with 2 Axes>"
            ],
            "image/png": "[encoded data removed]"
          },
          "metadata": {
            "needs_background": "light"
          }
        }
      ]
    },
    {
      "cell_type": "code",
      "source": [
        "# XGBoost with Booster Dart\n",
        "import xgboost as xgb\n",
        "params_xgb ={\n",
        "    'booster': 'gbtree',\n",
        "    'objective':'binary:logistic',\n",
        "    'eta':0.1,\n",
        "    'silent':True,\n",
        "    'max_depth':8,\n",
        "    'subsample': 0.8,\n",
        "    'colsample_bytree': 0.9,\n",
        "    'eval_metric':'auc',\n",
        "    'random_state': 42,\n",
        "    'n_estimators': 200\n",
        "    }\n",
        "\n",
        "model_xgbgbtree = xgb.XGBClassifier(**params_xgb)\n",
        "model_xgbgbtree, accuracy_gbtree, roc_auc_gbtree, f1_score_gbtree,coh_kap_gbtree, tt_gbtree = run_model(model_xgbgbtree, X_train_smote, y_train_smote, X_test, y_test)"
      ],
      "metadata": {
        "colab": {
          "base_uri": "https://localhost:8080/",
          "height": 800
        },
        "id": "rgLIqFvoOJ_R",
        "outputId": "aa6354be-dc80-43ab-e2a0-319067c607f6"
      },
      "execution_count": null,
      "outputs": [
        {
          "output_type": "stream",
          "name": "stdout",
          "text": [
            "Accuracy = 0.8148333333333333\n",
            "ROC Area under Curve = 0.6708163443632741\n",
            "F1 Score  = 0.49338805289557697\n",
            "Cohen's Kappa = 0.38470206509715543\n",
            "Time taken = 19.574193477630615\n",
            "              precision    recall  f1-score   support\n",
            "\n",
            "           0    0.85188   0.92452   0.88671      4703\n",
            "           1    0.60379   0.41712   0.49339      1297\n",
            "\n",
            "    accuracy                        0.81483      6000\n",
            "   macro avg    0.72784   0.67082   0.69005      6000\n",
            "weighted avg    0.79825   0.81483   0.80169      6000\n",
            "\n"
          ]
        },
        {
          "output_type": "display_data",
          "data": {
            "text/plain": [
              "<Figure size 432x288 with 1 Axes>"
            ],
            "image/png": "[encoded data removed]"
          },
          "metadata": {
            "needs_background": "light"
          }
        },
        {
          "output_type": "display_data",
          "data": {
            "text/plain": [
              "<Figure size 432x288 with 2 Axes>"
            ],
            "image/png": "[encoded data removed]"
          },
          "metadata": {
            "needs_background": "light"
          }
        }
      ]
    },
    {
      "cell_type": "markdown",
      "source": [
        "##Voting Classifier"
      ],
      "metadata": {
        "id": "YuWxHgbhNiZY"
      }
    },
    {
      "cell_type": "code",
      "source": [
        "df_pred = pd.DataFrame(data = np.c_[accuracy_lrsmt, accuracy_dtsmt,accuracy_rfsmt,accuracy_adasmt,accuracy_lgbsmt, accuracy_xgbdart,accuracy_gbtree ],\n",
        "                       columns = ['logistic', 'tree', 'forest','ada','lgbm','dart', 'gbtree'])"
      ],
      "metadata": {
        "id": "idbYXc0PNlbH"
      },
      "execution_count": null,
      "outputs": []
    },
    {
      "cell_type": "code",
      "source": [
        "df_pred.head()"
      ],
      "metadata": {
        "colab": {
          "base_uri": "https://localhost:8080/",
          "height": 81
        },
        "id": "wzh3q_8_P4H-",
        "outputId": "d861c8ee-276d-40b7-bcf4-d44445750461"
      },
      "execution_count": null,
      "outputs": [
        {
          "output_type": "execute_result",
          "data": {
            "text/plain": [
              "   logistic      tree    forest       ada      lgbm   dart    gbtree\n",
              "0    0.7875  0.702333  0.794333  0.807333  0.776833  0.815  0.814833"
            ],
            "text/html": [
              "\n",
              "  <div id=\"df-e81b18e4-7912-469e-867d-6d601fd9cf67\">\n",
              "    <div class=\"colab-df-container\">\n",
              "      <div>\n",
              "<style scoped>\n",
              "    .dataframe tbody tr th:only-of-type {\n",
              "        vertical-align: middle;\n",
              "    }\n",
              "\n",
              "    .dataframe tbody tr th {\n",
              "        vertical-align: top;\n",
              "    }\n",
              "\n",
              "    .dataframe thead th {\n",
              "        text-align: right;\n",
              "    }\n",
              "</style>\n",
              "<table border=\"1\" class=\"dataframe\">\n",
              "  <thead>\n",
              "    <tr style=\"text-align: right;\">\n",
              "      <th></th>\n",
              "      <th>logistic</th>\n",
              "      <th>tree</th>\n",
              "      <th>forest</th>\n",
              "      <th>ada</th>\n",
              "      <th>lgbm</th>\n",
              "      <th>dart</th>\n",
              "      <th>gbtree</th>\n",
              "    </tr>\n",
              "  </thead>\n",
              "  <tbody>\n",
              "    <tr>\n",
              "      <th>0</th>\n",
              "      <td>0.7875</td>\n",
              "      <td>0.702333</td>\n",
              "      <td>0.794333</td>\n",
              "      <td>0.807333</td>\n",
              "      <td>0.776833</td>\n",
              "      <td>0.815</td>\n",
              "      <td>0.814833</td>\n",
              "    </tr>\n",
              "  </tbody>\n",
              "</table>\n",
              "</div>\n",
              "      <button class=\"colab-df-convert\" onclick=\"convertToInteractive('df-e81b18e4-7912-469e-867d-6d601fd9cf67')\"\n",
              "              title=\"Convert this dataframe to an interactive table.\"\n",
              "              style=\"display:none;\">\n",
              "        \n",
              "  <svg xmlns=\"http://www.w3.org/2000/svg\" height=\"24px\"viewBox=\"0 0 24 24\"\n",
              "       width=\"24px\">\n",
              "    <path d=\"M0 0h24v24H0V0z\" fill=\"none\"/>\n",
              "    <path d=\"M18.56 5.44l.94 2.06.94-2.06 2.06-.94-2.06-.94-.94-2.06-.94 2.06-2.06.94zm-11 1L8.5 8.5l.94-2.06 2.06-.94-2.06-.94L8.5 2.5l-.94 2.06-2.06.94zm10 10l.94 2.06.94-2.06 2.06-.94-2.06-.94-.94-2.06-.94 2.06-2.06.94z\"/><path d=\"M17.41 7.96l-1.37-1.37c-.4-.4-.92-.59-1.43-.59-.52 0-1.04.2-1.43.59L10.3 9.45l-7.72 7.72c-.78.78-.78 2.05 0 2.83L4 21.41c.39.39.9.59 1.41.59.51 0 1.02-.2 1.41-.59l7.78-7.78 2.81-2.81c.8-.78.8-2.07 0-2.86zM5.41 20L4 18.59l7.72-7.72 1.47 1.35L5.41 20z\"/>\n",
              "  </svg>\n",
              "      </button>\n",
              "      \n",
              "  <style>\n",
              "    .colab-df-container {\n",
              "      display:flex;\n",
              "      flex-wrap:wrap;\n",
              "      gap: 12px;\n",
              "    }\n",
              "\n",
              "    .colab-df-convert {\n",
              "      background-color: #E8F0FE;\n",
              "      border: none;\n",
              "      border-radius: 50%;\n",
              "      cursor: pointer;\n",
              "      display: none;\n",
              "      fill: #1967D2;\n",
              "      height: 32px;\n",
              "      padding: 0 0 0 0;\n",
              "      width: 32px;\n",
              "    }\n",
              "\n",
              "    .colab-df-convert:hover {\n",
              "      background-color: #E2EBFA;\n",
              "      box-shadow: 0px 1px 2px rgba(60, 64, 67, 0.3), 0px 1px 3px 1px rgba(60, 64, 67, 0.15);\n",
              "      fill: #174EA6;\n",
              "    }\n",
              "\n",
              "    [theme=dark] .colab-df-convert {\n",
              "      background-color: #3B4455;\n",
              "      fill: #D2E3FC;\n",
              "    }\n",
              "\n",
              "    [theme=dark] .colab-df-convert:hover {\n",
              "      background-color: #434B5C;\n",
              "      box-shadow: 0px 1px 3px 1px rgba(0, 0, 0, 0.15);\n",
              "      filter: drop-shadow(0px 1px 2px rgba(0, 0, 0, 0.3));\n",
              "      fill: #FFFFFF;\n",
              "    }\n",
              "  </style>\n",
              "\n",
              "      <script>\n",
              "        const buttonEl =\n",
              "          document.querySelector('#df-e81b18e4-7912-469e-867d-6d601fd9cf67 button.colab-df-convert');\n",
              "        buttonEl.style.display =\n",
              "          google.colab.kernel.accessAllowed ? 'block' : 'none';\n",
              "\n",
              "        async function convertToInteractive(key) {\n",
              "          const element = document.querySelector('#df-e81b18e4-7912-469e-867d-6d601fd9cf67');\n",
              "          const dataTable =\n",
              "            await google.colab.kernel.invokeFunction('convertToInteractive',\n",
              "                                                     [key], {});\n",
              "          if (!dataTable) return;\n",
              "\n",
              "          const docLinkHtml = 'Like what you see? Visit the ' +\n",
              "            '<a target=\"_blank\" href=https://colab.research.google.com/notebooks/data_table.ipynb>data table notebook</a>'\n",
              "            + ' to learn more about interactive tables.';\n",
              "          element.innerHTML = '';\n",
              "          dataTable['output_type'] = 'display_data';\n",
              "          await google.colab.output.renderOutput(dataTable, element);\n",
              "          const docLink = document.createElement('div');\n",
              "          docLink.innerHTML = docLinkHtml;\n",
              "          element.appendChild(docLink);\n",
              "        }\n",
              "      </script>\n",
              "    </div>\n",
              "  </div>\n",
              "  "
            ]
          },
          "metadata": {},
          "execution_count": 59
        }
      ]
    },
    {
      "cell_type": "code",
      "source": [
        "import time\n",
        "from sklearn.ensemble import VotingClassifier\n",
        "t0=time.time()\n",
        "vote = VotingClassifier(estimators=[('log', model_lrsmt),\n",
        "                                    ('tree', model_dtsmt),\n",
        "                                    ('rf', model_rfsmt),\n",
        "                                    ('lgbm', model_lgbsmt),\n",
        "                                    ('dart', model_xgbdart),\n",
        "                                    ], voting = 'hard')\n",
        "\n",
        "vote.fit(X_train_smote,y_train_smote)\n",
        "y_pred = vote.predict(X_test)\n",
        "accuracy_vote = accuracy_score(y_test, y_pred)\n",
        "roc_auc_vote = roc_auc_score(y_test, y_pred)\n",
        "f1_vote = f1_score(y_test, y_pred)\n",
        "coh_kap_vote = cohen_kappa_score(y_test, y_pred)\n",
        "tt_vote = time.time()-t0\n",
        "print(\"Accuracy = {}\".format(accuracy_vote))\n",
        "print(\"ROC Area under Curve = {}\".format(roc_auc_vote))\n",
        "print(\"F1 Score  = {}\".format(f1_vote))\n",
        "print(\"Cohen's Kappa = {}\".format(coh_kap_vote))\n",
        "print(\"Time taken = {}\".format(tt_vote))\n",
        "print(confusion_matrix(y_test,y_pred))\n",
        "print(classification_report(y_test,y_pred))"
      ],
      "metadata": {
        "colab": {
          "base_uri": "https://localhost:8080/"
        },
        "id": "L2ygk_UwQTCF",
        "outputId": "63c16aec-6907-458b-acda-851e4c73c938"
      },
      "execution_count": null,
      "outputs": [
        {
          "output_type": "stream",
          "name": "stdout",
          "text": [
            "Accuracy = 0.8006666666666666\n",
            "ROC Area under Curve = 0.6969574859204192\n",
            "F1 Score  = 0.5272727272727273\n",
            "Cohen's Kappa = 0.4010815585700672\n",
            "Time taken = 101.43371367454529\n",
            "[[4137  566]\n",
            " [ 630  667]]\n",
            "              precision    recall  f1-score   support\n",
            "\n",
            "           0       0.87      0.88      0.87      4703\n",
            "           1       0.54      0.51      0.53      1297\n",
            "\n",
            "    accuracy                           0.80      6000\n",
            "   macro avg       0.70      0.70      0.70      6000\n",
            "weighted avg       0.80      0.80      0.80      6000\n",
            "\n"
          ]
        }
      ]
    },
    {
      "cell_type": "markdown",
      "source": [
        "##Stacking Classifier"
      ],
      "metadata": {
        "id": "h2Ejo73sTQ5s"
      }
    },
    {
      "cell_type": "code",
      "source": [
        "base_models = []\n",
        "base_models.append(('log', LogisticRegression()))\n",
        "base_models.append(('tree', DecisionTreeClassifier()))\n",
        "base_models.append(('ada', AdaBoostClassifier(DecisionTreeClassifier(max_depth=2),n_estimators=50,algorithm=\"SAMME.R\",learning_rate=0.5)))\n",
        "base_models.append(('lgbm', lgb.LGBMClassifier()))\n",
        "base_models.append(('xgb', xgb.XGBClassifier()))"
      ],
      "metadata": {
        "id": "HEmvNgigTW5e"
      },
      "execution_count": null,
      "outputs": []
    },
    {
      "cell_type": "markdown",
      "source": [
        "Trong bài toán hồi quy chọn `meta_model` là linear regression, còn trong bài toán phân loại chúng ta sẽ chọn `meta_model` là logistic regression"
      ],
      "metadata": {
        "id": "4WEIP9xkWCLA"
      }
    },
    {
      "cell_type": "code",
      "source": [
        "meta_model = LogisticRegression()\n",
        "from sklearn.ensemble import StackingClassifier\n",
        "import time\n",
        "t0=time.time()\n",
        "stk = StackingClassifier(estimators=base_models, final_estimator=meta_model)\n",
        "stk, accuracy_stk, roc_auc_stk, f1_score_stk,coh_kap_stk, tt_stk = run_model(stk, X_train_smote, y_train_smote, X_test, y_test)"
      ],
      "metadata": {
        "colab": {
          "base_uri": "https://localhost:8080/",
          "height": 800
        },
        "id": "C3_Ache_WhMo",
        "outputId": "209b207b-86ec-4ab9-921c-8e495219ffda"
      },
      "execution_count": null,
      "outputs": [
        {
          "output_type": "stream",
          "name": "stdout",
          "text": [
            "Accuracy = 0.8116666666666666\n",
            "ROC Area under Curve = 0.6827558517988568\n",
            "F1 Score  = 0.5112456747404844\n",
            "Cohen's Kappa = 0.3967483132531193\n",
            "Time taken = 67.04237866401672\n",
            "              precision    recall  f1-score   support\n",
            "\n",
            "           0    0.85838   0.90984   0.88336      4703\n",
            "           1    0.58227   0.45567   0.51125      1297\n",
            "\n",
            "    accuracy                        0.81167      6000\n",
            "   macro avg    0.72032   0.68276   0.69730      6000\n",
            "weighted avg    0.79869   0.81167   0.80292      6000\n",
            "\n"
          ]
        },
        {
          "output_type": "display_data",
          "data": {
            "text/plain": [
              "<Figure size 432x288 with 1 Axes>"
            ],
            "image/png": "[encoded data removed]"
          },
          "metadata": {
            "needs_background": "light"
          }
        },
        {
          "output_type": "display_data",
          "data": {
            "text/plain": [
              "<Figure size 432x288 with 2 Axes>"
            ],
            "image/png": "[encoded data removed]"
          },
          "metadata": {
            "needs_background": "light"
          }
        }
      ]
    },
    {
      "cell_type": "markdown",
      "source": [
        "#Model Selection"
      ],
      "metadata": {
        "id": "7ecJRGTzbymP"
      }
    },
    {
      "cell_type": "code",
      "source": [
        "accuracy_scores = [accuracy_lrsmt, accuracy_dtsmt, accuracy_rfsmt, accuracy_adasmt, accuracy_cbsmt,\n",
        "                   accuracy_lgbsmt, accuracy_xgbdart, accuracy_gbtree, accuracy_vote, accuracy_stk]\n",
        "roc_auc_scores = [roc_auc_lrsmt, roc_auc_dtsmt, roc_auc_rfsmt, roc_auc_adasmt, roc_auc_cbsmt,\n",
        "                   roc_auc_lgbsmt, roc_auc_xgbdart, roc_auc_gbtree, roc_auc_vote, roc_auc_stk]\n",
        "coh_kap_scores = [coh_kap_lrsmt, coh_kap_dtsmt,coh_kap_rfsmt, coh_kap_adasmt, coh_kap_cbsmt,\n",
        "                  coh_kap_lgbsmt, coh_kap_xgbdart, coh_kap_gbtree, coh_kap_vote, coh_kap_stk]\n",
        "tt = [tt_lrsmt, tt_dtsmt, tt_rfsmt, tt_adasmt, tt_cbsmt, tt_lgbsmt, tt_xgbdart, tt_gbtree, tt_vote, tt_stk]\n",
        "\n",
        "model_data = {'Model': ['Logistic','DecisionTree','Random Forest','AdaBoost','Catboost',\n",
        "                        'LGBM', 'XGB Dart', 'XGB GBTree', 'Vote', 'Stacking'],\n",
        "              'Accuracy': accuracy_scores,\n",
        "              'ROC_AUC': roc_auc_scores,\n",
        "              #'F1 Score': f1_scores,\n",
        "              'Cohen_Kappa': coh_kap_scores,\n",
        "              'Time taken': tt}\n",
        "data = pd.DataFrame(model_data)\n",
        "\n",
        "fig, ax1 = plt.subplots(figsize=(12,10))\n",
        "ax1.set_title('Model Comparison: Accuracy and Time taken for execution', fontsize=13)\n",
        "color = 'tab:green'\n",
        "ax1.set_xlabel('Model', fontsize=13)\n",
        "ax1.set_ylabel('Time taken', fontsize=13, color=color)\n",
        "ax2 = sns.barplot(x='Model', y='Time taken', data = data, palette='summer')\n",
        "ax1.tick_params(axis='y')\n",
        "ax2 = ax1.twinx()\n",
        "color = 'tab:red'\n",
        "ax2.set_ylabel('Accuracy', fontsize=13, color=color)\n",
        "ax2 = sns.lineplot(x='Model', y='Accuracy', data = data, sort=False, color=color)\n",
        "ax2.tick_params(axis='y', color=color)"
      ],
      "metadata": {
        "colab": {
          "base_uri": "https://localhost:8080/",
          "height": 625
        },
        "id": "I8BxlsEGb2Jz",
        "outputId": "49f7ba4a-df8e-442f-f3cf-fc599cc549c9"
      },
      "execution_count": null,
      "outputs": [
        {
          "output_type": "display_data",
          "data": {
            "text/plain": [
              "<Figure size 864x720 with 2 Axes>"
            ],
            "image/png": "[encoded data removed]"
          },
          "metadata": {
            "needs_background": "light"
          }
        }
      ]
    },
    {
      "cell_type": "markdown",
      "source": [
        "* Với bài toán Behavior Scoring, chúng ta nên chú trọng vào việc giảm số lượng sai lầm loại II (FN) mà mô hình phán đoán được. Những khách hàng thuộc sai lầm loại II về thực tế họ đã chưa thanh toán nhưng mô hình dự đoán những khách hàng này đã thanh toán theo đúng kỳ hạn. Xét theo góc độ tín dụng, nếu KH trả lãi không đủ và đúng hạn thì điểm tín dụng của KH sẽ thấp, nhảy nhóm nợ trên hệ thống tin tín dụng quốc gia CIC, điều này sẽ gây khó khăn cho các khoản vay tiếp theo của KH vì để có một CIC đẹp là người đã từng vay và trả lãi đúng hạn nên sai lầm loại II (FN) có tính chất nghiêm trọng hơn.\n",
        "* Do đó,  ngoài việc lựa chọn mô hình tốt, chúng ta cũng cần lựa chọn những mô hình có các TH thuộc sai lầm loại II là thấp nhất.\n",
        "* Dựa vào đồ thị trên kết hợp với confusion matrix của các mô hình đã huấn luyện ở trên thì hiệu suất của mô hình XGB với `booster = gbtree` cho độ chính xác tốt nhất 81.5%  và không cần không quá nhiều thời gian để huấn luyện mô hình (mất 31.8s) và có số lượng sai lầm loại II thấp nhất (355), nên chúng ta sẽ chọn mô hình này làm mô hình cuối cùng để áp dụng vào bài toán này!"
      ],
      "metadata": {
        "id": "D747pFGYibvb"
      }
    },
    {
      "cell_type": "markdown",
      "source": [
        "#GridSearchCV"
      ],
      "metadata": {
        "id": "9RHMy8wCKv6p"
      }
    },
    {
      "cell_type": "code",
      "source": [
        "from sklearn.model_selection import StratifiedKFold\n",
        "kfold=StratifiedKFold(n_splits=5, shuffle=True, random_state=42)"
      ],
      "metadata": {
        "id": "po47ot4bR0pe"
      },
      "execution_count": null,
      "outputs": []
    },
    {
      "cell_type": "code",
      "source": [
        "def grid_search(params, random=False): \n",
        "    \n",
        "    xgb = XGBClassifier(booster='gbtree', objective='binary:logistic', random_state=2)\n",
        "    \n",
        "    kfold = StratifiedKFold(n_splits=5, shuffle=True, random_state=2)\n",
        "    \n",
        "    if random:\n",
        "        grid = RandomizedSearchCV(xgb, params, cv=kfold, n_iter=20, n_jobs=-1, random_state=2)\n",
        "    else:\n",
        "        # Instantiate GridSearchCV as grid_reg\n",
        "        grid = GridSearchCV(xgb, params, cv=kfold, n_jobs=-1)\n",
        "    \n",
        "    # Fit grid_reg on X_train and y_train\n",
        "    grid.fit(X, y)\n",
        "\n",
        "    # Extract best params\n",
        "    best_params = grid.best_params_\n",
        "\n",
        "    # Print best params\n",
        "    print(\"Best params:\", best_params)\n",
        "    \n",
        "    # Compute best score\n",
        "    best_score = grid.best_score_\n",
        "\n",
        "    # Print best score\n",
        "    print(\"Best score: {:.5f}\".format(best_score))"
      ],
      "metadata": {
        "id": "qGFKJM6XSs8n"
      },
      "execution_count": null,
      "outputs": []
    },
    {
      "cell_type": "code",
      "source": [
        "# Tìm n_estimators phù hợp cho bài toán bằng cách sử dụng early_stop\n",
        "model = XGBClassifier(booster='gbtree', objective='binary:logistic', random_state=2, n_estimators=5000)\n",
        "eval_set = [(X_test, y_test)]\n",
        "eval_metric=\"error\" # 'error' cho bài toán phân loại, 'rmse' cho bài toán hồi quy\n",
        "model.fit(X_train_smote, y_train_smote, eval_metric=eval_metric, eval_set=eval_set, early_stopping_rounds=100)\n",
        "y_pred = model.predict(X_test)\n",
        "accuracy = accuracy_score(y_test, y_pred)\n",
        "print(\"Accuracy: %.2f%%\" % (accuracy * 100.0))"
      ],
      "metadata": {
        "colab": {
          "base_uri": "https://localhost:8080/"
        },
        "id": "CgMQyt7-UUZ8",
        "outputId": "e30c3a15-6473-4ef5-ccb1-805d3c5b644b"
      },
      "execution_count": null,
      "outputs": [
        {
          "output_type": "stream",
          "name": "stdout",
          "text": [
            "[0]\tvalidation_0-error:0.251667\n",
            "Will train until validation_0-error hasn't improved in 100 rounds.\n",
            "[1]\tvalidation_0-error:0.251667\n",
            "[2]\tvalidation_0-error:0.242333\n",
            "[3]\tvalidation_0-error:0.251667\n",
            "[4]\tvalidation_0-error:0.2415\n",
            "[5]\tvalidation_0-error:0.239\n",
            "[6]\tvalidation_0-error:0.239167\n",
            "[7]\tvalidation_0-error:0.240667\n",
            "[8]\tvalidation_0-error:0.2405\n",
            "[9]\tvalidation_0-error:0.241667\n",
            "[10]\tvalidation_0-error:0.234333\n",
            "[11]\tvalidation_0-error:0.233833\n",
            "[12]\tvalidation_0-error:0.233833\n",
            "[13]\tvalidation_0-error:0.234\n",
            "[14]\tvalidation_0-error:0.234667\n",
            "[15]\tvalidation_0-error:0.240167\n",
            "[16]\tvalidation_0-error:0.236167\n",
            "[17]\tvalidation_0-error:0.236167\n",
            "[18]\tvalidation_0-error:0.236\n",
            "[19]\tvalidation_0-error:0.234167\n",
            "[20]\tvalidation_0-error:0.233167\n",
            "[21]\tvalidation_0-error:0.231833\n",
            "[22]\tvalidation_0-error:0.231833\n",
            "[23]\tvalidation_0-error:0.232833\n",
            "[24]\tvalidation_0-error:0.230667\n",
            "[25]\tvalidation_0-error:0.23\n",
            "[26]\tvalidation_0-error:0.229167\n",
            "[27]\tvalidation_0-error:0.228\n",
            "[28]\tvalidation_0-error:0.228333\n",
            "[29]\tvalidation_0-error:0.2285\n",
            "[30]\tvalidation_0-error:0.229667\n",
            "[31]\tvalidation_0-error:0.228\n",
            "[32]\tvalidation_0-error:0.227\n",
            "[33]\tvalidation_0-error:0.227667\n",
            "[34]\tvalidation_0-error:0.226833\n",
            "[35]\tvalidation_0-error:0.226667\n",
            "[36]\tvalidation_0-error:0.226167\n",
            "[37]\tvalidation_0-error:0.227667\n",
            "[38]\tvalidation_0-error:0.229\n",
            "[39]\tvalidation_0-error:0.228333\n",
            "[40]\tvalidation_0-error:0.228333\n",
            "[41]\tvalidation_0-error:0.228\n",
            "[42]\tvalidation_0-error:0.227833\n",
            "[43]\tvalidation_0-error:0.228167\n",
            "[44]\tvalidation_0-error:0.229833\n",
            "[45]\tvalidation_0-error:0.229833\n",
            "[46]\tvalidation_0-error:0.229667\n",
            "[47]\tvalidation_0-error:0.23\n",
            "[48]\tvalidation_0-error:0.2295\n",
            "[49]\tvalidation_0-error:0.229333\n",
            "[50]\tvalidation_0-error:0.230167\n",
            "[51]\tvalidation_0-error:0.227667\n",
            "[52]\tvalidation_0-error:0.227\n",
            "[53]\tvalidation_0-error:0.226\n",
            "[54]\tvalidation_0-error:0.2275\n",
            "[55]\tvalidation_0-error:0.227667\n",
            "[56]\tvalidation_0-error:0.227333\n",
            "[57]\tvalidation_0-error:0.227167\n",
            "[58]\tvalidation_0-error:0.225333\n",
            "[59]\tvalidation_0-error:0.225\n",
            "[60]\tvalidation_0-error:0.225167\n",
            "[61]\tvalidation_0-error:0.223\n",
            "[62]\tvalidation_0-error:0.222833\n",
            "[63]\tvalidation_0-error:0.222667\n",
            "[64]\tvalidation_0-error:0.222\n",
            "[65]\tvalidation_0-error:0.220667\n",
            "[66]\tvalidation_0-error:0.219667\n",
            "[67]\tvalidation_0-error:0.218833\n",
            "[68]\tvalidation_0-error:0.218833\n",
            "[69]\tvalidation_0-error:0.2185\n",
            "[70]\tvalidation_0-error:0.218\n",
            "[71]\tvalidation_0-error:0.218333\n",
            "[72]\tvalidation_0-error:0.218333\n",
            "[73]\tvalidation_0-error:0.2185\n",
            "[74]\tvalidation_0-error:0.218333\n",
            "[75]\tvalidation_0-error:0.219\n",
            "[76]\tvalidation_0-error:0.218167\n",
            "[77]\tvalidation_0-error:0.217833\n",
            "[78]\tvalidation_0-error:0.218333\n",
            "[79]\tvalidation_0-error:0.217167\n",
            "[80]\tvalidation_0-error:0.2165\n",
            "[81]\tvalidation_0-error:0.2175\n",
            "[82]\tvalidation_0-error:0.217\n",
            "[83]\tvalidation_0-error:0.216333\n",
            "[84]\tvalidation_0-error:0.215833\n",
            "[85]\tvalidation_0-error:0.215167\n",
            "[86]\tvalidation_0-error:0.215667\n",
            "[87]\tvalidation_0-error:0.216333\n",
            "[88]\tvalidation_0-error:0.216833\n",
            "[89]\tvalidation_0-error:0.216833\n",
            "[90]\tvalidation_0-error:0.215333\n",
            "[91]\tvalidation_0-error:0.214167\n",
            "[92]\tvalidation_0-error:0.214833\n",
            "[93]\tvalidation_0-error:0.215333\n",
            "[94]\tvalidation_0-error:0.215833\n",
            "[95]\tvalidation_0-error:0.215333\n",
            "[96]\tvalidation_0-error:0.214167\n",
            "[97]\tvalidation_0-error:0.215667\n",
            "[98]\tvalidation_0-error:0.2155\n",
            "[99]\tvalidation_0-error:0.215333\n",
            "[100]\tvalidation_0-error:0.214167\n",
            "[101]\tvalidation_0-error:0.214167\n",
            "[102]\tvalidation_0-error:0.213333\n",
            "[103]\tvalidation_0-error:0.214\n",
            "[104]\tvalidation_0-error:0.214\n",
            "[105]\tvalidation_0-error:0.213833\n",
            "[106]\tvalidation_0-error:0.213833\n",
            "[107]\tvalidation_0-error:0.214\n",
            "[108]\tvalidation_0-error:0.212833\n",
            "[109]\tvalidation_0-error:0.2125\n",
            "[110]\tvalidation_0-error:0.212167\n",
            "[111]\tvalidation_0-error:0.213\n",
            "[112]\tvalidation_0-error:0.212333\n",
            "[113]\tvalidation_0-error:0.212333\n",
            "[114]\tvalidation_0-error:0.210833\n",
            "[115]\tvalidation_0-error:0.2105\n",
            "[116]\tvalidation_0-error:0.211333\n",
            "[117]\tvalidation_0-error:0.211167\n",
            "[118]\tvalidation_0-error:0.210833\n",
            "[119]\tvalidation_0-error:0.211167\n",
            "[120]\tvalidation_0-error:0.211333\n",
            "[121]\tvalidation_0-error:0.210333\n",
            "[122]\tvalidation_0-error:0.210333\n",
            "[123]\tvalidation_0-error:0.210167\n",
            "[124]\tvalidation_0-error:0.210333\n",
            "[125]\tvalidation_0-error:0.210167\n",
            "[126]\tvalidation_0-error:0.211333\n",
            "[127]\tvalidation_0-error:0.211\n",
            "[128]\tvalidation_0-error:0.211\n",
            "[129]\tvalidation_0-error:0.21\n",
            "[130]\tvalidation_0-error:0.2105\n",
            "[131]\tvalidation_0-error:0.210167\n",
            "[132]\tvalidation_0-error:0.2105\n",
            "[133]\tvalidation_0-error:0.2105\n",
            "[134]\tvalidation_0-error:0.210333\n",
            "[135]\tvalidation_0-error:0.210333\n",
            "[136]\tvalidation_0-error:0.2095\n",
            "[137]\tvalidation_0-error:0.2095\n",
            "[138]\tvalidation_0-error:0.209\n",
            "[139]\tvalidation_0-error:0.209333\n",
            "[140]\tvalidation_0-error:0.2095\n",
            "[141]\tvalidation_0-error:0.209167\n",
            "[142]\tvalidation_0-error:0.209167\n",
            "[143]\tvalidation_0-error:0.2095\n",
            "[144]\tvalidation_0-error:0.209667\n",
            "[145]\tvalidation_0-error:0.209333\n",
            "[146]\tvalidation_0-error:0.208833\n",
            "[147]\tvalidation_0-error:0.208667\n",
            "[148]\tvalidation_0-error:0.209\n",
            "[149]\tvalidation_0-error:0.2095\n",
            "[150]\tvalidation_0-error:0.207833\n",
            "[151]\tvalidation_0-error:0.208333\n",
            "[152]\tvalidation_0-error:0.208333\n",
            "[153]\tvalidation_0-error:0.208333\n",
            "[154]\tvalidation_0-error:0.207333\n",
            "[155]\tvalidation_0-error:0.207\n",
            "[156]\tvalidation_0-error:0.207333\n",
            "[157]\tvalidation_0-error:0.207\n",
            "[158]\tvalidation_0-error:0.207\n",
            "[159]\tvalidation_0-error:0.2065\n",
            "[160]\tvalidation_0-error:0.206333\n",
            "[161]\tvalidation_0-error:0.206333\n",
            "[162]\tvalidation_0-error:0.206167\n",
            "[163]\tvalidation_0-error:0.206167\n",
            "[164]\tvalidation_0-error:0.206167\n",
            "[165]\tvalidation_0-error:0.206167\n",
            "[166]\tvalidation_0-error:0.206\n",
            "[167]\tvalidation_0-error:0.207\n",
            "[168]\tvalidation_0-error:0.207\n",
            "[169]\tvalidation_0-error:0.206833\n",
            "[170]\tvalidation_0-error:0.207\n",
            "[171]\tvalidation_0-error:0.206667\n",
            "[172]\tvalidation_0-error:0.2075\n",
            "[173]\tvalidation_0-error:0.207\n",
            "[174]\tvalidation_0-error:0.207167\n",
            "[175]\tvalidation_0-error:0.206667\n",
            "[176]\tvalidation_0-error:0.2065\n",
            "[177]\tvalidation_0-error:0.205833\n",
            "[178]\tvalidation_0-error:0.2055\n",
            "[179]\tvalidation_0-error:0.204833\n",
            "[180]\tvalidation_0-error:0.204833\n",
            "[181]\tvalidation_0-error:0.204333\n",
            "[182]\tvalidation_0-error:0.204167\n",
            "[183]\tvalidation_0-error:0.204167\n",
            "[184]\tvalidation_0-error:0.204667\n",
            "[185]\tvalidation_0-error:0.2045\n",
            "[186]\tvalidation_0-error:0.204167\n",
            "[187]\tvalidation_0-error:0.204333\n",
            "[188]\tvalidation_0-error:0.2045\n",
            "[189]\tvalidation_0-error:0.2045\n",
            "[190]\tvalidation_0-error:0.204833\n",
            "[191]\tvalidation_0-error:0.204833\n",
            "[192]\tvalidation_0-error:0.2045\n",
            "[193]\tvalidation_0-error:0.203833\n",
            "[194]\tvalidation_0-error:0.204167\n",
            "[195]\tvalidation_0-error:0.204\n",
            "[196]\tvalidation_0-error:0.203833\n",
            "[197]\tvalidation_0-error:0.203667\n",
            "[198]\tvalidation_0-error:0.203667\n",
            "[199]\tvalidation_0-error:0.204\n",
            "[200]\tvalidation_0-error:0.203833\n",
            "[201]\tvalidation_0-error:0.203\n",
            "[202]\tvalidation_0-error:0.203167\n",
            "[203]\tvalidation_0-error:0.202667\n",
            "[204]\tvalidation_0-error:0.203\n",
            "[205]\tvalidation_0-error:0.204\n",
            "[206]\tvalidation_0-error:0.204\n",
            "[207]\tvalidation_0-error:0.203667\n",
            "[208]\tvalidation_0-error:0.203833\n",
            "[209]\tvalidation_0-error:0.203333\n",
            "[210]\tvalidation_0-error:0.2025\n",
            "[211]\tvalidation_0-error:0.202667\n",
            "[212]\tvalidation_0-error:0.202833\n",
            "[213]\tvalidation_0-error:0.202667\n",
            "[214]\tvalidation_0-error:0.202833\n",
            "[215]\tvalidation_0-error:0.203\n",
            "[216]\tvalidation_0-error:0.2035\n",
            "[217]\tvalidation_0-error:0.2025\n",
            "[218]\tvalidation_0-error:0.203333\n",
            "[219]\tvalidation_0-error:0.203167\n",
            "[220]\tvalidation_0-error:0.2015\n",
            "[221]\tvalidation_0-error:0.201667\n",
            "[222]\tvalidation_0-error:0.201833\n",
            "[223]\tvalidation_0-error:0.201833\n",
            "[224]\tvalidation_0-error:0.201167\n",
            "[225]\tvalidation_0-error:0.200833\n",
            "[226]\tvalidation_0-error:0.200833\n",
            "[227]\tvalidation_0-error:0.200333\n",
            "[228]\tvalidation_0-error:0.200167\n",
            "[229]\tvalidation_0-error:0.200167\n",
            "[230]\tvalidation_0-error:0.2\n",
            "[231]\tvalidation_0-error:0.199167\n",
            "[232]\tvalidation_0-error:0.2\n",
            "[233]\tvalidation_0-error:0.199833\n",
            "[234]\tvalidation_0-error:0.1995\n",
            "[235]\tvalidation_0-error:0.198833\n",
            "[236]\tvalidation_0-error:0.199167\n",
            "[237]\tvalidation_0-error:0.1985\n",
            "[238]\tvalidation_0-error:0.199\n",
            "[239]\tvalidation_0-error:0.199\n",
            "[240]\tvalidation_0-error:0.199\n",
            "[241]\tvalidation_0-error:0.1985\n",
            "[242]\tvalidation_0-error:0.197833\n",
            "[243]\tvalidation_0-error:0.198\n",
            "[244]\tvalidation_0-error:0.197667\n",
            "[245]\tvalidation_0-error:0.197667\n",
            "[246]\tvalidation_0-error:0.197333\n",
            "[247]\tvalidation_0-error:0.1975\n",
            "[248]\tvalidation_0-error:0.197833\n",
            "[249]\tvalidation_0-error:0.198\n",
            "[250]\tvalidation_0-error:0.1975\n",
            "[251]\tvalidation_0-error:0.196\n",
            "[252]\tvalidation_0-error:0.196\n",
            "[253]\tvalidation_0-error:0.195833\n",
            "[254]\tvalidation_0-error:0.195833\n",
            "[255]\tvalidation_0-error:0.195667\n",
            "[256]\tvalidation_0-error:0.196167\n",
            "[257]\tvalidation_0-error:0.196333\n",
            "[258]\tvalidation_0-error:0.195667\n",
            "[259]\tvalidation_0-error:0.196167\n",
            "[260]\tvalidation_0-error:0.195833\n",
            "[261]\tvalidation_0-error:0.196\n",
            "[262]\tvalidation_0-error:0.196\n",
            "[263]\tvalidation_0-error:0.196167\n",
            "[264]\tvalidation_0-error:0.1965\n",
            "[265]\tvalidation_0-error:0.196333\n",
            "[266]\tvalidation_0-error:0.196167\n",
            "[267]\tvalidation_0-error:0.196167\n",
            "[268]\tvalidation_0-error:0.194833\n",
            "[269]\tvalidation_0-error:0.194\n",
            "[270]\tvalidation_0-error:0.194333\n",
            "[271]\tvalidation_0-error:0.194333\n",
            "[272]\tvalidation_0-error:0.194833\n",
            "[273]\tvalidation_0-error:0.194\n",
            "[274]\tvalidation_0-error:0.193333\n",
            "[275]\tvalidation_0-error:0.193333\n",
            "[276]\tvalidation_0-error:0.193\n",
            "[277]\tvalidation_0-error:0.192833\n",
            "[278]\tvalidation_0-error:0.1935\n",
            "[279]\tvalidation_0-error:0.193667\n",
            "[280]\tvalidation_0-error:0.192833\n",
            "[281]\tvalidation_0-error:0.192667\n",
            "[282]\tvalidation_0-error:0.192667\n",
            "[283]\tvalidation_0-error:0.191833\n",
            "[284]\tvalidation_0-error:0.1915\n",
            "[285]\tvalidation_0-error:0.191333\n",
            "[286]\tvalidation_0-error:0.190667\n",
            "[287]\tvalidation_0-error:0.191167\n",
            "[288]\tvalidation_0-error:0.191333\n",
            "[289]\tvalidation_0-error:0.191\n",
            "[290]\tvalidation_0-error:0.191167\n",
            "[291]\tvalidation_0-error:0.1905\n",
            "[292]\tvalidation_0-error:0.190833\n",
            "[293]\tvalidation_0-error:0.191167\n",
            "[294]\tvalidation_0-error:0.191167\n",
            "[295]\tvalidation_0-error:0.191667\n",
            "[296]\tvalidation_0-error:0.191167\n",
            "[297]\tvalidation_0-error:0.191\n",
            "[298]\tvalidation_0-error:0.1905\n",
            "[299]\tvalidation_0-error:0.190333\n",
            "[300]\tvalidation_0-error:0.190167\n",
            "[301]\tvalidation_0-error:0.190333\n",
            "[302]\tvalidation_0-error:0.189667\n",
            "[303]\tvalidation_0-error:0.189833\n",
            "[304]\tvalidation_0-error:0.1895\n",
            "[305]\tvalidation_0-error:0.190333\n",
            "[306]\tvalidation_0-error:0.19\n",
            "[307]\tvalidation_0-error:0.190667\n",
            "[308]\tvalidation_0-error:0.190833\n",
            "[309]\tvalidation_0-error:0.191\n",
            "[310]\tvalidation_0-error:0.191\n",
            "[311]\tvalidation_0-error:0.191\n",
            "[312]\tvalidation_0-error:0.191\n",
            "[313]\tvalidation_0-error:0.190833\n",
            "[314]\tvalidation_0-error:0.191333\n",
            "[315]\tvalidation_0-error:0.191\n",
            "[316]\tvalidation_0-error:0.191\n",
            "[317]\tvalidation_0-error:0.190667\n",
            "[318]\tvalidation_0-error:0.190667\n",
            "[319]\tvalidation_0-error:0.190333\n",
            "[320]\tvalidation_0-error:0.19\n",
            "[321]\tvalidation_0-error:0.189833\n",
            "[322]\tvalidation_0-error:0.190167\n",
            "[323]\tvalidation_0-error:0.189833\n",
            "[324]\tvalidation_0-error:0.189833\n",
            "[325]\tvalidation_0-error:0.1895\n",
            "[326]\tvalidation_0-error:0.19\n",
            "[327]\tvalidation_0-error:0.19\n",
            "[328]\tvalidation_0-error:0.189667\n",
            "[329]\tvalidation_0-error:0.189833\n",
            "[330]\tvalidation_0-error:0.189667\n",
            "[331]\tvalidation_0-error:0.1895\n",
            "[332]\tvalidation_0-error:0.1895\n",
            "[333]\tvalidation_0-error:0.1895\n",
            "[334]\tvalidation_0-error:0.189667\n",
            "[335]\tvalidation_0-error:0.189667\n",
            "[336]\tvalidation_0-error:0.189833\n",
            "[337]\tvalidation_0-error:0.189333\n",
            "[338]\tvalidation_0-error:0.189333\n",
            "[339]\tvalidation_0-error:0.189167\n",
            "[340]\tvalidation_0-error:0.189167\n",
            "[341]\tvalidation_0-error:0.189\n",
            "[342]\tvalidation_0-error:0.189\n",
            "[343]\tvalidation_0-error:0.189333\n",
            "[344]\tvalidation_0-error:0.189333\n",
            "[345]\tvalidation_0-error:0.189333\n",
            "[346]\tvalidation_0-error:0.189667\n",
            "[347]\tvalidation_0-error:0.189167\n",
            "[348]\tvalidation_0-error:0.189167\n",
            "[349]\tvalidation_0-error:0.189167\n",
            "[350]\tvalidation_0-error:0.189167\n",
            "[351]\tvalidation_0-error:0.189\n",
            "[352]\tvalidation_0-error:0.189\n",
            "[353]\tvalidation_0-error:0.188667\n",
            "[354]\tvalidation_0-error:0.188833\n",
            "[355]\tvalidation_0-error:0.189167\n",
            "[356]\tvalidation_0-error:0.189167\n",
            "[357]\tvalidation_0-error:0.189167\n",
            "[358]\tvalidation_0-error:0.189\n",
            "[359]\tvalidation_0-error:0.188833\n",
            "[360]\tvalidation_0-error:0.188833\n",
            "[361]\tvalidation_0-error:0.188333\n",
            "[362]\tvalidation_0-error:0.187667\n",
            "[363]\tvalidation_0-error:0.187833\n",
            "[364]\tvalidation_0-error:0.187833\n",
            "[365]\tvalidation_0-error:0.1875\n",
            "[366]\tvalidation_0-error:0.1875\n",
            "[367]\tvalidation_0-error:0.1875\n",
            "[368]\tvalidation_0-error:0.187667\n",
            "[369]\tvalidation_0-error:0.1875\n",
            "[370]\tvalidation_0-error:0.187833\n",
            "[371]\tvalidation_0-error:0.187833\n",
            "[372]\tvalidation_0-error:0.187833\n",
            "[373]\tvalidation_0-error:0.187833\n",
            "[374]\tvalidation_0-error:0.187667\n",
            "[375]\tvalidation_0-error:0.188\n",
            "[376]\tvalidation_0-error:0.188167\n",
            "[377]\tvalidation_0-error:0.187667\n",
            "[378]\tvalidation_0-error:0.187667\n",
            "[379]\tvalidation_0-error:0.188\n",
            "[380]\tvalidation_0-error:0.188\n",
            "[381]\tvalidation_0-error:0.188\n",
            "[382]\tvalidation_0-error:0.1885\n",
            "[383]\tvalidation_0-error:0.1885\n",
            "[384]\tvalidation_0-error:0.188333\n",
            "[385]\tvalidation_0-error:0.188333\n",
            "[386]\tvalidation_0-error:0.1885\n",
            "[387]\tvalidation_0-error:0.188333\n",
            "[388]\tvalidation_0-error:0.188167\n",
            "[389]\tvalidation_0-error:0.188167\n",
            "[390]\tvalidation_0-error:0.188167\n",
            "[391]\tvalidation_0-error:0.188167\n",
            "[392]\tvalidation_0-error:0.188167\n",
            "[393]\tvalidation_0-error:0.188333\n",
            "[394]\tvalidation_0-error:0.188167\n",
            "[395]\tvalidation_0-error:0.187833\n",
            "[396]\tvalidation_0-error:0.1875\n",
            "[397]\tvalidation_0-error:0.187167\n",
            "[398]\tvalidation_0-error:0.187167\n",
            "[399]\tvalidation_0-error:0.187167\n",
            "[400]\tvalidation_0-error:0.187167\n",
            "[401]\tvalidation_0-error:0.1875\n",
            "[402]\tvalidation_0-error:0.187833\n",
            "[403]\tvalidation_0-error:0.187833\n",
            "[404]\tvalidation_0-error:0.187667\n",
            "[405]\tvalidation_0-error:0.187167\n",
            "[406]\tvalidation_0-error:0.186667\n",
            "[407]\tvalidation_0-error:0.186667\n",
            "[408]\tvalidation_0-error:0.186833\n",
            "[409]\tvalidation_0-error:0.187167\n",
            "[410]\tvalidation_0-error:0.187167\n",
            "[411]\tvalidation_0-error:0.187\n",
            "[412]\tvalidation_0-error:0.187\n",
            "[413]\tvalidation_0-error:0.186833\n",
            "[414]\tvalidation_0-error:0.186833\n",
            "[415]\tvalidation_0-error:0.186667\n",
            "[416]\tvalidation_0-error:0.186833\n",
            "[417]\tvalidation_0-error:0.186667\n",
            "[418]\tvalidation_0-error:0.186667\n",
            "[419]\tvalidation_0-error:0.186667\n",
            "[420]\tvalidation_0-error:0.186333\n",
            "[421]\tvalidation_0-error:0.186333\n",
            "[422]\tvalidation_0-error:0.1865\n",
            "[423]\tvalidation_0-error:0.186333\n",
            "[424]\tvalidation_0-error:0.1865\n",
            "[425]\tvalidation_0-error:0.186333\n",
            "[426]\tvalidation_0-error:0.185667\n",
            "[427]\tvalidation_0-error:0.185833\n",
            "[428]\tvalidation_0-error:0.185333\n",
            "[429]\tvalidation_0-error:0.185333\n",
            "[430]\tvalidation_0-error:0.185333\n",
            "[431]\tvalidation_0-error:0.185333\n",
            "[432]\tvalidation_0-error:0.185333\n",
            "[433]\tvalidation_0-error:0.185167\n",
            "[434]\tvalidation_0-error:0.185\n",
            "[435]\tvalidation_0-error:0.185\n",
            "[436]\tvalidation_0-error:0.185\n",
            "[437]\tvalidation_0-error:0.185\n",
            "[438]\tvalidation_0-error:0.185\n",
            "[439]\tvalidation_0-error:0.184833\n",
            "[440]\tvalidation_0-error:0.185\n",
            "[441]\tvalidation_0-error:0.184833\n",
            "[442]\tvalidation_0-error:0.1845\n",
            "[443]\tvalidation_0-error:0.184667\n",
            "[444]\tvalidation_0-error:0.185167\n",
            "[445]\tvalidation_0-error:0.185167\n",
            "[446]\tvalidation_0-error:0.1845\n",
            "[447]\tvalidation_0-error:0.184833\n",
            "[448]\tvalidation_0-error:0.1845\n",
            "[449]\tvalidation_0-error:0.184333\n",
            "[450]\tvalidation_0-error:0.184333\n",
            "[451]\tvalidation_0-error:0.184667\n",
            "[452]\tvalidation_0-error:0.184833\n",
            "[453]\tvalidation_0-error:0.185\n",
            "[454]\tvalidation_0-error:0.184833\n",
            "[455]\tvalidation_0-error:0.184667\n",
            "[456]\tvalidation_0-error:0.184833\n",
            "[457]\tvalidation_0-error:0.185\n",
            "[458]\tvalidation_0-error:0.1845\n",
            "[459]\tvalidation_0-error:0.185167\n",
            "[460]\tvalidation_0-error:0.185167\n",
            "[461]\tvalidation_0-error:0.185167\n",
            "[462]\tvalidation_0-error:0.185\n",
            "[463]\tvalidation_0-error:0.185\n",
            "[464]\tvalidation_0-error:0.184833\n",
            "[465]\tvalidation_0-error:0.184667\n",
            "[466]\tvalidation_0-error:0.184333\n",
            "[467]\tvalidation_0-error:0.184167\n",
            "[468]\tvalidation_0-error:0.184167\n",
            "[469]\tvalidation_0-error:0.184167\n",
            "[470]\tvalidation_0-error:0.184\n",
            "[471]\tvalidation_0-error:0.184\n",
            "[472]\tvalidation_0-error:0.184\n",
            "[473]\tvalidation_0-error:0.183833\n",
            "[474]\tvalidation_0-error:0.183833\n",
            "[475]\tvalidation_0-error:0.1835\n",
            "[476]\tvalidation_0-error:0.183833\n",
            "[477]\tvalidation_0-error:0.1835\n",
            "[478]\tvalidation_0-error:0.183333\n",
            "[479]\tvalidation_0-error:0.183333\n",
            "[480]\tvalidation_0-error:0.183167\n",
            "[481]\tvalidation_0-error:0.183333\n",
            "[482]\tvalidation_0-error:0.183667\n",
            "[483]\tvalidation_0-error:0.183833\n",
            "[484]\tvalidation_0-error:0.183833\n",
            "[485]\tvalidation_0-error:0.183833\n",
            "[486]\tvalidation_0-error:0.184\n",
            "[487]\tvalidation_0-error:0.184167\n",
            "[488]\tvalidation_0-error:0.184333\n",
            "[489]\tvalidation_0-error:0.184333\n",
            "[490]\tvalidation_0-error:0.184167\n",
            "[491]\tvalidation_0-error:0.184\n",
            "[492]\tvalidation_0-error:0.184167\n",
            "[493]\tvalidation_0-error:0.184333\n",
            "[494]\tvalidation_0-error:0.184167\n",
            "[495]\tvalidation_0-error:0.184667\n",
            "[496]\tvalidation_0-error:0.185\n",
            "[497]\tvalidation_0-error:0.184333\n",
            "[498]\tvalidation_0-error:0.184667\n",
            "[499]\tvalidation_0-error:0.184167\n",
            "[500]\tvalidation_0-error:0.184333\n",
            "[501]\tvalidation_0-error:0.184167\n",
            "[502]\tvalidation_0-error:0.184333\n",
            "[503]\tvalidation_0-error:0.184333\n",
            "[504]\tvalidation_0-error:0.184\n",
            "[505]\tvalidation_0-error:0.184\n",
            "[506]\tvalidation_0-error:0.184\n",
            "[507]\tvalidation_0-error:0.184\n",
            "[508]\tvalidation_0-error:0.184167\n",
            "[509]\tvalidation_0-error:0.184167\n",
            "[510]\tvalidation_0-error:0.184167\n",
            "[511]\tvalidation_0-error:0.184167\n",
            "[512]\tvalidation_0-error:0.184167\n",
            "[513]\tvalidation_0-error:0.184333\n",
            "[514]\tvalidation_0-error:0.184167\n",
            "[515]\tvalidation_0-error:0.184\n",
            "[516]\tvalidation_0-error:0.184\n",
            "[517]\tvalidation_0-error:0.184167\n",
            "[518]\tvalidation_0-error:0.183667\n",
            "[519]\tvalidation_0-error:0.183667\n",
            "[520]\tvalidation_0-error:0.1835\n",
            "[521]\tvalidation_0-error:0.1835\n",
            "[522]\tvalidation_0-error:0.183333\n",
            "[523]\tvalidation_0-error:0.183\n",
            "[524]\tvalidation_0-error:0.183167\n",
            "[525]\tvalidation_0-error:0.183167\n",
            "[526]\tvalidation_0-error:0.183333\n",
            "[527]\tvalidation_0-error:0.183167\n",
            "[528]\tvalidation_0-error:0.183167\n",
            "[529]\tvalidation_0-error:0.183167\n",
            "[530]\tvalidation_0-error:0.183167\n",
            "[531]\tvalidation_0-error:0.183\n",
            "[532]\tvalidation_0-error:0.1835\n",
            "[533]\tvalidation_0-error:0.1835\n",
            "[534]\tvalidation_0-error:0.183667\n",
            "[535]\tvalidation_0-error:0.183667\n",
            "[536]\tvalidation_0-error:0.183833\n",
            "[537]\tvalidation_0-error:0.184\n",
            "[538]\tvalidation_0-error:0.184\n",
            "[539]\tvalidation_0-error:0.184333\n",
            "[540]\tvalidation_0-error:0.184333\n",
            "[541]\tvalidation_0-error:0.184333\n",
            "[542]\tvalidation_0-error:0.184333\n",
            "[543]\tvalidation_0-error:0.1845\n",
            "[544]\tvalidation_0-error:0.184167\n",
            "[545]\tvalidation_0-error:0.184167\n",
            "[546]\tvalidation_0-error:0.184167\n",
            "[547]\tvalidation_0-error:0.184333\n",
            "[548]\tvalidation_0-error:0.1845\n",
            "[549]\tvalidation_0-error:0.1845\n",
            "[550]\tvalidation_0-error:0.1845\n",
            "[551]\tvalidation_0-error:0.1845\n",
            "[552]\tvalidation_0-error:0.1845\n",
            "[553]\tvalidation_0-error:0.1845\n",
            "[554]\tvalidation_0-error:0.1845\n",
            "[555]\tvalidation_0-error:0.1845\n",
            "[556]\tvalidation_0-error:0.184167\n",
            "[557]\tvalidation_0-error:0.184\n",
            "[558]\tvalidation_0-error:0.183833\n",
            "[559]\tvalidation_0-error:0.184\n",
            "[560]\tvalidation_0-error:0.183833\n",
            "[561]\tvalidation_0-error:0.183833\n",
            "[562]\tvalidation_0-error:0.183833\n",
            "[563]\tvalidation_0-error:0.183833\n",
            "[564]\tvalidation_0-error:0.184167\n",
            "[565]\tvalidation_0-error:0.183667\n",
            "[566]\tvalidation_0-error:0.183833\n",
            "[567]\tvalidation_0-error:0.183833\n",
            "[568]\tvalidation_0-error:0.184167\n",
            "[569]\tvalidation_0-error:0.184167\n",
            "[570]\tvalidation_0-error:0.184167\n",
            "[571]\tvalidation_0-error:0.184167\n",
            "[572]\tvalidation_0-error:0.184167\n",
            "[573]\tvalidation_0-error:0.184167\n",
            "[574]\tvalidation_0-error:0.184\n",
            "[575]\tvalidation_0-error:0.184\n",
            "[576]\tvalidation_0-error:0.184\n",
            "[577]\tvalidation_0-error:0.183333\n",
            "[578]\tvalidation_0-error:0.183333\n",
            "[579]\tvalidation_0-error:0.1835\n",
            "[580]\tvalidation_0-error:0.183667\n",
            "[581]\tvalidation_0-error:0.183167\n",
            "[582]\tvalidation_0-error:0.183333\n",
            "[583]\tvalidation_0-error:0.1835\n",
            "[584]\tvalidation_0-error:0.1835\n",
            "[585]\tvalidation_0-error:0.1835\n",
            "[586]\tvalidation_0-error:0.1835\n",
            "[587]\tvalidation_0-error:0.183667\n",
            "[588]\tvalidation_0-error:0.183667\n",
            "[589]\tvalidation_0-error:0.183667\n",
            "[590]\tvalidation_0-error:0.1835\n",
            "[591]\tvalidation_0-error:0.1835\n",
            "[592]\tvalidation_0-error:0.1835\n",
            "[593]\tvalidation_0-error:0.1835\n",
            "[594]\tvalidation_0-error:0.1835\n",
            "[595]\tvalidation_0-error:0.1835\n",
            "[596]\tvalidation_0-error:0.183333\n",
            "[597]\tvalidation_0-error:0.183667\n",
            "[598]\tvalidation_0-error:0.1835\n",
            "[599]\tvalidation_0-error:0.184\n",
            "[600]\tvalidation_0-error:0.184\n",
            "[601]\tvalidation_0-error:0.184\n",
            "[602]\tvalidation_0-error:0.184\n",
            "[603]\tvalidation_0-error:0.183667\n",
            "[604]\tvalidation_0-error:0.183333\n",
            "[605]\tvalidation_0-error:0.183333\n",
            "[606]\tvalidation_0-error:0.183167\n",
            "[607]\tvalidation_0-error:0.183167\n",
            "[608]\tvalidation_0-error:0.183\n",
            "[609]\tvalidation_0-error:0.183\n",
            "[610]\tvalidation_0-error:0.183\n",
            "[611]\tvalidation_0-error:0.1825\n",
            "[612]\tvalidation_0-error:0.1825\n",
            "[613]\tvalidation_0-error:0.182667\n",
            "[614]\tvalidation_0-error:0.182667\n",
            "[615]\tvalidation_0-error:0.182833\n",
            "[616]\tvalidation_0-error:0.183\n",
            "[617]\tvalidation_0-error:0.182833\n",
            "[618]\tvalidation_0-error:0.182833\n",
            "[619]\tvalidation_0-error:0.182833\n",
            "[620]\tvalidation_0-error:0.182833\n",
            "[621]\tvalidation_0-error:0.1825\n",
            "[622]\tvalidation_0-error:0.181833\n",
            "[623]\tvalidation_0-error:0.181833\n",
            "[624]\tvalidation_0-error:0.181833\n",
            "[625]\tvalidation_0-error:0.181333\n",
            "[626]\tvalidation_0-error:0.181167\n",
            "[627]\tvalidation_0-error:0.181333\n",
            "[628]\tvalidation_0-error:0.181333\n",
            "[629]\tvalidation_0-error:0.1815\n",
            "[630]\tvalidation_0-error:0.1815\n",
            "[631]\tvalidation_0-error:0.1815\n",
            "[632]\tvalidation_0-error:0.1815\n",
            "[633]\tvalidation_0-error:0.181667\n",
            "[634]\tvalidation_0-error:0.181667\n",
            "[635]\tvalidation_0-error:0.1815\n",
            "[636]\tvalidation_0-error:0.181667\n",
            "[637]\tvalidation_0-error:0.181667\n",
            "[638]\tvalidation_0-error:0.182\n",
            "[639]\tvalidation_0-error:0.181833\n",
            "[640]\tvalidation_0-error:0.181833\n",
            "[641]\tvalidation_0-error:0.182\n",
            "[642]\tvalidation_0-error:0.182\n",
            "[643]\tvalidation_0-error:0.182\n",
            "[644]\tvalidation_0-error:0.181667\n",
            "[645]\tvalidation_0-error:0.181667\n",
            "[646]\tvalidation_0-error:0.181667\n",
            "[647]\tvalidation_0-error:0.181667\n",
            "[648]\tvalidation_0-error:0.181833\n",
            "[649]\tvalidation_0-error:0.181833\n",
            "[650]\tvalidation_0-error:0.181833\n",
            "[651]\tvalidation_0-error:0.181667\n",
            "[652]\tvalidation_0-error:0.181833\n",
            "[653]\tvalidation_0-error:0.181833\n",
            "[654]\tvalidation_0-error:0.181667\n",
            "[655]\tvalidation_0-error:0.1815\n",
            "[656]\tvalidation_0-error:0.1815\n",
            "[657]\tvalidation_0-error:0.181333\n",
            "[658]\tvalidation_0-error:0.181333\n",
            "[659]\tvalidation_0-error:0.181333\n",
            "[660]\tvalidation_0-error:0.181667\n",
            "[661]\tvalidation_0-error:0.181667\n",
            "[662]\tvalidation_0-error:0.181667\n",
            "[663]\tvalidation_0-error:0.181167\n",
            "[664]\tvalidation_0-error:0.181\n",
            "[665]\tvalidation_0-error:0.181167\n",
            "[666]\tvalidation_0-error:0.181167\n",
            "[667]\tvalidation_0-error:0.181333\n",
            "[668]\tvalidation_0-error:0.181167\n",
            "[669]\tvalidation_0-error:0.181333\n",
            "[670]\tvalidation_0-error:0.181167\n",
            "[671]\tvalidation_0-error:0.181167\n",
            "[672]\tvalidation_0-error:0.180833\n",
            "[673]\tvalidation_0-error:0.180833\n",
            "[674]\tvalidation_0-error:0.180833\n",
            "[675]\tvalidation_0-error:0.181\n",
            "[676]\tvalidation_0-error:0.180833\n",
            "[677]\tvalidation_0-error:0.181\n",
            "[678]\tvalidation_0-error:0.181\n",
            "[679]\tvalidation_0-error:0.181\n",
            "[680]\tvalidation_0-error:0.181167\n",
            "[681]\tvalidation_0-error:0.181167\n",
            "[682]\tvalidation_0-error:0.181333\n",
            "[683]\tvalidation_0-error:0.181333\n",
            "[684]\tvalidation_0-error:0.181333\n",
            "[685]\tvalidation_0-error:0.181333\n",
            "[686]\tvalidation_0-error:0.181333\n",
            "[687]\tvalidation_0-error:0.181333\n",
            "[688]\tvalidation_0-error:0.181333\n",
            "[689]\tvalidation_0-error:0.181\n",
            "[690]\tvalidation_0-error:0.181167\n",
            "[691]\tvalidation_0-error:0.181333\n",
            "[692]\tvalidation_0-error:0.181333\n",
            "[693]\tvalidation_0-error:0.181333\n",
            "[694]\tvalidation_0-error:0.181333\n",
            "[695]\tvalidation_0-error:0.181667\n",
            "[696]\tvalidation_0-error:0.181667\n",
            "[697]\tvalidation_0-error:0.1815\n",
            "[698]\tvalidation_0-error:0.181333\n",
            "[699]\tvalidation_0-error:0.181333\n",
            "[700]\tvalidation_0-error:0.181\n",
            "[701]\tvalidation_0-error:0.1815\n",
            "[702]\tvalidation_0-error:0.1815\n",
            "[703]\tvalidation_0-error:0.1815\n",
            "[704]\tvalidation_0-error:0.1815\n",
            "[705]\tvalidation_0-error:0.1815\n",
            "[706]\tvalidation_0-error:0.1815\n",
            "[707]\tvalidation_0-error:0.181333\n",
            "[708]\tvalidation_0-error:0.181333\n",
            "[709]\tvalidation_0-error:0.181333\n",
            "[710]\tvalidation_0-error:0.181667\n",
            "[711]\tvalidation_0-error:0.182\n",
            "[712]\tvalidation_0-error:0.181833\n",
            "[713]\tvalidation_0-error:0.182\n",
            "[714]\tvalidation_0-error:0.182333\n",
            "[715]\tvalidation_0-error:0.1825\n",
            "[716]\tvalidation_0-error:0.182333\n",
            "[717]\tvalidation_0-error:0.182667\n",
            "[718]\tvalidation_0-error:0.182667\n",
            "[719]\tvalidation_0-error:0.182667\n",
            "[720]\tvalidation_0-error:0.182667\n",
            "[721]\tvalidation_0-error:0.182833\n",
            "[722]\tvalidation_0-error:0.182667\n",
            "[723]\tvalidation_0-error:0.182667\n",
            "[724]\tvalidation_0-error:0.1825\n",
            "[725]\tvalidation_0-error:0.1825\n",
            "[726]\tvalidation_0-error:0.1825\n",
            "[727]\tvalidation_0-error:0.182667\n",
            "[728]\tvalidation_0-error:0.182833\n",
            "[729]\tvalidation_0-error:0.183\n",
            "[730]\tvalidation_0-error:0.182833\n",
            "[731]\tvalidation_0-error:0.182833\n",
            "[732]\tvalidation_0-error:0.183167\n",
            "[733]\tvalidation_0-error:0.183\n",
            "[734]\tvalidation_0-error:0.182833\n",
            "[735]\tvalidation_0-error:0.183\n",
            "[736]\tvalidation_0-error:0.183\n",
            "[737]\tvalidation_0-error:0.182833\n",
            "[738]\tvalidation_0-error:0.183\n",
            "[739]\tvalidation_0-error:0.183\n",
            "[740]\tvalidation_0-error:0.183\n",
            "[741]\tvalidation_0-error:0.182833\n",
            "[742]\tvalidation_0-error:0.182833\n",
            "[743]\tvalidation_0-error:0.182833\n",
            "[744]\tvalidation_0-error:0.182833\n",
            "[745]\tvalidation_0-error:0.182833\n",
            "[746]\tvalidation_0-error:0.183\n",
            "[747]\tvalidation_0-error:0.183\n",
            "[748]\tvalidation_0-error:0.182667\n",
            "[749]\tvalidation_0-error:0.182833\n",
            "[750]\tvalidation_0-error:0.182833\n",
            "[751]\tvalidation_0-error:0.183\n",
            "[752]\tvalidation_0-error:0.182667\n",
            "[753]\tvalidation_0-error:0.182667\n",
            "[754]\tvalidation_0-error:0.182667\n",
            "[755]\tvalidation_0-error:0.1825\n",
            "[756]\tvalidation_0-error:0.1825\n",
            "[757]\tvalidation_0-error:0.182667\n",
            "[758]\tvalidation_0-error:0.182667\n",
            "[759]\tvalidation_0-error:0.1825\n",
            "[760]\tvalidation_0-error:0.182333\n",
            "[761]\tvalidation_0-error:0.182333\n",
            "[762]\tvalidation_0-error:0.182333\n",
            "[763]\tvalidation_0-error:0.182333\n",
            "[764]\tvalidation_0-error:0.182333\n",
            "[765]\tvalidation_0-error:0.182333\n",
            "[766]\tvalidation_0-error:0.182333\n",
            "[767]\tvalidation_0-error:0.182333\n",
            "[768]\tvalidation_0-error:0.182333\n",
            "[769]\tvalidation_0-error:0.182333\n",
            "[770]\tvalidation_0-error:0.1825\n",
            "[771]\tvalidation_0-error:0.1825\n",
            "[772]\tvalidation_0-error:0.182333\n",
            "Stopping. Best iteration:\n",
            "[672]\tvalidation_0-error:0.180833\n",
            "\n",
            "Accuracy: 81.92%\n"
          ]
        }
      ]
    },
    {
      "cell_type": "markdown",
      "source": [
        "Sau 672 lượt huấn luyện mô hình đã dừng lại và độ chính xác đã cải thiện từ 81.5% lên 81.92%"
      ],
      "metadata": {
        "id": "yFMSscdxVIQq"
      }
    },
    {
      "cell_type": "code",
      "source": [
        "grid_search(params={'n_estimators':[300, 500, 672,800]})"
      ],
      "metadata": {
        "colab": {
          "base_uri": "https://localhost:8080/"
        },
        "id": "cNVJD3N7WAuy",
        "outputId": "3cba025f-9ae8-4acb-e37a-b80663f33c4a"
      },
      "execution_count": null,
      "outputs": [
        {
          "output_type": "stream",
          "name": "stdout",
          "text": [
            "Best params: {'n_estimators': 300}\n",
            "Best score: 0.81957\n"
          ]
        }
      ]
    },
    {
      "cell_type": "code",
      "source": [
        "grid_search(params={'n_estimators':[2, 25, 50, 75, 100,300]})"
      ],
      "metadata": {
        "colab": {
          "base_uri": "https://localhost:8080/"
        },
        "id": "JRDNKo1oYBAr",
        "outputId": "dba180d2-29ec-4e79-d01a-4ee2cb04402b"
      },
      "execution_count": null,
      "outputs": [
        {
          "output_type": "stream",
          "name": "stdout",
          "text": [
            "Best params: {'n_estimators': 75}\n",
            "Best score: 0.82027\n"
          ]
        }
      ]
    },
    {
      "cell_type": "markdown",
      "source": [
        "Giảm max_depth làm cho phương sai giảm => Hạn chế overffiting"
      ],
      "metadata": {
        "id": "pQwsYjJhedyG"
      }
    },
    {
      "cell_type": "code",
      "source": [
        "grid_search(params={'max_depth':[1, 2, 3, 4, 6, 7, 8], \n",
        "                    'n_estimators':[75]})"
      ],
      "metadata": {
        "colab": {
          "base_uri": "https://localhost:8080/"
        },
        "id": "NQ0Z1a9jW6rh",
        "outputId": "7ac06687-df7b-487a-f76b-f5c78c8f0336"
      },
      "execution_count": null,
      "outputs": [
        {
          "output_type": "stream",
          "name": "stdout",
          "text": [
            "Best params: {'max_depth': 4, 'n_estimators': 75}\n",
            "Best score: 0.82153\n"
          ]
        }
      ]
    },
    {
      "cell_type": "code",
      "source": [
        "grid_search(params={'learning_rate':[0.01, 0.05, 0.1, 0.2, 0.3, 0.4, 0.5], \n",
        "                    'max_depth':[3,4,5,6], \n",
        "                    'n_estimators':[75]})"
      ],
      "metadata": {
        "colab": {
          "base_uri": "https://localhost:8080/"
        },
        "id": "C4EiTx_xZNK_",
        "outputId": "8dfd4618-9acf-4dc0-c09e-0232514c7ce7"
      },
      "execution_count": null,
      "outputs": [
        {
          "output_type": "stream",
          "name": "stdout",
          "text": [
            "Best params: {'learning_rate': 0.1, 'max_depth': 4, 'n_estimators': 75}\n",
            "Best score: 0.82153\n"
          ]
        }
      ]
    },
    {
      "cell_type": "code",
      "source": [
        "# Vì điểm số không cải thiện nên chúng ta sẽ grid_search thêm cho siêu tham số\n",
        "# 'min_child_weight': Tổng trọng số cần thiết để chia thành các notes\n",
        "grid_search(params={'min_child_weight':[1, 2, 3, 4, 5],\n",
        "                    'learning_rate': [0.1], \n",
        "                    'max_depth':[4], \n",
        "                    'n_estimators':[75]})"
      ],
      "metadata": {
        "colab": {
          "base_uri": "https://localhost:8080/"
        },
        "id": "wQ1sKNGLafF0",
        "outputId": "77cc3a05-e073-4909-cc1d-3dce8f1d30c9"
      },
      "execution_count": null,
      "outputs": [
        {
          "output_type": "stream",
          "name": "stdout",
          "text": [
            "Best params: {'learning_rate': 0.1, 'max_depth': 4, 'min_child_weight': 1, 'n_estimators': 75}\n",
            "Best score: 0.82153\n"
          ]
        }
      ]
    },
    {
      "cell_type": "code",
      "source": [
        "# Điểm số không cải thiện thêm siêu tham số 'subsample'\n",
        "# % tỷ lệ các quan sát đưa vào huấn luyện mô hình\n",
        "grid_search(params={'subsample':[0.5, 0.6, 0.7, 0.8, 0.9, 1], \n",
        "                    'min_child_weight':[1, 2, 3, 4, 5], \n",
        "                    'learning_rate': [0.1], \n",
        "                    'max_depth':[4], \n",
        "                    'n_estimators':[75]})"
      ],
      "metadata": {
        "colab": {
          "base_uri": "https://localhost:8080/"
        },
        "id": "TLVzJ2bda-CV",
        "outputId": "501e0da7-e123-4378-bfc4-1c2fd3639978"
      },
      "execution_count": null,
      "outputs": [
        {
          "output_type": "stream",
          "name": "stdout",
          "text": [
            "Best params: {'learning_rate': 0.1, 'max_depth': 4, 'min_child_weight': 1, 'n_estimators': 75, 'subsample': 0.5}\n",
            "Best score: 0.82190\n"
          ]
        }
      ]
    },
    {
      "cell_type": "code",
      "source": [
        "#min_child_weight = 1 là giá trị mặc định của mô hình => Chúng ta có thể bỏ qua\n",
        "grid_search(params={'colsample_bynode':[0.5, 0.6, 0.7, 0.8, 0.9, 1], \n",
        "                    'colsample_bylevel':[0.5, 0.6, 0.7, 0.8, 0.9, 1], \n",
        "                    'colsample_bytree':[0.5, 0.6, 0.7, 0.8, 0.9, 1],\n",
        "                    'learning_rate': [0.1],\n",
        "                    'subsample': [0.5],\n",
        "                    'max_depth':[4],\n",
        "                    'n_estimators':[75]})"
      ],
      "metadata": {
        "colab": {
          "base_uri": "https://localhost:8080/"
        },
        "id": "2YYus9NNb5Mc",
        "outputId": "df78039b-3abd-4d15-bbe9-6e4aad485e8d"
      },
      "execution_count": null,
      "outputs": [
        {
          "output_type": "stream",
          "name": "stdout",
          "text": [
            "Best params: {'colsample_bylevel': 1, 'colsample_bynode': 1, 'colsample_bytree': 1, 'learning_rate': 0.1, 'max_depth': 4, 'n_estimators': 75, 'subsample': 0.5}\n",
            "Best score: 0.82190\n"
          ]
        }
      ]
    },
    {
      "cell_type": "code",
      "source": [
        "# Mô hình vẫn không cải thiện thêm độ chính xác\n",
        "grid_search(params={'colsample_bynode':[0.5, 0.6, 0.7, 0.8, 0.9, 1], \n",
        "                    'colsample_bylevel':[0.5, 0.6, 0.7, 0.8, 0.9, 1], \n",
        "                    'colsample_bytree':[0.5, 0.6, 0.7, 0.8, 0.9, 1], \n",
        "                    'max_depth':[4], \n",
        "                    'n_estimators':[75]})"
      ],
      "metadata": {
        "colab": {
          "base_uri": "https://localhost:8080/"
        },
        "id": "kKLe6QDQdWxb",
        "outputId": "5cc9289d-1681-4dc9-fa61-dcc836304a02"
      },
      "execution_count": null,
      "outputs": [
        {
          "output_type": "stream",
          "name": "stdout",
          "text": [
            "Best params: {'colsample_bylevel': 0.8, 'colsample_bynode': 0.8, 'colsample_bytree': 0.7, 'max_depth': 4, 'n_estimators': 75}\n",
            "Best score: 0.82197\n"
          ]
        }
      ]
    },
    {
      "cell_type": "code",
      "source": [
        "grid_search(params={'gamma':[0, 0.01, 0.05, 0.1, 0.5, 1, 2, 3], \n",
        "                    'colsample_bylevel':[0.8], \n",
        "                    'colsample_bytree':[0.7], \n",
        "                    'colsample_bynode':[0.8], \n",
        "                    'max_depth':[4], \n",
        "                    'n_estimators':[75]})"
      ],
      "metadata": {
        "colab": {
          "base_uri": "https://localhost:8080/"
        },
        "id": "6Z-NeVtKb_4J",
        "outputId": "fb5a4042-8586-4087-8212-dd71d4091377"
      },
      "execution_count": null,
      "outputs": [
        {
          "output_type": "stream",
          "name": "stdout",
          "text": [
            "Best params: {'colsample_bylevel': 0.8, 'colsample_bynode': 0.8, 'colsample_bytree': 0.7, 'gamma': 0, 'max_depth': 4, 'n_estimators': 75}\n",
            "Best score: 0.82197\n"
          ]
        }
      ]
    },
    {
      "cell_type": "markdown",
      "source": [
        "Vì điểm tốt nhất của chúng ta sau khi tiến hành GridSearchCV đã giúp cho mô hình cải thiện độ chính xác từ từ 81.5% lên 82.197% (tăng gần 7 điểm phần trăm). Cải thiện tương đối tốt nên chúng ta sẽ dừng việc GridSearch tại đây!"
      ],
      "metadata": {
        "id": "ty_FFyHDnzgL"
      }
    }
  ]
}